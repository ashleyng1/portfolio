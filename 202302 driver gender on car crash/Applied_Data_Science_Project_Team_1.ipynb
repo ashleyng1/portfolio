{
  "nbformat": 4,
  "nbformat_minor": 0,
  "metadata": {
    "colab": {
      "provenance": [],
      "toc_visible": true
    },
    "kernelspec": {
      "name": "python3",
      "display_name": "Python 3"
    },
    "language_info": {
      "name": "python"
    }
  },
  "cells": [
    {
      "cell_type": "markdown",
      "source": [
        "# Applied Data Science Project Milestone 1"
      ],
      "metadata": {
        "id": "mW-I4WgHctUW"
      }
    },
    {
      "cell_type": "markdown",
      "source": [
        "**Team 1:** Indira Aitkulova, Antonio Azevedo, Alex Chae, Ashley Nguyen\n",
        "\n",
        "**Dataset**: Traffic Crash \n",
        "\n",
        "In this Jupyter Notebook, we would like to walk you through our way of exploring and cleaning the data. We would like to investigate traffic crash trends and the forces behind them from 2015 to the present. "
      ],
      "metadata": {
        "id": "5hHVoQtXZsxL"
      }
    },
    {
      "cell_type": "markdown",
      "source": [
        "## Obtaining The Data\n",
        "Our group has chosen to work with one of the provided datasets. Therefore, we downloaded the necessary files from the Brightspace learning management system. Overall, we downloaded 6 files and 4 of them are particular interest for us: \n",
        "*  \"README_Crash Dataset.docx\" - README file that contains information about the dataset\n",
        "*  \"Traffic_Crashes_-_Crashes\" - Crash data shows information about each traffic crash on city streets within the City of Chicago limits and under the jurisdiction of Chicago Police Department (CPD). Data are shown as is from the electronic crash reporting system (E-Crash) at CPD, excluding any personally identifiable information. \n",
        "*  \"Traffic_Crashes_-_People\" - This data contains information about people involved in a crash and if any injuries were sustained. \n",
        "*  \"Traffic_Crashes_-_Vehicles\" - This dataset contains information about vehicles (or units as they are identified in crash reports) involved in a traffic crash. "
      ],
      "metadata": {
        "id": "ZtEyqio7-CH9"
      }
    },
    {
      "cell_type": "markdown",
      "source": [
        "## Reading The Data\n",
        "Before exploring and manipulating data in Python, it needs to be loaded first. Nevertheless, since Google Colab runs all code on an external server, files must be manually uploaded to that server before they can be accessed.\n",
        "\n",
        "To simplify the process, the recommended approach in Google Colab is to upload the data to Google Drive and import it from there. \n",
        "\n",
        "The dataset we are interested in consists of 3 csv files (Traffic_Crashes_-_Crashes.csv, Traffic_Crashes_-_People.csv, and Traffic_Crashes_-_Vehicles.csv). In this section we download all of them. "
      ],
      "metadata": {
        "id": "z8l4h866rILV"
      }
    },
    {
      "cell_type": "code",
      "source": [
        "from google.colab import drive\n",
        "drive.mount('/content/drive')\n",
        "!ls /content/drive/My\\ Drive/Colab\\ Notebooks/Applied\\ Data\\ Science/Project #lists the files and directories in the folder"
      ],
      "metadata": {
        "colab": {
          "base_uri": "https://localhost:8080/"
        },
        "id": "TNm-8ctVBXht",
        "outputId": "a7112056-7390-4fd7-f423-bc1fc023881b"
      },
      "execution_count": null,
      "outputs": [
        {
          "output_type": "stream",
          "name": "stdout",
          "text": [
            "Drive already mounted at /content/drive; to attempt to forcibly remount, call drive.mount(\"/content/drive\", force_remount=True).\n",
            "'Traffic Crash'\n"
          ]
        }
      ]
    },
    {
      "cell_type": "markdown",
      "source": [
        "Also, to ensure further cleaning and data exploration to go smoothly, we need to upload some libraries"
      ],
      "metadata": {
        "id": "tweCqe5rnznp"
      }
    },
    {
      "cell_type": "code",
      "source": [
        "# Import necessary libraries\n",
        "\n",
        "import numpy as np\n",
        "import pandas as pd\n",
        "import datetime\n",
        "import os\n",
        "import random"
      ],
      "metadata": {
        "id": "QxM-QfxCn7NX"
      },
      "execution_count": null,
      "outputs": []
    },
    {
      "cell_type": "markdown",
      "source": [
        "To simplify the process of accessing and reading the data for everyone in the group, we have listed the input paths corresponding to the directories where the files are stored for each teammate."
      ],
      "metadata": {
        "id": "FZHKstuKCkiE"
      }
    },
    {
      "cell_type": "code",
      "source": [
        "#Input pathes\n",
        "#input_path = '/content/drive/My Drive/Colab Notebooks/Applied Data Science/Project/Traffic Crash/'#Indira\n",
        "#input_path = '/content/drive/MyDrive/EY 2022-2023 Junior/Spring 2023/SOCSC-UH 2214 Applied Data Science/project/Traffic Crash/' #Ashley\n",
        "input_path = '/content/drive/MyDrive/Junior Spring/Applied Data Science/Project/Traffic Crash/' #Alex\n",
        "# input_path = '/content/drive/MyDrive/Applied Data Science/Project/Traffic Crash/'  #Antonio"
      ],
      "metadata": {
        "id": "KBu6EAvYCZSR"
      },
      "execution_count": null,
      "outputs": []
    },
    {
      "cell_type": "code",
      "source": [
        "# To read a file, we first load it into a Pandas DataFrame \n",
        "# We use , low_memory=False to prevent Pandas from reading the file in chunks and trying to infer the data types.\n",
        "import pandas as pd\n",
        "crashes = pd.read_csv(input_path + 'Traffic_Crashes_-_Crashes.csv', low_memory=False)\n",
        "vehicles = pd.read_csv(input_path + 'Traffic_Crashes_-_Vehicles.csv', low_memory=False)\n",
        "people = pd.read_csv(input_path + 'Traffic_Crashes_-_People.csv', low_memory=False)"
      ],
      "metadata": {
        "id": "-V7-Oa29ra3k",
        "colab": {
          "base_uri": "https://localhost:8080/",
          "height": 433
        },
        "outputId": "57ccb517-29c3-41c0-db7d-9f9eba861ba5"
      },
      "execution_count": null,
      "outputs": [
        {
          "output_type": "error",
          "ename": "FileNotFoundError",
          "evalue": "ignored",
          "traceback": [
            "\u001b[0;31m---------------------------------------------------------------------------\u001b[0m",
            "\u001b[0;31mFileNotFoundError\u001b[0m                         Traceback (most recent call last)",
            "\u001b[0;32m<ipython-input-47-3707a5c03d14>\u001b[0m in \u001b[0;36m<module>\u001b[0;34m\u001b[0m\n\u001b[1;32m      2\u001b[0m \u001b[0;31m# We use , low_memory=False to prevent Pandas from reading the file in chunks and trying to infer the data types.\u001b[0m\u001b[0;34m\u001b[0m\u001b[0;34m\u001b[0m\u001b[0m\n\u001b[1;32m      3\u001b[0m \u001b[0;32mimport\u001b[0m \u001b[0mpandas\u001b[0m \u001b[0;32mas\u001b[0m \u001b[0mpd\u001b[0m\u001b[0;34m\u001b[0m\u001b[0;34m\u001b[0m\u001b[0m\n\u001b[0;32m----> 4\u001b[0;31m \u001b[0mcrashes\u001b[0m \u001b[0;34m=\u001b[0m \u001b[0mpd\u001b[0m\u001b[0;34m.\u001b[0m\u001b[0mread_csv\u001b[0m\u001b[0;34m(\u001b[0m\u001b[0minput_path\u001b[0m \u001b[0;34m+\u001b[0m \u001b[0;34m'Traffic_Crashes_-_Crashes.csv'\u001b[0m\u001b[0;34m,\u001b[0m \u001b[0mlow_memory\u001b[0m\u001b[0;34m=\u001b[0m\u001b[0;32mFalse\u001b[0m\u001b[0;34m)\u001b[0m\u001b[0;34m\u001b[0m\u001b[0;34m\u001b[0m\u001b[0m\n\u001b[0m\u001b[1;32m      5\u001b[0m \u001b[0mvehicles\u001b[0m \u001b[0;34m=\u001b[0m \u001b[0mpd\u001b[0m\u001b[0;34m.\u001b[0m\u001b[0mread_csv\u001b[0m\u001b[0;34m(\u001b[0m\u001b[0minput_path\u001b[0m \u001b[0;34m+\u001b[0m \u001b[0;34m'Traffic_Crashes_-_Vehicles.csv'\u001b[0m\u001b[0;34m,\u001b[0m \u001b[0mlow_memory\u001b[0m\u001b[0;34m=\u001b[0m\u001b[0;32mFalse\u001b[0m\u001b[0;34m)\u001b[0m\u001b[0;34m\u001b[0m\u001b[0;34m\u001b[0m\u001b[0m\n\u001b[1;32m      6\u001b[0m \u001b[0mpeople\u001b[0m \u001b[0;34m=\u001b[0m \u001b[0mpd\u001b[0m\u001b[0;34m.\u001b[0m\u001b[0mread_csv\u001b[0m\u001b[0;34m(\u001b[0m\u001b[0minput_path\u001b[0m \u001b[0;34m+\u001b[0m \u001b[0;34m'Traffic_Crashes_-_People.csv'\u001b[0m\u001b[0;34m,\u001b[0m \u001b[0mlow_memory\u001b[0m\u001b[0;34m=\u001b[0m\u001b[0;32mFalse\u001b[0m\u001b[0;34m)\u001b[0m\u001b[0;34m\u001b[0m\u001b[0;34m\u001b[0m\u001b[0m\n",
            "\u001b[0;32m/usr/local/lib/python3.9/dist-packages/pandas/util/_decorators.py\u001b[0m in \u001b[0;36mwrapper\u001b[0;34m(*args, **kwargs)\u001b[0m\n\u001b[1;32m    309\u001b[0m                     \u001b[0mstacklevel\u001b[0m\u001b[0;34m=\u001b[0m\u001b[0mstacklevel\u001b[0m\u001b[0;34m,\u001b[0m\u001b[0;34m\u001b[0m\u001b[0;34m\u001b[0m\u001b[0m\n\u001b[1;32m    310\u001b[0m                 )\n\u001b[0;32m--> 311\u001b[0;31m             \u001b[0;32mreturn\u001b[0m \u001b[0mfunc\u001b[0m\u001b[0;34m(\u001b[0m\u001b[0;34m*\u001b[0m\u001b[0margs\u001b[0m\u001b[0;34m,\u001b[0m \u001b[0;34m**\u001b[0m\u001b[0mkwargs\u001b[0m\u001b[0;34m)\u001b[0m\u001b[0;34m\u001b[0m\u001b[0;34m\u001b[0m\u001b[0m\n\u001b[0m\u001b[1;32m    312\u001b[0m \u001b[0;34m\u001b[0m\u001b[0m\n\u001b[1;32m    313\u001b[0m         \u001b[0;32mreturn\u001b[0m \u001b[0mwrapper\u001b[0m\u001b[0;34m\u001b[0m\u001b[0;34m\u001b[0m\u001b[0m\n",
            "\u001b[0;32m/usr/local/lib/python3.9/dist-packages/pandas/io/parsers/readers.py\u001b[0m in \u001b[0;36mread_csv\u001b[0;34m(filepath_or_buffer, sep, delimiter, header, names, index_col, usecols, squeeze, prefix, mangle_dupe_cols, dtype, engine, converters, true_values, false_values, skipinitialspace, skiprows, skipfooter, nrows, na_values, keep_default_na, na_filter, verbose, skip_blank_lines, parse_dates, infer_datetime_format, keep_date_col, date_parser, dayfirst, cache_dates, iterator, chunksize, compression, thousands, decimal, lineterminator, quotechar, quoting, doublequote, escapechar, comment, encoding, encoding_errors, dialect, error_bad_lines, warn_bad_lines, on_bad_lines, delim_whitespace, low_memory, memory_map, float_precision, storage_options)\u001b[0m\n\u001b[1;32m    676\u001b[0m     \u001b[0mkwds\u001b[0m\u001b[0;34m.\u001b[0m\u001b[0mupdate\u001b[0m\u001b[0;34m(\u001b[0m\u001b[0mkwds_defaults\u001b[0m\u001b[0;34m)\u001b[0m\u001b[0;34m\u001b[0m\u001b[0;34m\u001b[0m\u001b[0m\n\u001b[1;32m    677\u001b[0m \u001b[0;34m\u001b[0m\u001b[0m\n\u001b[0;32m--> 678\u001b[0;31m     \u001b[0;32mreturn\u001b[0m \u001b[0m_read\u001b[0m\u001b[0;34m(\u001b[0m\u001b[0mfilepath_or_buffer\u001b[0m\u001b[0;34m,\u001b[0m \u001b[0mkwds\u001b[0m\u001b[0;34m)\u001b[0m\u001b[0;34m\u001b[0m\u001b[0;34m\u001b[0m\u001b[0m\n\u001b[0m\u001b[1;32m    679\u001b[0m \u001b[0;34m\u001b[0m\u001b[0m\n\u001b[1;32m    680\u001b[0m \u001b[0;34m\u001b[0m\u001b[0m\n",
            "\u001b[0;32m/usr/local/lib/python3.9/dist-packages/pandas/io/parsers/readers.py\u001b[0m in \u001b[0;36m_read\u001b[0;34m(filepath_or_buffer, kwds)\u001b[0m\n\u001b[1;32m    573\u001b[0m \u001b[0;34m\u001b[0m\u001b[0m\n\u001b[1;32m    574\u001b[0m     \u001b[0;31m# Create the parser.\u001b[0m\u001b[0;34m\u001b[0m\u001b[0;34m\u001b[0m\u001b[0m\n\u001b[0;32m--> 575\u001b[0;31m     \u001b[0mparser\u001b[0m \u001b[0;34m=\u001b[0m \u001b[0mTextFileReader\u001b[0m\u001b[0;34m(\u001b[0m\u001b[0mfilepath_or_buffer\u001b[0m\u001b[0;34m,\u001b[0m \u001b[0;34m**\u001b[0m\u001b[0mkwds\u001b[0m\u001b[0;34m)\u001b[0m\u001b[0;34m\u001b[0m\u001b[0;34m\u001b[0m\u001b[0m\n\u001b[0m\u001b[1;32m    576\u001b[0m \u001b[0;34m\u001b[0m\u001b[0m\n\u001b[1;32m    577\u001b[0m     \u001b[0;32mif\u001b[0m \u001b[0mchunksize\u001b[0m \u001b[0;32mor\u001b[0m \u001b[0miterator\u001b[0m\u001b[0;34m:\u001b[0m\u001b[0;34m\u001b[0m\u001b[0;34m\u001b[0m\u001b[0m\n",
            "\u001b[0;32m/usr/local/lib/python3.9/dist-packages/pandas/io/parsers/readers.py\u001b[0m in \u001b[0;36m__init__\u001b[0;34m(self, f, engine, **kwds)\u001b[0m\n\u001b[1;32m    930\u001b[0m \u001b[0;34m\u001b[0m\u001b[0m\n\u001b[1;32m    931\u001b[0m         \u001b[0mself\u001b[0m\u001b[0;34m.\u001b[0m\u001b[0mhandles\u001b[0m\u001b[0;34m:\u001b[0m \u001b[0mIOHandles\u001b[0m \u001b[0;34m|\u001b[0m \u001b[0;32mNone\u001b[0m \u001b[0;34m=\u001b[0m \u001b[0;32mNone\u001b[0m\u001b[0;34m\u001b[0m\u001b[0;34m\u001b[0m\u001b[0m\n\u001b[0;32m--> 932\u001b[0;31m         \u001b[0mself\u001b[0m\u001b[0;34m.\u001b[0m\u001b[0m_engine\u001b[0m \u001b[0;34m=\u001b[0m \u001b[0mself\u001b[0m\u001b[0;34m.\u001b[0m\u001b[0m_make_engine\u001b[0m\u001b[0;34m(\u001b[0m\u001b[0mf\u001b[0m\u001b[0;34m,\u001b[0m \u001b[0mself\u001b[0m\u001b[0;34m.\u001b[0m\u001b[0mengine\u001b[0m\u001b[0;34m)\u001b[0m\u001b[0;34m\u001b[0m\u001b[0;34m\u001b[0m\u001b[0m\n\u001b[0m\u001b[1;32m    933\u001b[0m \u001b[0;34m\u001b[0m\u001b[0m\n\u001b[1;32m    934\u001b[0m     \u001b[0;32mdef\u001b[0m \u001b[0mclose\u001b[0m\u001b[0;34m(\u001b[0m\u001b[0mself\u001b[0m\u001b[0;34m)\u001b[0m\u001b[0;34m:\u001b[0m\u001b[0;34m\u001b[0m\u001b[0;34m\u001b[0m\u001b[0m\n",
            "\u001b[0;32m/usr/local/lib/python3.9/dist-packages/pandas/io/parsers/readers.py\u001b[0m in \u001b[0;36m_make_engine\u001b[0;34m(self, f, engine)\u001b[0m\n\u001b[1;32m   1214\u001b[0m             \u001b[0;31m# \"Union[str, PathLike[str], ReadCsvBuffer[bytes], ReadCsvBuffer[str]]\"\u001b[0m\u001b[0;34m\u001b[0m\u001b[0;34m\u001b[0m\u001b[0m\n\u001b[1;32m   1215\u001b[0m             \u001b[0;31m# , \"str\", \"bool\", \"Any\", \"Any\", \"Any\", \"Any\", \"Any\"\u001b[0m\u001b[0;34m\u001b[0m\u001b[0;34m\u001b[0m\u001b[0m\n\u001b[0;32m-> 1216\u001b[0;31m             self.handles = get_handle(  # type: ignore[call-overload]\n\u001b[0m\u001b[1;32m   1217\u001b[0m                 \u001b[0mf\u001b[0m\u001b[0;34m,\u001b[0m\u001b[0;34m\u001b[0m\u001b[0;34m\u001b[0m\u001b[0m\n\u001b[1;32m   1218\u001b[0m                 \u001b[0mmode\u001b[0m\u001b[0;34m,\u001b[0m\u001b[0;34m\u001b[0m\u001b[0;34m\u001b[0m\u001b[0m\n",
            "\u001b[0;32m/usr/local/lib/python3.9/dist-packages/pandas/io/common.py\u001b[0m in \u001b[0;36mget_handle\u001b[0;34m(path_or_buf, mode, encoding, compression, memory_map, is_text, errors, storage_options)\u001b[0m\n\u001b[1;32m    784\u001b[0m         \u001b[0;32mif\u001b[0m \u001b[0mioargs\u001b[0m\u001b[0;34m.\u001b[0m\u001b[0mencoding\u001b[0m \u001b[0;32mand\u001b[0m \u001b[0;34m\"b\"\u001b[0m \u001b[0;32mnot\u001b[0m \u001b[0;32min\u001b[0m \u001b[0mioargs\u001b[0m\u001b[0;34m.\u001b[0m\u001b[0mmode\u001b[0m\u001b[0;34m:\u001b[0m\u001b[0;34m\u001b[0m\u001b[0;34m\u001b[0m\u001b[0m\n\u001b[1;32m    785\u001b[0m             \u001b[0;31m# Encoding\u001b[0m\u001b[0;34m\u001b[0m\u001b[0;34m\u001b[0m\u001b[0m\n\u001b[0;32m--> 786\u001b[0;31m             handle = open(\n\u001b[0m\u001b[1;32m    787\u001b[0m                 \u001b[0mhandle\u001b[0m\u001b[0;34m,\u001b[0m\u001b[0;34m\u001b[0m\u001b[0;34m\u001b[0m\u001b[0m\n\u001b[1;32m    788\u001b[0m                 \u001b[0mioargs\u001b[0m\u001b[0;34m.\u001b[0m\u001b[0mmode\u001b[0m\u001b[0;34m,\u001b[0m\u001b[0;34m\u001b[0m\u001b[0;34m\u001b[0m\u001b[0m\n",
            "\u001b[0;31mFileNotFoundError\u001b[0m: [Errno 2] No such file or directory: '/content/drive/MyDrive/Junior Spring/Applied Data Science/Project/Traffic Crash/Traffic_Crashes_-_Crashes.csv'"
          ]
        }
      ]
    },
    {
      "cell_type": "markdown",
      "source": [
        "To further investigate the three datasets, we look at the columns available. We will use this information further to determine problems and hypothesis."
      ],
      "metadata": {
        "id": "KI6NbdRRMQlU"
      }
    },
    {
      "cell_type": "code",
      "source": [
        "crashes_cols = list(crashes.columns)\n",
        "people_cols = list(people.columns)\n",
        "vehicles_cols = list(vehicles.columns)\n",
        "#To get unique columns across all 3 datasets\n",
        "available_cols = crashes_cols + list(set(people_cols + vehicles_cols) - set(crashes_cols))\n",
        "available_cols"
      ],
      "metadata": {
        "id": "CNRcGfENMP3A"
      },
      "execution_count": null,
      "outputs": []
    },
    {
      "cell_type": "markdown",
      "source": [
        "## Problem Statement & Hypothesis\n",
        "Identifying problems is a crucial first step in data analysis, as it helps to focus the analysis on specific areas that need improvement. Once problems are identified, hypotheses can be formulated to test potential solutions or explanations for the problems observed in the data.Hypothesis formulation is an essential part of data analysis, as it provides a clear direction for further exploration and helps to avoid irrelevant or tangential analyses that do not address the underlying problems."
      ],
      "metadata": {
        "id": "K3iW-ktkH92b"
      }
    },
    {
      "cell_type": "markdown",
      "source": [
        "### Problem Statement \n",
        "We are working with the “Traffic Crash” dataset and therefore, we would like to investigate the relationship between some of the factors related to external conditions, drivers and vehicles, crashes and injuries. In particular, we would like to explore the role of traffic control devices, weather condition, lightning condition, drivers' sex and age, and vehicle types in causing car crashes and predicting injuries and crash type. Moreover, we want to investigate the trends related crashes and injuries across years (2015-2023). \n"
      ],
      "metadata": {
        "id": "2Fbsr7LWYA-x"
      }
    },
    {
      "cell_type": "markdown",
      "source": [
        "### Hypothesis\n",
        "Based on the problems that our group aim to investigate, the hypothesis we target to test are the following:\n",
        "*  Bad weather conditions might be associated with higher number of crashes, higher number of crashes that involve injuries, more severe injuries and higher number of injuries;\n",
        "*  Bad lighting conditions might be associated with higher number of crashes, higher number of crashes that involve injuries, more severe injuries and higher number of injuries;\n",
        "*  Bad device conditions might be associated with higher number of crashes, higher number of crashes that involve injuries, more severe injuries and higher number of injuries;\n",
        "*  Driver's sex might not influence number of crashes, number of crashes that involve injuries, severity of injuries and number of injuries;\n",
        "*  Drivers who are young and old might cause higher number of crashes, higher number of crashes that involve injuries, more intense severity of injuries and higher number of injuries;\n",
        "*  Older vehicles might cause higher number of crashes, higher number of crashes that involve injuries, more intense severity of injuries and higher number of injuries;\n",
        "*  Number of crashes should remain relatively consistent throughtout the years (possibly the numbers were lower during 2019 due to the start of the pandemic).\n"
      ],
      "metadata": {
        "id": "foXfvQSFTxTN"
      }
    },
    {
      "cell_type": "markdown",
      "source": [
        "## Irrelevant Data\n",
        "In this section, we would like to work with the datasets to further explore the problem and hypothesis and include the variables that are necessary for the further analysis and data cleaning"
      ],
      "metadata": {
        "id": "QpVMCVUH8A-3"
      }
    },
    {
      "cell_type": "code",
      "source": [
        "crashes.head(2)"
      ],
      "metadata": {
        "id": "l7wjjKz3AnzS"
      },
      "execution_count": null,
      "outputs": []
    },
    {
      "cell_type": "code",
      "source": [
        "people.head(2)"
      ],
      "metadata": {
        "id": "uhBeRgj0xz3a"
      },
      "execution_count": null,
      "outputs": []
    },
    {
      "cell_type": "code",
      "source": [
        "vehicles.head(2)"
      ],
      "metadata": {
        "id": "BxmpnEOMx07G"
      },
      "execution_count": null,
      "outputs": []
    },
    {
      "cell_type": "markdown",
      "source": [
        "The three data files include various columnns about the details of car crashes in Chicago, Illinois. The first csv file, Crashes, contains information about the car crash itself, the second file, people, contains information about the drivers and passengers involved in the car crash, and the last tile, vehicles, contain information about the vehicles involed in the crash. \n",
        "\n",
        "While the files contain many columns, we will only use some of the columns that are relevant to the scope of our problem statement. Below are the columns that we decided to keep. Information about each column can be found [here](https://docs.google.com/document/d/12f-XbybhaFxzG7a5MYqPNiRkeU6Km4teEMaxYm0cOpA/edit). "
      ],
      "metadata": {
        "id": "z9b0UXYIyAQR"
      }
    },
    {
      "cell_type": "markdown",
      "source": [
        "1st csv file (Crashes) : CRASH_RECORD_ID, CRASH_DATE, device_condition, weather_condition, lighting_condition, crash_type, damage, injuries_total, injuries_fatal, injuries_incapacitating, injuries_non_incapacitating, injuries_reported_not_evident, injuries_no_indication, injuries_unknown\n",
        "\n",
        "2nd csv file (People) : person_id, crash_record_id, sex, age, safety equipment, airbag_deployed, injury_classification\n",
        "\n",
        "3rd csv file (Vehicle) : vehicle_id, crash_record_id, make, model, vehicle_year, vehicle_type"
      ],
      "metadata": {
        "id": "3hCQ9Mv7edFc"
      }
    },
    {
      "cell_type": "code",
      "source": [
        "# Keep only the columns related to the problem statement\n",
        "\n",
        "crashes = crashes.loc[:, ['CRASH_RECORD_ID', 'CRASH_DATE', 'DEVICE_CONDITION', 'WEATHER_CONDITION', 'LIGHTING_CONDITION', 'CRASH_TYPE', 'DAMAGE', 'INJURIES_TOTAL','INJURIES_FATAL', 'INJURIES_INCAPACITATING', 'INJURIES_NON_INCAPACITATING', 'INJURIES_REPORTED_NOT_EVIDENT', 'INJURIES_NO_INDICATION', 'INJURIES_UNKNOWN']]\n",
        "people = people.loc[:, ['PERSON_ID','PERSON_TYPE', 'CRASH_RECORD_ID', 'SEX', 'AGE', 'SAFETY_EQUIPMENT', 'AIRBAG_DEPLOYED', 'INJURY_CLASSIFICATION']]\n",
        "vehicles = vehicles.loc[:, ['VEHICLE_ID', 'CRASH_RECORD_ID', 'MAKE', 'MODEL', 'VEHICLE_YEAR', 'VEHICLE_TYPE']]"
      ],
      "metadata": {
        "id": "3a9PnrHS91Mc"
      },
      "execution_count": null,
      "outputs": []
    },
    {
      "cell_type": "markdown",
      "source": [
        "## Merging The Data\n",
        "Next, we want to merge the three datasets for convenience and further analysis. "
      ],
      "metadata": {
        "id": "hEvRV3RvS1Mp"
      }
    },
    {
      "cell_type": "markdown",
      "source": [
        "According to the ReadMe file, CRASH_RECORD_ID is the column that the datasets should be merged on as it says \"The dataset contains three data files containing information about the vehicle, people, and the crash linked together by a “CRASH_RECORD_ID” field.\"\n",
        "\n",
        "Using an outer join ensures that all records from all three data frames are included in the resulting DataFrame, even if some records are missing in one or more of the original data frames. Some data may be missing or incomplete, but we still want to include as much information as possible in our analysis. After merging, we save the merged file as a separate csv file for convenience."
      ],
      "metadata": {
        "id": "pjAeCyITy3v8"
      }
    },
    {
      "cell_type": "code",
      "source": [
        "# Merging 3 dataframes by the CRASH_RECORD_ID column\n",
        "merged_df = pd.merge(pd.merge(crashes, people, on='CRASH_RECORD_ID', how='outer'), vehicles, on='CRASH_RECORD_ID', how='outer')"
      ],
      "metadata": {
        "id": "lhgQFS5lrt_D"
      },
      "execution_count": null,
      "outputs": []
    },
    {
      "cell_type": "code",
      "source": [
        "# Define the output directory and file name\n",
        "output_directory = \"/ADS_Milestone1/\"\n",
        "filename = 'merged.csv'\n",
        "\n",
        "# Create the directory if it does not exist\n",
        "if not os.path.exists(output_directory):\n",
        "    os.makedirs(output_directory)\n",
        "\n",
        "# Save the DataFrame as a CSV file\n",
        "merged_df.to_csv(\"/content/drive/MyDrive/ADS_Milestone1/merged.csv\", index=False)\n"
      ],
      "metadata": {
        "id": "yBqdKGQotdXE"
      },
      "execution_count": null,
      "outputs": []
    },
    {
      "cell_type": "markdown",
      "source": [
        "## Studying the Data\n",
        "In this section, we want to take a look at data to spot some red flags. "
      ],
      "metadata": {
        "id": "R3aNdfK27oHL"
      }
    },
    {
      "cell_type": "markdown",
      "source": [
        "To simplify the process of accessing and reading the merged data for everyone in the group, we have listed the merged paths corresponding to the directories where the merged file is stored for each teammate.\n",
        "\n",
        "\n"
      ],
      "metadata": {
        "id": "9UoMaxGuproT"
      }
    },
    {
      "cell_type": "code",
      "source": [
        "merged_path = '/content/drive/MyDrive/ADS_Milestone1/merged.csv' #Indira's\n",
        "# merged_path = '/content/drive/MyDrive/Applied Data Science/Project/merged.csv' # Antonio's\n",
        "# merged_path = '/content/drive/MyDrive/Junior Spring/Applied Data Science/Project/merged.csv' # Alex's"
      ],
      "metadata": {
        "id": "IbweAcjUzEyW"
      },
      "execution_count": null,
      "outputs": []
    },
    {
      "cell_type": "code",
      "source": [
        "# Load the merged csv file \n",
        "merged_df = pd.read_csv(merged_path)"
      ],
      "metadata": {
        "id": "i8wGYDETzVqh"
      },
      "execution_count": null,
      "outputs": []
    },
    {
      "cell_type": "code",
      "source": [
        "print(merged_df.shape)\n",
        "merged_df.head()"
      ],
      "metadata": {
        "id": "4EJIQTWu786F",
        "colab": {
          "base_uri": "https://localhost:8080/",
          "height": 578
        },
        "outputId": "748f3e71-f8df-4508-c349-8e98fbcad040"
      },
      "execution_count": null,
      "outputs": [
        {
          "output_type": "stream",
          "name": "stdout",
          "text": [
            "(3207809, 26)\n"
          ]
        },
        {
          "output_type": "execute_result",
          "data": {
            "text/plain": [
              "                                     CRASH_RECORD_ID              CRASH_DATE  \\\n",
              "0  79c7a2ce89f446262efd86df3d72d18b04ba487024b7c4...  03/25/2019 02:43:00 PM   \n",
              "1  79c7a2ce89f446262efd86df3d72d18b04ba487024b7c4...  03/25/2019 02:43:00 PM   \n",
              "2  79c7a2ce89f446262efd86df3d72d18b04ba487024b7c4...  03/25/2019 02:43:00 PM   \n",
              "3  79c7a2ce89f446262efd86df3d72d18b04ba487024b7c4...  03/25/2019 02:43:00 PM   \n",
              "4  79c7a2ce89f446262efd86df3d72d18b04ba487024b7c4...  03/25/2019 02:43:00 PM   \n",
              "\n",
              "       DEVICE_CONDITION WEATHER_CONDITION LIGHTING_CONDITION  \\\n",
              "0  FUNCTIONING PROPERLY             CLEAR           DAYLIGHT   \n",
              "1  FUNCTIONING PROPERLY             CLEAR           DAYLIGHT   \n",
              "2  FUNCTIONING PROPERLY             CLEAR           DAYLIGHT   \n",
              "3  FUNCTIONING PROPERLY             CLEAR           DAYLIGHT   \n",
              "4  FUNCTIONING PROPERLY             CLEAR           DAYLIGHT   \n",
              "\n",
              "                         CRASH_TYPE       DAMAGE  INJURIES_TOTAL  \\\n",
              "0  INJURY AND / OR TOW DUE TO CRASH  OVER $1,500             1.0   \n",
              "1  INJURY AND / OR TOW DUE TO CRASH  OVER $1,500             1.0   \n",
              "2  INJURY AND / OR TOW DUE TO CRASH  OVER $1,500             1.0   \n",
              "3  INJURY AND / OR TOW DUE TO CRASH  OVER $1,500             1.0   \n",
              "4  INJURY AND / OR TOW DUE TO CRASH  OVER $1,500             1.0   \n",
              "\n",
              "   INJURIES_FATAL  INJURIES_INCAPACITATING  ...  SEX   AGE  SAFETY_EQUIPMENT  \\\n",
              "0             0.0                      0.0  ...    F  27.0  SAFETY BELT USED   \n",
              "1             0.0                      0.0  ...    F  27.0  SAFETY BELT USED   \n",
              "2             0.0                      0.0  ...    F  22.0  SAFETY BELT USED   \n",
              "3             0.0                      0.0  ...    F  22.0  SAFETY BELT USED   \n",
              "4             0.0                      0.0  ...    M  56.0  SAFETY BELT USED   \n",
              "\n",
              "   AIRBAG_DEPLOYED    INJURY_CLASSIFICATION VEHICLE_ID  \\\n",
              "0   DID NOT DEPLOY  NO INDICATION OF INJURY   582401.0   \n",
              "1   DID NOT DEPLOY  NO INDICATION OF INJURY   582411.0   \n",
              "2   DID NOT DEPLOY    REPORTED, NOT EVIDENT   582401.0   \n",
              "3   DID NOT DEPLOY    REPORTED, NOT EVIDENT   582411.0   \n",
              "4   DID NOT DEPLOY  NO INDICATION OF INJURY   582401.0   \n",
              "\n",
              "                         MAKE  MODEL VEHICLE_YEAR VEHICLE_TYPE  \n",
              "0                   CHEVROLET  CRUZE       2017.0    PASSENGER  \n",
              "1  TOYOTA MOTOR COMPANY, LTD.  CAMRY       2010.0    PASSENGER  \n",
              "2                   CHEVROLET  CRUZE       2017.0    PASSENGER  \n",
              "3  TOYOTA MOTOR COMPANY, LTD.  CAMRY       2010.0    PASSENGER  \n",
              "4                   CHEVROLET  CRUZE       2017.0    PASSENGER  \n",
              "\n",
              "[5 rows x 26 columns]"
            ],
            "text/html": [
              "\n",
              "  <div id=\"df-6d3d6670-0aa7-4519-9310-b4663fd98af4\">\n",
              "    <div class=\"colab-df-container\">\n",
              "      <div>\n",
              "<style scoped>\n",
              "    .dataframe tbody tr th:only-of-type {\n",
              "        vertical-align: middle;\n",
              "    }\n",
              "\n",
              "    .dataframe tbody tr th {\n",
              "        vertical-align: top;\n",
              "    }\n",
              "\n",
              "    .dataframe thead th {\n",
              "        text-align: right;\n",
              "    }\n",
              "</style>\n",
              "<table border=\"1\" class=\"dataframe\">\n",
              "  <thead>\n",
              "    <tr style=\"text-align: right;\">\n",
              "      <th></th>\n",
              "      <th>CRASH_RECORD_ID</th>\n",
              "      <th>CRASH_DATE</th>\n",
              "      <th>DEVICE_CONDITION</th>\n",
              "      <th>WEATHER_CONDITION</th>\n",
              "      <th>LIGHTING_CONDITION</th>\n",
              "      <th>CRASH_TYPE</th>\n",
              "      <th>DAMAGE</th>\n",
              "      <th>INJURIES_TOTAL</th>\n",
              "      <th>INJURIES_FATAL</th>\n",
              "      <th>INJURIES_INCAPACITATING</th>\n",
              "      <th>...</th>\n",
              "      <th>SEX</th>\n",
              "      <th>AGE</th>\n",
              "      <th>SAFETY_EQUIPMENT</th>\n",
              "      <th>AIRBAG_DEPLOYED</th>\n",
              "      <th>INJURY_CLASSIFICATION</th>\n",
              "      <th>VEHICLE_ID</th>\n",
              "      <th>MAKE</th>\n",
              "      <th>MODEL</th>\n",
              "      <th>VEHICLE_YEAR</th>\n",
              "      <th>VEHICLE_TYPE</th>\n",
              "    </tr>\n",
              "  </thead>\n",
              "  <tbody>\n",
              "    <tr>\n",
              "      <th>0</th>\n",
              "      <td>79c7a2ce89f446262efd86df3d72d18b04ba487024b7c4...</td>\n",
              "      <td>03/25/2019 02:43:00 PM</td>\n",
              "      <td>FUNCTIONING PROPERLY</td>\n",
              "      <td>CLEAR</td>\n",
              "      <td>DAYLIGHT</td>\n",
              "      <td>INJURY AND / OR TOW DUE TO CRASH</td>\n",
              "      <td>OVER $1,500</td>\n",
              "      <td>1.0</td>\n",
              "      <td>0.0</td>\n",
              "      <td>0.0</td>\n",
              "      <td>...</td>\n",
              "      <td>F</td>\n",
              "      <td>27.0</td>\n",
              "      <td>SAFETY BELT USED</td>\n",
              "      <td>DID NOT DEPLOY</td>\n",
              "      <td>NO INDICATION OF INJURY</td>\n",
              "      <td>582401.0</td>\n",
              "      <td>CHEVROLET</td>\n",
              "      <td>CRUZE</td>\n",
              "      <td>2017.0</td>\n",
              "      <td>PASSENGER</td>\n",
              "    </tr>\n",
              "    <tr>\n",
              "      <th>1</th>\n",
              "      <td>79c7a2ce89f446262efd86df3d72d18b04ba487024b7c4...</td>\n",
              "      <td>03/25/2019 02:43:00 PM</td>\n",
              "      <td>FUNCTIONING PROPERLY</td>\n",
              "      <td>CLEAR</td>\n",
              "      <td>DAYLIGHT</td>\n",
              "      <td>INJURY AND / OR TOW DUE TO CRASH</td>\n",
              "      <td>OVER $1,500</td>\n",
              "      <td>1.0</td>\n",
              "      <td>0.0</td>\n",
              "      <td>0.0</td>\n",
              "      <td>...</td>\n",
              "      <td>F</td>\n",
              "      <td>27.0</td>\n",
              "      <td>SAFETY BELT USED</td>\n",
              "      <td>DID NOT DEPLOY</td>\n",
              "      <td>NO INDICATION OF INJURY</td>\n",
              "      <td>582411.0</td>\n",
              "      <td>TOYOTA MOTOR COMPANY, LTD.</td>\n",
              "      <td>CAMRY</td>\n",
              "      <td>2010.0</td>\n",
              "      <td>PASSENGER</td>\n",
              "    </tr>\n",
              "    <tr>\n",
              "      <th>2</th>\n",
              "      <td>79c7a2ce89f446262efd86df3d72d18b04ba487024b7c4...</td>\n",
              "      <td>03/25/2019 02:43:00 PM</td>\n",
              "      <td>FUNCTIONING PROPERLY</td>\n",
              "      <td>CLEAR</td>\n",
              "      <td>DAYLIGHT</td>\n",
              "      <td>INJURY AND / OR TOW DUE TO CRASH</td>\n",
              "      <td>OVER $1,500</td>\n",
              "      <td>1.0</td>\n",
              "      <td>0.0</td>\n",
              "      <td>0.0</td>\n",
              "      <td>...</td>\n",
              "      <td>F</td>\n",
              "      <td>22.0</td>\n",
              "      <td>SAFETY BELT USED</td>\n",
              "      <td>DID NOT DEPLOY</td>\n",
              "      <td>REPORTED, NOT EVIDENT</td>\n",
              "      <td>582401.0</td>\n",
              "      <td>CHEVROLET</td>\n",
              "      <td>CRUZE</td>\n",
              "      <td>2017.0</td>\n",
              "      <td>PASSENGER</td>\n",
              "    </tr>\n",
              "    <tr>\n",
              "      <th>3</th>\n",
              "      <td>79c7a2ce89f446262efd86df3d72d18b04ba487024b7c4...</td>\n",
              "      <td>03/25/2019 02:43:00 PM</td>\n",
              "      <td>FUNCTIONING PROPERLY</td>\n",
              "      <td>CLEAR</td>\n",
              "      <td>DAYLIGHT</td>\n",
              "      <td>INJURY AND / OR TOW DUE TO CRASH</td>\n",
              "      <td>OVER $1,500</td>\n",
              "      <td>1.0</td>\n",
              "      <td>0.0</td>\n",
              "      <td>0.0</td>\n",
              "      <td>...</td>\n",
              "      <td>F</td>\n",
              "      <td>22.0</td>\n",
              "      <td>SAFETY BELT USED</td>\n",
              "      <td>DID NOT DEPLOY</td>\n",
              "      <td>REPORTED, NOT EVIDENT</td>\n",
              "      <td>582411.0</td>\n",
              "      <td>TOYOTA MOTOR COMPANY, LTD.</td>\n",
              "      <td>CAMRY</td>\n",
              "      <td>2010.0</td>\n",
              "      <td>PASSENGER</td>\n",
              "    </tr>\n",
              "    <tr>\n",
              "      <th>4</th>\n",
              "      <td>79c7a2ce89f446262efd86df3d72d18b04ba487024b7c4...</td>\n",
              "      <td>03/25/2019 02:43:00 PM</td>\n",
              "      <td>FUNCTIONING PROPERLY</td>\n",
              "      <td>CLEAR</td>\n",
              "      <td>DAYLIGHT</td>\n",
              "      <td>INJURY AND / OR TOW DUE TO CRASH</td>\n",
              "      <td>OVER $1,500</td>\n",
              "      <td>1.0</td>\n",
              "      <td>0.0</td>\n",
              "      <td>0.0</td>\n",
              "      <td>...</td>\n",
              "      <td>M</td>\n",
              "      <td>56.0</td>\n",
              "      <td>SAFETY BELT USED</td>\n",
              "      <td>DID NOT DEPLOY</td>\n",
              "      <td>NO INDICATION OF INJURY</td>\n",
              "      <td>582401.0</td>\n",
              "      <td>CHEVROLET</td>\n",
              "      <td>CRUZE</td>\n",
              "      <td>2017.0</td>\n",
              "      <td>PASSENGER</td>\n",
              "    </tr>\n",
              "  </tbody>\n",
              "</table>\n",
              "<p>5 rows × 26 columns</p>\n",
              "</div>\n",
              "      <button class=\"colab-df-convert\" onclick=\"convertToInteractive('df-6d3d6670-0aa7-4519-9310-b4663fd98af4')\"\n",
              "              title=\"Convert this dataframe to an interactive table.\"\n",
              "              style=\"display:none;\">\n",
              "        \n",
              "  <svg xmlns=\"http://www.w3.org/2000/svg\" height=\"24px\"viewBox=\"0 0 24 24\"\n",
              "       width=\"24px\">\n",
              "    <path d=\"M0 0h24v24H0V0z\" fill=\"none\"/>\n",
              "    <path d=\"M18.56 5.44l.94 2.06.94-2.06 2.06-.94-2.06-.94-.94-2.06-.94 2.06-2.06.94zm-11 1L8.5 8.5l.94-2.06 2.06-.94-2.06-.94L8.5 2.5l-.94 2.06-2.06.94zm10 10l.94 2.06.94-2.06 2.06-.94-2.06-.94-.94-2.06-.94 2.06-2.06.94z\"/><path d=\"M17.41 7.96l-1.37-1.37c-.4-.4-.92-.59-1.43-.59-.52 0-1.04.2-1.43.59L10.3 9.45l-7.72 7.72c-.78.78-.78 2.05 0 2.83L4 21.41c.39.39.9.59 1.41.59.51 0 1.02-.2 1.41-.59l7.78-7.78 2.81-2.81c.8-.78.8-2.07 0-2.86zM5.41 20L4 18.59l7.72-7.72 1.47 1.35L5.41 20z\"/>\n",
              "  </svg>\n",
              "      </button>\n",
              "      \n",
              "  <style>\n",
              "    .colab-df-container {\n",
              "      display:flex;\n",
              "      flex-wrap:wrap;\n",
              "      gap: 12px;\n",
              "    }\n",
              "\n",
              "    .colab-df-convert {\n",
              "      background-color: #E8F0FE;\n",
              "      border: none;\n",
              "      border-radius: 50%;\n",
              "      cursor: pointer;\n",
              "      display: none;\n",
              "      fill: #1967D2;\n",
              "      height: 32px;\n",
              "      padding: 0 0 0 0;\n",
              "      width: 32px;\n",
              "    }\n",
              "\n",
              "    .colab-df-convert:hover {\n",
              "      background-color: #E2EBFA;\n",
              "      box-shadow: 0px 1px 2px rgba(60, 64, 67, 0.3), 0px 1px 3px 1px rgba(60, 64, 67, 0.15);\n",
              "      fill: #174EA6;\n",
              "    }\n",
              "\n",
              "    [theme=dark] .colab-df-convert {\n",
              "      background-color: #3B4455;\n",
              "      fill: #D2E3FC;\n",
              "    }\n",
              "\n",
              "    [theme=dark] .colab-df-convert:hover {\n",
              "      background-color: #434B5C;\n",
              "      box-shadow: 0px 1px 3px 1px rgba(0, 0, 0, 0.15);\n",
              "      filter: drop-shadow(0px 1px 2px rgba(0, 0, 0, 0.3));\n",
              "      fill: #FFFFFF;\n",
              "    }\n",
              "  </style>\n",
              "\n",
              "      <script>\n",
              "        const buttonEl =\n",
              "          document.querySelector('#df-6d3d6670-0aa7-4519-9310-b4663fd98af4 button.colab-df-convert');\n",
              "        buttonEl.style.display =\n",
              "          google.colab.kernel.accessAllowed ? 'block' : 'none';\n",
              "\n",
              "        async function convertToInteractive(key) {\n",
              "          const element = document.querySelector('#df-6d3d6670-0aa7-4519-9310-b4663fd98af4');\n",
              "          const dataTable =\n",
              "            await google.colab.kernel.invokeFunction('convertToInteractive',\n",
              "                                                     [key], {});\n",
              "          if (!dataTable) return;\n",
              "\n",
              "          const docLinkHtml = 'Like what you see? Visit the ' +\n",
              "            '<a target=\"_blank\" href=https://colab.research.google.com/notebooks/data_table.ipynb>data table notebook</a>'\n",
              "            + ' to learn more about interactive tables.';\n",
              "          element.innerHTML = '';\n",
              "          dataTable['output_type'] = 'display_data';\n",
              "          await google.colab.output.renderOutput(dataTable, element);\n",
              "          const docLink = document.createElement('div');\n",
              "          docLink.innerHTML = docLinkHtml;\n",
              "          element.appendChild(docLink);\n",
              "        }\n",
              "      </script>\n",
              "    </div>\n",
              "  </div>\n",
              "  "
            ]
          },
          "metadata": {},
          "execution_count": 49
        }
      ]
    },
    {
      "cell_type": "markdown",
      "source": [
        "Our dataframe has 3207809 rows. "
      ],
      "metadata": {
        "id": "h8ZHIY746cor"
      }
    },
    {
      "cell_type": "markdown",
      "source": [
        "##Cleaning the data"
      ],
      "metadata": {
        "id": "dHSatppv7Vdu"
      }
    },
    {
      "cell_type": "markdown",
      "source": [
        "### Duplicates"
      ],
      "metadata": {
        "id": "kK1izWkJ8JSX"
      }
    },
    {
      "cell_type": "markdown",
      "source": [
        "First, we will check if there are duplicate rows that represent the same car crash accident. We will do so with the `CRASH_RECORD_ID` column, because the each value in this column must represent only one car crash incident. "
      ],
      "metadata": {
        "id": "vhjrg1i98vkX"
      }
    },
    {
      "cell_type": "code",
      "source": [
        "unique_len = len(merged_df[\"CRASH_RECORD_ID\"].unique())\n",
        "entire_len = len(merged_df[\"CRASH_RECORD_ID\"])\n",
        "\n",
        "print(unique_len, entire_len)\n",
        "print(unique_len == entire_len)"
      ],
      "metadata": {
        "colab": {
          "base_uri": "https://localhost:8080/"
        },
        "id": "9lcLBa9P8K6z",
        "outputId": "731f0d8b-0aa4-4a63-b8f4-8f9a2d297b78"
      },
      "execution_count": null,
      "outputs": [
        {
          "output_type": "stream",
          "name": "stdout",
          "text": [
            "697588 3207809\n",
            "False\n"
          ]
        }
      ]
    },
    {
      "cell_type": "markdown",
      "source": [
        "With the above, code, we see that there are 2,510,221 duplicate rows in our data. However, before deciding whether to remove the duplicates, we will confirm that the duplicated rows are in fact exactly the same. If the `CRASH_RECORD_ID` is the same, columns that represent details about the crash have to be the same as well. Hence, we will see if columns representing people and vehicles are the same as well. "
      ],
      "metadata": {
        "id": "SlikugmLvVaP"
      }
    },
    {
      "cell_type": "code",
      "source": [
        "# we use a portion of the dataframe for this comparison. \n",
        "merged_df[['CRASH_RECORD_ID','SEX', 'AGE']].set_index(\"CRASH_RECORD_ID\").head(10)"
      ],
      "metadata": {
        "id": "6vvyLy_Rveyr"
      },
      "execution_count": null,
      "outputs": []
    },
    {
      "cell_type": "markdown",
      "source": [
        "From inspection, we see that not all the rows are exactly the same. For example, for the first `CRASH_RECORD_ID` shown above, there are 6 rows. But 4 of them have 'F' in `SEX` while 2 of them have 'M'. As such, we can infer that some rows share a `CRASH_RECORD_ID` but represent different people involved in the accident. Hence, we cannot drop all the duplicates of `CRASH_RECORD_ID`. "
      ],
      "metadata": {
        "id": "xvywGm-J86FC"
      }
    },
    {
      "cell_type": "code",
      "source": [
        "merged_df[merged_df.duplicated()]"
      ],
      "metadata": {
        "id": "ZRI0ALPzw98-"
      },
      "execution_count": null,
      "outputs": []
    },
    {
      "cell_type": "markdown",
      "source": [
        "From the above code, we see that nonetheless, 5359 rows are the exact same rows. So we will remove these from the data frame. Now, we have 3,202,450 unique rows in our dataframe. "
      ],
      "metadata": {
        "id": "3hHosMQCxlP0"
      }
    },
    {
      "cell_type": "code",
      "source": [
        "merged_df = merged_df[~merged_df.duplicated()]\n",
        "merged_df.shape"
      ],
      "metadata": {
        "id": "lcWe5NNxxvMw"
      },
      "execution_count": null,
      "outputs": []
    },
    {
      "cell_type": "markdown",
      "source": [
        "### Type Conversion"
      ],
      "metadata": {
        "id": "juHbDOPZ9cGX"
      }
    },
    {
      "cell_type": "markdown",
      "source": [
        "In our dataset, there are two columns which represent a date. `CRASH_DATE` represents the time of the car crash and `VEHICLE_YEAR` represents the year in which the vehicle was made. "
      ],
      "metadata": {
        "id": "YLmXbA00_ial"
      }
    },
    {
      "cell_type": "code",
      "source": [
        "merged_df['CRASH_DATE']"
      ],
      "metadata": {
        "id": "aR7wkcBs_Tsb"
      },
      "execution_count": null,
      "outputs": []
    },
    {
      "cell_type": "code",
      "source": [
        "merged_df['VEHICLE_YEAR']"
      ],
      "metadata": {
        "id": "k34cAaEx_um0"
      },
      "execution_count": null,
      "outputs": []
    },
    {
      "cell_type": "markdown",
      "source": [
        "However, the above inspections show that both columns have the datatypes object and float, respectively. We will first convert the data types to datetime. "
      ],
      "metadata": {
        "id": "EZyNt8-F_8u-"
      }
    },
    {
      "cell_type": "code",
      "source": [
        "merged_df[\"CRASH_DATE\"]=pd.to_datetime(merged_df[\"CRASH_DATE\"], errors= 'ignore')\n",
        "merged_df[\"VEHICLE_YEAR\"]=pd.to_datetime(merged_df[\"VEHICLE_YEAR\"], errors= 'ignore')"
      ],
      "metadata": {
        "id": "CB2tSLn9AEXP"
      },
      "execution_count": null,
      "outputs": []
    },
    {
      "cell_type": "markdown",
      "source": [
        "Now, we can verify that both columns are in datetime type. "
      ],
      "metadata": {
        "id": "xH1O_Qv3BUJQ"
      }
    },
    {
      "cell_type": "code",
      "source": [
        "merged_df[['CRASH_DATE', 'VEHICLE_YEAR']].dtypes"
      ],
      "metadata": {
        "id": "XuSrXci4BPDP"
      },
      "execution_count": null,
      "outputs": []
    },
    {
      "cell_type": "code",
      "source": [
        "merged_df.dtypes"
      ],
      "metadata": {
        "id": "NkdvIahtQU0i"
      },
      "execution_count": null,
      "outputs": []
    },
    {
      "cell_type": "markdown",
      "source": [
        "Other columns do not seem to require type conversion. "
      ],
      "metadata": {
        "id": "at8GUrSSQXWB"
      }
    },
    {
      "cell_type": "markdown",
      "source": [
        "### Missing Values\n"
      ],
      "metadata": {
        "id": "U5uFANhIC3AS"
      }
    },
    {
      "cell_type": "markdown",
      "source": [
        "#### Missing values to None type"
      ],
      "metadata": {
        "id": "7kwSMQGLeuwN"
      }
    },
    {
      "cell_type": "markdown",
      "source": [
        "By inspecting each column, we will check which column contains missing values. "
      ],
      "metadata": {
        "id": "tAl2ZzExDNUF"
      }
    },
    {
      "cell_type": "code",
      "source": [
        "merged_df['DEVICE_CONDITION'].value_counts()"
      ],
      "metadata": {
        "id": "G0E7fGCXBjH3"
      },
      "execution_count": null,
      "outputs": []
    },
    {
      "cell_type": "code",
      "source": [
        "merged_df['WEATHER_CONDITION'].value_counts()"
      ],
      "metadata": {
        "id": "rL0CazEvBo30"
      },
      "execution_count": null,
      "outputs": []
    },
    {
      "cell_type": "code",
      "source": [
        "merged_df['LIGHTING_CONDITION'].value_counts()"
      ],
      "metadata": {
        "id": "5PSb6xbFCIi0"
      },
      "execution_count": null,
      "outputs": []
    },
    {
      "cell_type": "code",
      "source": [
        "merged_df['SAFETY_EQUIPMENT'].value_counts()"
      ],
      "metadata": {
        "id": "XftemxchN1JU"
      },
      "execution_count": null,
      "outputs": []
    },
    {
      "cell_type": "code",
      "source": [
        "merged_df['AIRBAG_DEPLOYED'].value_counts()"
      ],
      "metadata": {
        "id": "GcH-LskpOHOn"
      },
      "execution_count": null,
      "outputs": []
    },
    {
      "cell_type": "markdown",
      "source": [
        "We noticed that some of the values were recorded as string values such as \"UNKNOWN\" or \"MISSING\", when they do not contain any useful information. We will change these values to `None` so that it is easier to deal with missing values during the analysis. "
      ],
      "metadata": {
        "id": "dfLvLBvMN3Du"
      }
    },
    {
      "cell_type": "code",
      "source": [
        "merged_df.loc[merged_df[\"DEVICE_CONDITION\"] == \"UNKNOWN\", \"DEVICE_CONDITION\"] = None\n",
        "merged_df.loc[merged_df[\"DEVICE_CONDITION\"] == \"MISSING\", \"DEVICE_CONDITION\"] = None\n",
        "merged_df.loc[merged_df[\"WEATHER_CONDITION\"] == \"UNKNOWN\", \"WEATHER_CONDITION\"] = None\n",
        "merged_df.loc[merged_df[\"LIGHTING_CONDITION\"] == \"UNKNOWN\", \"LIGHTING_CONDITION\"] = None\n",
        "merged_df.loc[merged_df[\"SAFETY_EQUIPMENT\"] == \"USAGE UNKNOWN\", \"SAFETY_EQUIPMENT\"] = None\n",
        "merged_df.loc[merged_df[\"AIRBAG_DEPLOYED\"] == \"DEPLOYMENT UNKNOWN\", \"AIRBAG_DEPLOYED\"] = None\n",
        "merged_df.loc[merged_df[\"AIRBAG_DEPLOYED\"] == \"NOT APPLICABLE\", \"AIRBAG_DEPLOYED\"] = None"
      ],
      "metadata": {
        "id": "bInjeV-7OpgO"
      },
      "execution_count": null,
      "outputs": []
    },
    {
      "cell_type": "markdown",
      "source": [
        "And below, we verify the results. "
      ],
      "metadata": {
        "id": "b9N-p23OOulB"
      }
    },
    {
      "cell_type": "code",
      "source": [
        "(merged_df['DEVICE_CONDITION'] == 'UNKNOWN').value_counts()"
      ],
      "metadata": {
        "id": "agtCG05IF4iR"
      },
      "execution_count": null,
      "outputs": []
    },
    {
      "cell_type": "code",
      "source": [
        "(merged_df['DEVICE_CONDITION'] == 'MISSING').value_counts()"
      ],
      "metadata": {
        "id": "M2LvZPfXIZR0"
      },
      "execution_count": null,
      "outputs": []
    },
    {
      "cell_type": "code",
      "source": [
        "(merged_df['WEATHER_CONDITION'] == 'UNKNOWN').value_counts()"
      ],
      "metadata": {
        "id": "o9mpkD3sG9oa"
      },
      "execution_count": null,
      "outputs": []
    },
    {
      "cell_type": "code",
      "source": [
        "(merged_df['LIGHTING_CONDITION'] == 'UNKNOWN').value_counts()"
      ],
      "metadata": {
        "id": "0pDoP2BiG9N5"
      },
      "execution_count": null,
      "outputs": []
    },
    {
      "cell_type": "code",
      "source": [
        "(merged_df['SAFETY_EQUIPMENT'] == \"USAGE UNKNOWN\").value_counts()"
      ],
      "metadata": {
        "id": "QG7hKRBUIL6U"
      },
      "execution_count": null,
      "outputs": []
    },
    {
      "cell_type": "code",
      "source": [
        "(merged_df['AIRBAG_DEPLOYED'] == \"DEPLOYMENT UNKNOWN\").value_counts()"
      ],
      "metadata": {
        "id": "udvgRGhQIL3v"
      },
      "execution_count": null,
      "outputs": []
    },
    {
      "cell_type": "code",
      "source": [
        "(merged_df['AIRBAG_DEPLOYED'] == \"NOT APPLICABLE\").value_counts()"
      ],
      "metadata": {
        "id": "pnIrwbCKIdSE"
      },
      "execution_count": null,
      "outputs": []
    },
    {
      "cell_type": "markdown",
      "source": [
        "We further inspect other columns. "
      ],
      "metadata": {
        "id": "YlwfxPRM9cDz"
      }
    },
    {
      "cell_type": "code",
      "source": [
        "merged_df['CRASH_TYPE'].value_counts()"
      ],
      "metadata": {
        "id": "Vm2ParUEOz9X"
      },
      "execution_count": null,
      "outputs": []
    },
    {
      "cell_type": "code",
      "source": [
        "merged_df['DAMAGE'].value_counts()"
      ],
      "metadata": {
        "id": "wQI4G6a5O5Qv"
      },
      "execution_count": null,
      "outputs": []
    },
    {
      "cell_type": "code",
      "source": [
        "merged_df['INJURIES_TOTAL'].value_counts()"
      ],
      "metadata": {
        "id": "nLK1hk29OTvX"
      },
      "execution_count": null,
      "outputs": []
    },
    {
      "cell_type": "code",
      "source": [
        "merged_df['SEX'].value_counts()"
      ],
      "metadata": {
        "id": "XAd-XSGDOVsH"
      },
      "execution_count": null,
      "outputs": []
    },
    {
      "cell_type": "code",
      "source": [
        "merged_df['PERSON_TYPE'].value_counts()"
      ],
      "metadata": {
        "id": "kx939Hq8TTLY"
      },
      "execution_count": null,
      "outputs": []
    },
    {
      "cell_type": "markdown",
      "source": [
        "The above 5 columns do not seem to contain missing information. "
      ],
      "metadata": {
        "id": "nKwCYT6zPIhx"
      }
    },
    {
      "cell_type": "code",
      "source": [
        "merged_df['AGE'].value_counts()"
      ],
      "metadata": {
        "id": "ZUvd9-S0OYHX"
      },
      "execution_count": null,
      "outputs": []
    },
    {
      "cell_type": "markdown",
      "source": [
        "However, the `AGE` column has some values that are below 0. Hence, we will change these values to `None`."
      ],
      "metadata": {
        "id": "6FS-MGrRPQXC"
      }
    },
    {
      "cell_type": "code",
      "source": [
        "merged_df.loc[merged_df[\"AGE\"] < 0, \"AGE\"] = None"
      ],
      "metadata": {
        "id": "QJF1xuTUI9BJ"
      },
      "execution_count": null,
      "outputs": []
    },
    {
      "cell_type": "markdown",
      "source": [
        "We verify the result below by checking that the minimum value of the `AGE` column is equal to or greater than 0. "
      ],
      "metadata": {
        "id": "UW4NxXQJJ8Qw"
      }
    },
    {
      "cell_type": "code",
      "source": [
        "merged_df['AGE'].describe()"
      ],
      "metadata": {
        "id": "mGiKdiw-JaI8"
      },
      "execution_count": null,
      "outputs": []
    },
    {
      "cell_type": "markdown",
      "source": [
        "Moreover, in Chicago, we know that the driving age is 16. Hence, we will examine the data to see if the people in our dataset who are drivers were at least 16-years-old. "
      ],
      "metadata": {
        "id": "n3I8zsFzTwUa"
      }
    },
    {
      "cell_type": "code",
      "source": [
        "merged_df[merged_df['PERSON_TYPE'] == 'DRIVER']['AGE'].describe()"
      ],
      "metadata": {
        "colab": {
          "base_uri": "https://localhost:8080/"
        },
        "id": "BhveJeW_TXde",
        "outputId": "dd99ca23-4cbd-42d9-beac-18c039c399f9"
      },
      "execution_count": null,
      "outputs": [
        {
          "output_type": "execute_result",
          "data": {
            "text/plain": [
              "count    1.822697e+06\n",
              "mean     3.996298e+01\n",
              "std      1.581157e+01\n",
              "min     -1.770000e+02\n",
              "25%      2.700000e+01\n",
              "50%      3.700000e+01\n",
              "75%      5.100000e+01\n",
              "max      1.100000e+02\n",
              "Name: AGE, dtype: float64"
            ]
          },
          "metadata": {},
          "execution_count": 51
        }
      ]
    },
    {
      "cell_type": "markdown",
      "source": [
        "We see above that the minimum value is 0, while the first quartile is 27 years old for the `AGE` column. Hence, there may be age values below 16 in the first quartile. "
      ],
      "metadata": {
        "id": "roPq-5kXUtzV"
      }
    },
    {
      "cell_type": "code",
      "source": [
        "merged_df[merged_df['PERSON_TYPE'] == 'DRIVER'][merged_df['AGE'] < 16]['AGE'].describe()"
      ],
      "metadata": {
        "colab": {
          "base_uri": "https://localhost:8080/"
        },
        "id": "rOVFJEU5UBwE",
        "outputId": "d6fd05c9-9898-41b8-f208-c92ee965b4ef"
      },
      "execution_count": null,
      "outputs": [
        {
          "output_type": "stream",
          "name": "stderr",
          "text": [
            "<ipython-input-52-1f5444baebec>:1: UserWarning: Boolean Series key will be reindexed to match DataFrame index.\n",
            "  merged_df[merged_df['PERSON_TYPE'] == 'DRIVER'][merged_df['AGE'] < 16]['AGE'].describe()\n"
          ]
        },
        {
          "output_type": "execute_result",
          "data": {
            "text/plain": [
              "count    19248.000000\n",
              "mean         1.141469\n",
              "std          4.673036\n",
              "min       -177.000000\n",
              "25%          0.000000\n",
              "50%          0.000000\n",
              "75%          0.000000\n",
              "max         15.000000\n",
              "Name: AGE, dtype: float64"
            ]
          },
          "metadata": {},
          "execution_count": 52
        }
      ]
    },
    {
      "cell_type": "code",
      "source": [
        "len(merged_df[merged_df['PERSON_TYPE'] == 'DRIVER'][merged_df['AGE'] < 16]['AGE'])"
      ],
      "metadata": {
        "colab": {
          "base_uri": "https://localhost:8080/"
        },
        "id": "N6ipDfFkU54v",
        "outputId": "904650b2-a5c2-40e1-cadc-c6a6f9273f35"
      },
      "execution_count": null,
      "outputs": [
        {
          "output_type": "stream",
          "name": "stderr",
          "text": [
            "<ipython-input-53-1ee959703ce1>:1: UserWarning: Boolean Series key will be reindexed to match DataFrame index.\n",
            "  len(merged_df[merged_df['PERSON_TYPE'] == 'DRIVER'][merged_df['AGE'] < 16]['AGE'])\n"
          ]
        },
        {
          "output_type": "execute_result",
          "data": {
            "text/plain": [
              "19248"
            ]
          },
          "metadata": {},
          "execution_count": 53
        }
      ]
    },
    {
      "cell_type": "code",
      "source": [
        "len(merged_df[merged_df['PERSON_TYPE'] == 'DRIVER'][(merged_df['AGE'] < 16) & (merged_df['AGE'] > 0) ]['AGE'])"
      ],
      "metadata": {
        "colab": {
          "base_uri": "https://localhost:8080/"
        },
        "id": "Ox_89ZBeVCkI",
        "outputId": "98fed655-7fd6-485c-e01e-320812b39ae7"
      },
      "execution_count": null,
      "outputs": [
        {
          "output_type": "stream",
          "name": "stderr",
          "text": [
            "<ipython-input-54-eb8083654a49>:1: UserWarning: Boolean Series key will be reindexed to match DataFrame index.\n",
            "  len(merged_df[merged_df['PERSON_TYPE'] == 'DRIVER'][(merged_df['AGE'] < 16) & (merged_df['AGE'] > 0) ]['AGE'])\n"
          ]
        },
        {
          "output_type": "execute_result",
          "data": {
            "text/plain": [
              "2102"
            ]
          },
          "metadata": {},
          "execution_count": 54
        }
      ]
    },
    {
      "cell_type": "markdown",
      "source": [
        "Here, we see that there are 19235 rows in which the driver's age is below 16. Out of these rows, 2102 are ages above 0 and the rest are 0. Through common sense, we know that a driver's age cannot be 0. As more 75% of the 19235 rows here have the value 0, we decided to remove these rows from the dataset, as it might distort the `AGE` variable. "
      ],
      "metadata": {
        "id": "owoJJy_0U3wp"
      }
    },
    {
      "cell_type": "code",
      "source": [
        "merged_df.shape"
      ],
      "metadata": {
        "colab": {
          "base_uri": "https://localhost:8080/"
        },
        "id": "xWgVG3pzXpgq",
        "outputId": "c944a46c-562c-438f-fe96-28525bb3d959"
      },
      "execution_count": null,
      "outputs": [
        {
          "output_type": "execute_result",
          "data": {
            "text/plain": [
              "(2523967, 26)"
            ]
          },
          "metadata": {},
          "execution_count": 56
        }
      ]
    },
    {
      "cell_type": "code",
      "source": [
        "merged_df = merged_df[((merged_df['AGE'] >= 16) & (merged_df['PERSON_TYPE'] == 'DRIVER')) | (merged_df['PERSON_TYPE'] != 'DRIVER')]\n",
        "merged_df.shape"
      ],
      "metadata": {
        "colab": {
          "base_uri": "https://localhost:8080/"
        },
        "id": "OV2YfP_NV2Bq",
        "outputId": "c005d1d8-30f0-4bc6-c6cc-d5e92f1551b3"
      },
      "execution_count": null,
      "outputs": [
        {
          "output_type": "execute_result",
          "data": {
            "text/plain": [
              "(2523967, 26)"
            ]
          },
          "metadata": {},
          "execution_count": 55
        }
      ]
    },
    {
      "cell_type": "markdown",
      "source": [
        "Lastly, we have two more columns that describe vehicles, which are `MAKE` and `MODEL`. Upon inspection, we see that there are some values that are meaningless. "
      ],
      "metadata": {
        "id": "CwGqj6STKSvW"
      }
    },
    {
      "cell_type": "code",
      "source": [
        "merged_df['MAKE'].unique()[:100]"
      ],
      "metadata": {
        "colab": {
          "base_uri": "https://localhost:8080/"
        },
        "id": "PAwblFkeLuny",
        "outputId": "c2c8077b-ff63-4b55-f96f-3a3b42e14beb"
      },
      "execution_count": null,
      "outputs": [
        {
          "output_type": "execute_result",
          "data": {
            "text/plain": [
              "array(['CHEVROLET', 'TOYOTA MOTOR COMPANY, LTD.', 'HYUNDAI',\n",
              "       'GENERAL MOTORS CORPORATION (GMC)', 'NISSAN', 'UNKNOWN', 'DODGE',\n",
              "       'HONDA', 'MAZDA', 'FORD', 'TOYOTA', nan,\n",
              "       'FREIGHTLINER CORPORATION', 'LEXUS', 'ISUZU', 'JEEP', 'AUDI',\n",
              "       'HYSTER CORPORATION', 'SUBARU', 'CADILLAC', 'MITSUBISHI', 'SCION',\n",
              "       'KIA', 'INFINITI', 'LINCOLN-CONTINENTAL', 'MERCEDES-BENZ',\n",
              "       'BLUE BIRD BODY COMPANY', 'VOLVO', 'VOLKSWAGEN', 'PONTIAC',\n",
              "       'PORSCHE', 'ELGIN SWEEPER COMPANY. ELGIN, IL', 'CHRYSLER', 'BMW',\n",
              "       'ACURA', 'GENERAL MOTORS CORP.', 'KIA MOTORS CORP',\n",
              "       'PETERBILT MOTORS CO., DIVISION PACCAR, INC.',\n",
              "       'SPARTAN MOTORS, INC. (CHARLOTTE, MI)', 'BUICK', 'MERCURY',\n",
              "       'LAND ROVER', 'SATURN', 'BIG TEX', 'NEW FLYER', 'LINCOLN',\n",
              "       'INTERNATIONAL TRAILER CORPORATION', 'THOMAS BUILT BUS COMPANY',\n",
              "       'PLYMOUTH', 'FREIGHTLINER CORP.', 'JAGUAR', 'HARLEY-DAVIDSON',\n",
              "       'CENTURION INTERNATIONAL, INC. (WACO, TX)',\n",
              "       'SPARTAN MOTORS, INC. (MFD. IN CHARLOTTE, MI)',\n",
              "       'ACADIAN (GM OF CANADA)', 'MACK TRUCKS, INC.', 'STERLING',\n",
              "       'NOVA BUS', 'TESLA', 'UTILITY TRAILER', 'TRIUMPH', 'FIAT',\n",
              "       'GILL MFG. CO.', 'HINO', 'SPARTAN PRODUCTS, WEST ST. PAUL, MINN.',\n",
              "       'INTERNATIONAL HARVESTER', 'FLEETCRAFT CORPORATION',\n",
              "       'ACURA (DIV. OF AMERICAN HONDA MOTOR CO.)',\n",
              "       'INTERNATIONAL TRAILER CORP.', 'AUTOCAR', 'NAVISTAR',\n",
              "       'ECO-BIKE ELEC MOTORCYCLE', 'VANGUARD (CANADA)',\n",
              "       'THOMAS & COMPANY', '(HOMEMADE MOTORCYCLE, MOPED.ETC.)',\n",
              "       'INTERNATIONAL COACH MANUFACTURING',\n",
              "       'RANGE ROVER OF NORTH AMERICA',\n",
              "       'MACK TRAILER MANUFACTURING COMPANY, INC. (DETRIOT, MI)', 'SUZUKI',\n",
              "       'MACK TRAILER MFG. CO., INC., DETRIOT, MI', 'TRANSIT',\n",
              "       'TESLA MOTORS', 'LAMBORGHINI',\n",
              "       'PETERBILT MOTORS COMPANY (DIVISION OF PACCAR, INC.)',\n",
              "       'ALFA ROMEO', 'GRUMANN-OLSEN', 'KENWORTH MOTOR TRUCK COMPANY',\n",
              "       'THOMAS BUILT BUS CO.', 'MINI', 'THOMAS & CO.', 'GENERAL',\n",
              "       'EL DORADO INTERNATIONAL, INC.; EL DORADO MFG., LTD.',\n",
              "       'KENWORTH MOTOR TRUCK CO.', 'KEN TRAILER',\n",
              "       'NISSAN DIESEL MOTOR COMPANY', 'MOTOR COACH INDUSTRIES, INC.',\n",
              "       'SAAB', 'BLUEBIRD INTERNATIONAL', 'OLDSMOBILE',\n",
              "       'VERMEER MANUFACTURING COMPANY, INC.'], dtype=object)"
            ]
          },
          "metadata": {},
          "execution_count": 31
        }
      ]
    },
    {
      "cell_type": "code",
      "source": [
        "merged_df['MAKE'].unique()[101:]"
      ],
      "metadata": {
        "colab": {
          "base_uri": "https://localhost:8080/"
        },
        "id": "IwFHEuFvzQ03",
        "outputId": "5a6bc6b7-006f-4945-9b7a-85e7f0a10484"
      },
      "execution_count": null,
      "outputs": [
        {
          "output_type": "execute_result",
          "data": {
            "text/plain": [
              "array(['GREAT DANE TRAILERS INC.',\n",
              "       'CALDWELL (DIVISION OF SMITH INTERNATIONAL, INC.)', 'DAIMLER', ...,\n",
              "       'VACATIONAR MOTOR HOME TRUCK', 'BALDWIN ENTERPRISES',\n",
              "       'ABC COACH COMPANY (FROM 1960 ON SEE VOUGHT INDUSTRIES)'],\n",
              "      dtype=object)"
            ]
          },
          "metadata": {},
          "execution_count": 42
        }
      ]
    },
    {
      "cell_type": "code",
      "source": [
        "merged_df['MODEL'].unique()[:100]"
      ],
      "metadata": {
        "colab": {
          "base_uri": "https://localhost:8080/"
        },
        "id": "I4IzjkVqLx5O",
        "outputId": "67640e78-b85f-451b-a2e8-6d5eba982ebb"
      },
      "execution_count": null,
      "outputs": [
        {
          "output_type": "execute_result",
          "data": {
            "text/plain": [
              "array(['CRUZE', 'CAMRY', '4RUNNER', 'OTHER (EXPLAIN IN NARRATIVE)',\n",
              "       'ALTIMA', 'JOURNEY', 'HR-V', 'UNKNOWN', 'TAURUS', 'RAV4', 'CIVIC',\n",
              "       'SENTRA', 'Tundra', 'ACCORD', 'SILVERADO', 'S10', nan,\n",
              "       'FREIGHTLINER CORP.', 'RX330', 'TRUCK', 'PALISADE', 'ES350',\n",
              "       'PILOT', 'JEEP', 'A4', 'ESCAPE', 'HYSTER CORP.', 'MALIBU', 'CRV',\n",
              "       'Murano', 'COROLLA', 'FORESTER', 'Escalade', 'LANCER', 'CHARGER',\n",
              "       'XB', 'ELANTRA', 'RAM 1500 PU', 'CR-V', 'SORENTO', 'Pathfinder',\n",
              "       'EDGE', 'SONATA', 'STRATUS', 'NAVIGATOR', 'IMPALA', 'VERSA',\n",
              "       'BLUE BIRD BODY CO.', 'TRAIL BLAZER', 'ODYSSEY', 'XC60', 'EQUINOX',\n",
              "       'CARAVAN', 'ACCENT', 'TOYOTA', 'FUSION', 'ROGUE', 'TUCSON',\n",
              "       'FORD-TRUCK,VAN,SUV, ETC', 'YARIS', 'PASSAT', 'VELOSTAR',\n",
              "       'EXPLORER', 'SELTOS', 'JETTA', 'CTS', 'CHEROKEE', 'Focus',\n",
              "       'MONTANA', 'TRAX', 'NISSAN MAXIMA', 'Avenger',\n",
              "       'ELGIN SWEEPER COMPANY. ELGIN, IL', 'Express (full-size van)',\n",
              "       'ECLIPSE', 'Prius', 'ENCLOSED BODY', 'FOCUS', 'PATRIOT',\n",
              "       'NISSAN ALTIMA', 'ACURA', 'CAVALIER', 'GLC',\n",
              "       'Wrangler (for vehicle years 1989 to present)', 'MUSTANG',\n",
              "       'EXPEDITION', 'YUKON', 'FORTE', 'AVALON', 'C-CLASS', 'Outlander',\n",
              "       'PETERBILT MOTORS CO., DIVISION PACCAR, INC.', 'PRIUS',\n",
              "       'PATHFINDER', 'Q50', 'GRAND PRIX',\n",
              "       'SPARTAN MOTORS, INC. (MFD. IN CHARLOTTE, MI)',\n",
              "       'Highlander(beginning vehicle year 2001)', 'ENCORE', 'OPTIMA / K5'],\n",
              "      dtype=object)"
            ]
          },
          "metadata": {},
          "execution_count": 43
        }
      ]
    },
    {
      "cell_type": "code",
      "source": [
        "merged_df['MODEL'].unique()[101:]"
      ],
      "metadata": {
        "colab": {
          "base_uri": "https://localhost:8080/"
        },
        "id": "J2uBpNSBzxHZ",
        "outputId": "97db0763-ee91-4bdf-df63-1b0d2f186613"
      },
      "execution_count": null,
      "outputs": [
        {
          "output_type": "execute_result",
          "data": {
            "text/plain": [
              "array(['TORRENT', 'MOTORIZED', 'SANTA FE', ..., 'TRANSMOBLIE TRAILER',\n",
              "       'VACATIONAR MOTOR HOME TRUCK', 'BALDWIN ENTERPRISES'], dtype=object)"
            ]
          },
          "metadata": {},
          "execution_count": 44
        }
      ]
    },
    {
      "cell_type": "markdown",
      "source": [
        "Upon inspection, I found that these two columns also contain string values that are meaningless. "
      ],
      "metadata": {
        "id": "f2n9nxgZz2Yu"
      }
    },
    {
      "cell_type": "code",
      "source": [
        "merged_df.loc[merged_df[\"MAKE\"] == \"UNKNOWN\", \"MAKE\"] = None\n",
        "merged_df.loc[merged_df[\"MODEL\"] == \"UNKNOWN\", \"MODEL\"] = None\n",
        "merged_df.loc[merged_df[\"MODEL\"] == \"OTHER (EXPLAIN IN NARRATIVE)\", \"MODEL\"] = None"
      ],
      "metadata": {
        "id": "q-gqRaVvMGWy"
      },
      "execution_count": null,
      "outputs": []
    },
    {
      "cell_type": "markdown",
      "source": [
        "While we retaining the two columns, we will create another column called `MAKE_MODEL` which concatenates both columns, as we generally refer to cars with both the make and the model. "
      ],
      "metadata": {
        "id": "-r61owriMAee"
      }
    },
    {
      "cell_type": "code",
      "source": [
        "merged_df['MAKE_MODEL'] = merged_df['MAKE'] + \" \" + merged_df['MODEL']"
      ],
      "metadata": {
        "id": "-xLkMx47Kpeg",
        "colab": {
          "base_uri": "https://localhost:8080/"
        },
        "outputId": "99f70bf3-9205-4c0e-96bc-36b7e374d70e"
      },
      "execution_count": null,
      "outputs": [
        {
          "output_type": "stream",
          "name": "stderr",
          "text": [
            "<ipython-input-33-2bcddf1f361c>:1: SettingWithCopyWarning: \n",
            "A value is trying to be set on a copy of a slice from a DataFrame.\n",
            "Try using .loc[row_indexer,col_indexer] = value instead\n",
            "\n",
            "See the caveats in the documentation: https://pandas.pydata.org/pandas-docs/stable/user_guide/indexing.html#returning-a-view-versus-a-copy\n",
            "  merged_df['MAKE_MODEL'] = merged_df['MAKE'] + \" \" + merged_df['MODEL']\n"
          ]
        }
      ]
    },
    {
      "cell_type": "code",
      "source": [
        "merged_df[['MAKE', 'MODEL', 'MAKE_MODEL']].head()"
      ],
      "metadata": {
        "colab": {
          "base_uri": "https://localhost:8080/",
          "height": 206
        },
        "id": "NnS6gjfFKynJ",
        "outputId": "560b2a03-2e10-4b07-c3b3-93cdf5b77d32"
      },
      "execution_count": null,
      "outputs": [
        {
          "output_type": "execute_result",
          "data": {
            "text/plain": [
              "                         MAKE  MODEL                        MAKE_MODEL\n",
              "0                   CHEVROLET  CRUZE                   CHEVROLET CRUZE\n",
              "1  TOYOTA MOTOR COMPANY, LTD.  CAMRY  TOYOTA MOTOR COMPANY, LTD. CAMRY\n",
              "2                   CHEVROLET  CRUZE                   CHEVROLET CRUZE\n",
              "3  TOYOTA MOTOR COMPANY, LTD.  CAMRY  TOYOTA MOTOR COMPANY, LTD. CAMRY\n",
              "4                   CHEVROLET  CRUZE                   CHEVROLET CRUZE"
            ],
            "text/html": [
              "\n",
              "  <div id=\"df-13d40076-dd92-4337-895f-4e527b7cecce\">\n",
              "    <div class=\"colab-df-container\">\n",
              "      <div>\n",
              "<style scoped>\n",
              "    .dataframe tbody tr th:only-of-type {\n",
              "        vertical-align: middle;\n",
              "    }\n",
              "\n",
              "    .dataframe tbody tr th {\n",
              "        vertical-align: top;\n",
              "    }\n",
              "\n",
              "    .dataframe thead th {\n",
              "        text-align: right;\n",
              "    }\n",
              "</style>\n",
              "<table border=\"1\" class=\"dataframe\">\n",
              "  <thead>\n",
              "    <tr style=\"text-align: right;\">\n",
              "      <th></th>\n",
              "      <th>MAKE</th>\n",
              "      <th>MODEL</th>\n",
              "      <th>MAKE_MODEL</th>\n",
              "    </tr>\n",
              "  </thead>\n",
              "  <tbody>\n",
              "    <tr>\n",
              "      <th>0</th>\n",
              "      <td>CHEVROLET</td>\n",
              "      <td>CRUZE</td>\n",
              "      <td>CHEVROLET CRUZE</td>\n",
              "    </tr>\n",
              "    <tr>\n",
              "      <th>1</th>\n",
              "      <td>TOYOTA MOTOR COMPANY, LTD.</td>\n",
              "      <td>CAMRY</td>\n",
              "      <td>TOYOTA MOTOR COMPANY, LTD. CAMRY</td>\n",
              "    </tr>\n",
              "    <tr>\n",
              "      <th>2</th>\n",
              "      <td>CHEVROLET</td>\n",
              "      <td>CRUZE</td>\n",
              "      <td>CHEVROLET CRUZE</td>\n",
              "    </tr>\n",
              "    <tr>\n",
              "      <th>3</th>\n",
              "      <td>TOYOTA MOTOR COMPANY, LTD.</td>\n",
              "      <td>CAMRY</td>\n",
              "      <td>TOYOTA MOTOR COMPANY, LTD. CAMRY</td>\n",
              "    </tr>\n",
              "    <tr>\n",
              "      <th>4</th>\n",
              "      <td>CHEVROLET</td>\n",
              "      <td>CRUZE</td>\n",
              "      <td>CHEVROLET CRUZE</td>\n",
              "    </tr>\n",
              "  </tbody>\n",
              "</table>\n",
              "</div>\n",
              "      <button class=\"colab-df-convert\" onclick=\"convertToInteractive('df-13d40076-dd92-4337-895f-4e527b7cecce')\"\n",
              "              title=\"Convert this dataframe to an interactive table.\"\n",
              "              style=\"display:none;\">\n",
              "        \n",
              "  <svg xmlns=\"http://www.w3.org/2000/svg\" height=\"24px\"viewBox=\"0 0 24 24\"\n",
              "       width=\"24px\">\n",
              "    <path d=\"M0 0h24v24H0V0z\" fill=\"none\"/>\n",
              "    <path d=\"M18.56 5.44l.94 2.06.94-2.06 2.06-.94-2.06-.94-.94-2.06-.94 2.06-2.06.94zm-11 1L8.5 8.5l.94-2.06 2.06-.94-2.06-.94L8.5 2.5l-.94 2.06-2.06.94zm10 10l.94 2.06.94-2.06 2.06-.94-2.06-.94-.94-2.06-.94 2.06-2.06.94z\"/><path d=\"M17.41 7.96l-1.37-1.37c-.4-.4-.92-.59-1.43-.59-.52 0-1.04.2-1.43.59L10.3 9.45l-7.72 7.72c-.78.78-.78 2.05 0 2.83L4 21.41c.39.39.9.59 1.41.59.51 0 1.02-.2 1.41-.59l7.78-7.78 2.81-2.81c.8-.78.8-2.07 0-2.86zM5.41 20L4 18.59l7.72-7.72 1.47 1.35L5.41 20z\"/>\n",
              "  </svg>\n",
              "      </button>\n",
              "      \n",
              "  <style>\n",
              "    .colab-df-container {\n",
              "      display:flex;\n",
              "      flex-wrap:wrap;\n",
              "      gap: 12px;\n",
              "    }\n",
              "\n",
              "    .colab-df-convert {\n",
              "      background-color: #E8F0FE;\n",
              "      border: none;\n",
              "      border-radius: 50%;\n",
              "      cursor: pointer;\n",
              "      display: none;\n",
              "      fill: #1967D2;\n",
              "      height: 32px;\n",
              "      padding: 0 0 0 0;\n",
              "      width: 32px;\n",
              "    }\n",
              "\n",
              "    .colab-df-convert:hover {\n",
              "      background-color: #E2EBFA;\n",
              "      box-shadow: 0px 1px 2px rgba(60, 64, 67, 0.3), 0px 1px 3px 1px rgba(60, 64, 67, 0.15);\n",
              "      fill: #174EA6;\n",
              "    }\n",
              "\n",
              "    [theme=dark] .colab-df-convert {\n",
              "      background-color: #3B4455;\n",
              "      fill: #D2E3FC;\n",
              "    }\n",
              "\n",
              "    [theme=dark] .colab-df-convert:hover {\n",
              "      background-color: #434B5C;\n",
              "      box-shadow: 0px 1px 3px 1px rgba(0, 0, 0, 0.15);\n",
              "      filter: drop-shadow(0px 1px 2px rgba(0, 0, 0, 0.3));\n",
              "      fill: #FFFFFF;\n",
              "    }\n",
              "  </style>\n",
              "\n",
              "      <script>\n",
              "        const buttonEl =\n",
              "          document.querySelector('#df-13d40076-dd92-4337-895f-4e527b7cecce button.colab-df-convert');\n",
              "        buttonEl.style.display =\n",
              "          google.colab.kernel.accessAllowed ? 'block' : 'none';\n",
              "\n",
              "        async function convertToInteractive(key) {\n",
              "          const element = document.querySelector('#df-13d40076-dd92-4337-895f-4e527b7cecce');\n",
              "          const dataTable =\n",
              "            await google.colab.kernel.invokeFunction('convertToInteractive',\n",
              "                                                     [key], {});\n",
              "          if (!dataTable) return;\n",
              "\n",
              "          const docLinkHtml = 'Like what you see? Visit the ' +\n",
              "            '<a target=\"_blank\" href=https://colab.research.google.com/notebooks/data_table.ipynb>data table notebook</a>'\n",
              "            + ' to learn more about interactive tables.';\n",
              "          element.innerHTML = '';\n",
              "          dataTable['output_type'] = 'display_data';\n",
              "          await google.colab.output.renderOutput(dataTable, element);\n",
              "          const docLink = document.createElement('div');\n",
              "          docLink.innerHTML = docLinkHtml;\n",
              "          element.appendChild(docLink);\n",
              "        }\n",
              "      </script>\n",
              "    </div>\n",
              "  </div>\n",
              "  "
            ]
          },
          "metadata": {},
          "execution_count": 47
        }
      ]
    },
    {
      "cell_type": "markdown",
      "source": [
        "So until this step, we have quickly inspect each of the columns in our dataframe and replaced all meaningless string values with `None`. The current dataframe looks like the following. "
      ],
      "metadata": {
        "id": "wRSiwBFqNElg"
      }
    },
    {
      "cell_type": "code",
      "source": [
        "merged_df.head(2)"
      ],
      "metadata": {
        "colab": {
          "base_uri": "https://localhost:8080/",
          "height": 310
        },
        "id": "ausxp4ZbQGNJ",
        "outputId": "3c3180d7-c6ed-4d45-df1b-9f564a8685b0"
      },
      "execution_count": null,
      "outputs": [
        {
          "output_type": "execute_result",
          "data": {
            "text/plain": [
              "                                     CRASH_RECORD_ID          CRASH_DATE  \\\n",
              "0  79c7a2ce89f446262efd86df3d72d18b04ba487024b7c4... 2019-03-25 14:43:00   \n",
              "1  79c7a2ce89f446262efd86df3d72d18b04ba487024b7c4... 2019-03-25 14:43:00   \n",
              "\n",
              "       DEVICE_CONDITION WEATHER_CONDITION LIGHTING_CONDITION  \\\n",
              "0  FUNCTIONING PROPERLY             CLEAR           DAYLIGHT   \n",
              "1  FUNCTIONING PROPERLY             CLEAR           DAYLIGHT   \n",
              "\n",
              "                         CRASH_TYPE       DAMAGE  INJURIES_TOTAL  \\\n",
              "0  INJURY AND / OR TOW DUE TO CRASH  OVER $1,500             1.0   \n",
              "1  INJURY AND / OR TOW DUE TO CRASH  OVER $1,500             1.0   \n",
              "\n",
              "   INJURIES_FATAL  INJURIES_INCAPACITATING  ...   AGE  SAFETY_EQUIPMENT  \\\n",
              "0             0.0                      0.0  ...  27.0  SAFETY BELT USED   \n",
              "1             0.0                      0.0  ...  27.0  SAFETY BELT USED   \n",
              "\n",
              "   AIRBAG_DEPLOYED    INJURY_CLASSIFICATION VEHICLE_ID  \\\n",
              "0   DID NOT DEPLOY  NO INDICATION OF INJURY   582401.0   \n",
              "1   DID NOT DEPLOY  NO INDICATION OF INJURY   582411.0   \n",
              "\n",
              "                         MAKE  MODEL                  VEHICLE_YEAR  \\\n",
              "0                   CHEVROLET  CRUZE 1970-01-01 00:00:00.000002017   \n",
              "1  TOYOTA MOTOR COMPANY, LTD.  CAMRY 1970-01-01 00:00:00.000002010   \n",
              "\n",
              "  VEHICLE_TYPE                        MAKE_MODEL  \n",
              "0    PASSENGER                   CHEVROLET CRUZE  \n",
              "1    PASSENGER  TOYOTA MOTOR COMPANY, LTD. CAMRY  \n",
              "\n",
              "[2 rows x 27 columns]"
            ],
            "text/html": [
              "\n",
              "  <div id=\"df-460358f3-c0ea-492f-810d-acb065b0bbad\">\n",
              "    <div class=\"colab-df-container\">\n",
              "      <div>\n",
              "<style scoped>\n",
              "    .dataframe tbody tr th:only-of-type {\n",
              "        vertical-align: middle;\n",
              "    }\n",
              "\n",
              "    .dataframe tbody tr th {\n",
              "        vertical-align: top;\n",
              "    }\n",
              "\n",
              "    .dataframe thead th {\n",
              "        text-align: right;\n",
              "    }\n",
              "</style>\n",
              "<table border=\"1\" class=\"dataframe\">\n",
              "  <thead>\n",
              "    <tr style=\"text-align: right;\">\n",
              "      <th></th>\n",
              "      <th>CRASH_RECORD_ID</th>\n",
              "      <th>CRASH_DATE</th>\n",
              "      <th>DEVICE_CONDITION</th>\n",
              "      <th>WEATHER_CONDITION</th>\n",
              "      <th>LIGHTING_CONDITION</th>\n",
              "      <th>CRASH_TYPE</th>\n",
              "      <th>DAMAGE</th>\n",
              "      <th>INJURIES_TOTAL</th>\n",
              "      <th>INJURIES_FATAL</th>\n",
              "      <th>INJURIES_INCAPACITATING</th>\n",
              "      <th>...</th>\n",
              "      <th>AGE</th>\n",
              "      <th>SAFETY_EQUIPMENT</th>\n",
              "      <th>AIRBAG_DEPLOYED</th>\n",
              "      <th>INJURY_CLASSIFICATION</th>\n",
              "      <th>VEHICLE_ID</th>\n",
              "      <th>MAKE</th>\n",
              "      <th>MODEL</th>\n",
              "      <th>VEHICLE_YEAR</th>\n",
              "      <th>VEHICLE_TYPE</th>\n",
              "      <th>MAKE_MODEL</th>\n",
              "    </tr>\n",
              "  </thead>\n",
              "  <tbody>\n",
              "    <tr>\n",
              "      <th>0</th>\n",
              "      <td>79c7a2ce89f446262efd86df3d72d18b04ba487024b7c4...</td>\n",
              "      <td>2019-03-25 14:43:00</td>\n",
              "      <td>FUNCTIONING PROPERLY</td>\n",
              "      <td>CLEAR</td>\n",
              "      <td>DAYLIGHT</td>\n",
              "      <td>INJURY AND / OR TOW DUE TO CRASH</td>\n",
              "      <td>OVER $1,500</td>\n",
              "      <td>1.0</td>\n",
              "      <td>0.0</td>\n",
              "      <td>0.0</td>\n",
              "      <td>...</td>\n",
              "      <td>27.0</td>\n",
              "      <td>SAFETY BELT USED</td>\n",
              "      <td>DID NOT DEPLOY</td>\n",
              "      <td>NO INDICATION OF INJURY</td>\n",
              "      <td>582401.0</td>\n",
              "      <td>CHEVROLET</td>\n",
              "      <td>CRUZE</td>\n",
              "      <td>1970-01-01 00:00:00.000002017</td>\n",
              "      <td>PASSENGER</td>\n",
              "      <td>CHEVROLET CRUZE</td>\n",
              "    </tr>\n",
              "    <tr>\n",
              "      <th>1</th>\n",
              "      <td>79c7a2ce89f446262efd86df3d72d18b04ba487024b7c4...</td>\n",
              "      <td>2019-03-25 14:43:00</td>\n",
              "      <td>FUNCTIONING PROPERLY</td>\n",
              "      <td>CLEAR</td>\n",
              "      <td>DAYLIGHT</td>\n",
              "      <td>INJURY AND / OR TOW DUE TO CRASH</td>\n",
              "      <td>OVER $1,500</td>\n",
              "      <td>1.0</td>\n",
              "      <td>0.0</td>\n",
              "      <td>0.0</td>\n",
              "      <td>...</td>\n",
              "      <td>27.0</td>\n",
              "      <td>SAFETY BELT USED</td>\n",
              "      <td>DID NOT DEPLOY</td>\n",
              "      <td>NO INDICATION OF INJURY</td>\n",
              "      <td>582411.0</td>\n",
              "      <td>TOYOTA MOTOR COMPANY, LTD.</td>\n",
              "      <td>CAMRY</td>\n",
              "      <td>1970-01-01 00:00:00.000002010</td>\n",
              "      <td>PASSENGER</td>\n",
              "      <td>TOYOTA MOTOR COMPANY, LTD. CAMRY</td>\n",
              "    </tr>\n",
              "  </tbody>\n",
              "</table>\n",
              "<p>2 rows × 27 columns</p>\n",
              "</div>\n",
              "      <button class=\"colab-df-convert\" onclick=\"convertToInteractive('df-460358f3-c0ea-492f-810d-acb065b0bbad')\"\n",
              "              title=\"Convert this dataframe to an interactive table.\"\n",
              "              style=\"display:none;\">\n",
              "        \n",
              "  <svg xmlns=\"http://www.w3.org/2000/svg\" height=\"24px\"viewBox=\"0 0 24 24\"\n",
              "       width=\"24px\">\n",
              "    <path d=\"M0 0h24v24H0V0z\" fill=\"none\"/>\n",
              "    <path d=\"M18.56 5.44l.94 2.06.94-2.06 2.06-.94-2.06-.94-.94-2.06-.94 2.06-2.06.94zm-11 1L8.5 8.5l.94-2.06 2.06-.94-2.06-.94L8.5 2.5l-.94 2.06-2.06.94zm10 10l.94 2.06.94-2.06 2.06-.94-2.06-.94-.94-2.06-.94 2.06-2.06.94z\"/><path d=\"M17.41 7.96l-1.37-1.37c-.4-.4-.92-.59-1.43-.59-.52 0-1.04.2-1.43.59L10.3 9.45l-7.72 7.72c-.78.78-.78 2.05 0 2.83L4 21.41c.39.39.9.59 1.41.59.51 0 1.02-.2 1.41-.59l7.78-7.78 2.81-2.81c.8-.78.8-2.07 0-2.86zM5.41 20L4 18.59l7.72-7.72 1.47 1.35L5.41 20z\"/>\n",
              "  </svg>\n",
              "      </button>\n",
              "      \n",
              "  <style>\n",
              "    .colab-df-container {\n",
              "      display:flex;\n",
              "      flex-wrap:wrap;\n",
              "      gap: 12px;\n",
              "    }\n",
              "\n",
              "    .colab-df-convert {\n",
              "      background-color: #E8F0FE;\n",
              "      border: none;\n",
              "      border-radius: 50%;\n",
              "      cursor: pointer;\n",
              "      display: none;\n",
              "      fill: #1967D2;\n",
              "      height: 32px;\n",
              "      padding: 0 0 0 0;\n",
              "      width: 32px;\n",
              "    }\n",
              "\n",
              "    .colab-df-convert:hover {\n",
              "      background-color: #E2EBFA;\n",
              "      box-shadow: 0px 1px 2px rgba(60, 64, 67, 0.3), 0px 1px 3px 1px rgba(60, 64, 67, 0.15);\n",
              "      fill: #174EA6;\n",
              "    }\n",
              "\n",
              "    [theme=dark] .colab-df-convert {\n",
              "      background-color: #3B4455;\n",
              "      fill: #D2E3FC;\n",
              "    }\n",
              "\n",
              "    [theme=dark] .colab-df-convert:hover {\n",
              "      background-color: #434B5C;\n",
              "      box-shadow: 0px 1px 3px 1px rgba(0, 0, 0, 0.15);\n",
              "      filter: drop-shadow(0px 1px 2px rgba(0, 0, 0, 0.3));\n",
              "      fill: #FFFFFF;\n",
              "    }\n",
              "  </style>\n",
              "\n",
              "      <script>\n",
              "        const buttonEl =\n",
              "          document.querySelector('#df-460358f3-c0ea-492f-810d-acb065b0bbad button.colab-df-convert');\n",
              "        buttonEl.style.display =\n",
              "          google.colab.kernel.accessAllowed ? 'block' : 'none';\n",
              "\n",
              "        async function convertToInteractive(key) {\n",
              "          const element = document.querySelector('#df-460358f3-c0ea-492f-810d-acb065b0bbad');\n",
              "          const dataTable =\n",
              "            await google.colab.kernel.invokeFunction('convertToInteractive',\n",
              "                                                     [key], {});\n",
              "          if (!dataTable) return;\n",
              "\n",
              "          const docLinkHtml = 'Like what you see? Visit the ' +\n",
              "            '<a target=\"_blank\" href=https://colab.research.google.com/notebooks/data_table.ipynb>data table notebook</a>'\n",
              "            + ' to learn more about interactive tables.';\n",
              "          element.innerHTML = '';\n",
              "          dataTable['output_type'] = 'display_data';\n",
              "          await google.colab.output.renderOutput(dataTable, element);\n",
              "          const docLink = document.createElement('div');\n",
              "          docLink.innerHTML = docLinkHtml;\n",
              "          element.appendChild(docLink);\n",
              "        }\n",
              "      </script>\n",
              "    </div>\n",
              "  </div>\n",
              "  "
            ]
          },
          "metadata": {},
          "execution_count": 48
        }
      ]
    },
    {
      "cell_type": "markdown",
      "source": [
        "#### Eliminating missing values"
      ],
      "metadata": {
        "id": "a_9nhWPhI-vj"
      }
    },
    {
      "cell_type": "markdown",
      "source": [
        "At this stage, we will inspect whether all of the columns in the dataframe are in fact useful. "
      ],
      "metadata": {
        "id": "J3CjQORlUcmC"
      }
    },
    {
      "cell_type": "markdown",
      "source": [
        "Below is a sorted dictionary that shows the number of missing values in each column. "
      ],
      "metadata": {
        "id": "-KhWIDXjYISD"
      }
    },
    {
      "cell_type": "code",
      "source": [
        "cols = list(merged_df.columns)\n",
        "\n",
        "num_na = {}\n",
        "\n",
        "for c in cols:\n",
        "  num_na[c] = merged_df[c].isna().sum()"
      ],
      "metadata": {
        "id": "D9ScHYW-UjBh"
      },
      "execution_count": null,
      "outputs": []
    },
    {
      "cell_type": "code",
      "source": [
        "sorted(num_na.items(), key = lambda x: x[1], reverse = True)"
      ],
      "metadata": {
        "colab": {
          "base_uri": "https://localhost:8080/"
        },
        "id": "123uuA7mUi-G",
        "outputId": "b23ed9ce-96b9-4014-bfd2-8d58113ca8e3"
      },
      "execution_count": null,
      "outputs": [
        {
          "output_type": "execute_result",
          "data": {
            "text/plain": [
              "[('SAFETY_EQUIPMENT', 1482077),\n",
              " ('AIRBAG_DEPLOYED', 1280575),\n",
              " ('AGE', 927079),\n",
              " ('MAKE_MODEL', 688742),\n",
              " ('MODEL', 655162),\n",
              " ('VEHICLE_YEAR', 498298),\n",
              " ('MAKE', 306905),\n",
              " ('DEVICE_CONDITION', 185438),\n",
              " ('WEATHER_CONDITION', 119027),\n",
              " ('LIGHTING_CONDITION', 90996),\n",
              " ('VEHICLE_ID', 68785),\n",
              " ('VEHICLE_TYPE', 68785),\n",
              " ('SEX', 53357),\n",
              " ('INJURY_CLASSIFICATION', 4148),\n",
              " ('INJURIES_TOTAL', 2674),\n",
              " ('INJURIES_FATAL', 2674),\n",
              " ('INJURIES_INCAPACITATING', 2674),\n",
              " ('INJURIES_NON_INCAPACITATING', 2674),\n",
              " ('INJURIES_REPORTED_NOT_EVIDENT', 2674),\n",
              " ('INJURIES_NO_INDICATION', 2674),\n",
              " ('INJURIES_UNKNOWN', 2674),\n",
              " ('PERSON_ID', 2533),\n",
              " ('PERSON_TYPE', 2533),\n",
              " ('CRASH_DATE', 148),\n",
              " ('CRASH_TYPE', 148),\n",
              " ('DAMAGE', 148),\n",
              " ('CRASH_RECORD_ID', 0)]"
            ]
          },
          "metadata": {},
          "execution_count": 50
        }
      ]
    },
    {
      "cell_type": "code",
      "source": [
        "merged_df.shape"
      ],
      "metadata": {
        "colab": {
          "base_uri": "https://localhost:8080/"
        },
        "id": "7YOrgKwr0P7K",
        "outputId": "715231ab-2914-4631-f93b-489f7b761d7e"
      },
      "execution_count": null,
      "outputs": [
        {
          "output_type": "execute_result",
          "data": {
            "text/plain": [
              "(3202450, 27)"
            ]
          },
          "metadata": {},
          "execution_count": 35
        }
      ]
    },
    {
      "cell_type": "markdown",
      "source": [
        "Keeping in mind that our dataframe has 3,202,450 unique rows, the columns `SAFETY_EQUIPMENT` and `AIRBAG_DEPLOYED` might not be a good predictor of injury severity, as nearly half of the rows are `None`. However, in this stage, we will not drop the variables yet. As our aim is to predict details of the injuries, the two columns represent important details about the crash that are directly relevant to the degree of injury. Hence, despite the missing values, the column might be useful for us. Depending on the influence of the missing values on the results of further analysis, we will decide whether or not to remove these variables. "
      ],
      "metadata": {
        "id": "RQ7Wm72RYwGx"
      }
    },
    {
      "cell_type": "markdown",
      "source": [
        "Also, for the columns `INJURIES_TOTAL`, `INJURIES_FATAL`, `INJURIES_INCAPACITATING`, `INJURIES_NON_INCAPACITATING`, `INJURIES_REPORTED_NOT_EVIDENT`, `INJURIES_NO_INDICATION`, `INJURIES_UNKNOWN`, there are 2674 missing values. "
      ],
      "metadata": {
        "id": "vw7aHFkJZeP9"
      }
    },
    {
      "cell_type": "markdown",
      "source": [
        "To check if the missing values are all in the same rows, we will see a dataframe with only these columns. Below is a dataframe with these columns in which `INJURIES_TOTAL` column has a missing value. "
      ],
      "metadata": {
        "id": "TO9SM6jTbN5J"
      }
    },
    {
      "cell_type": "code",
      "source": [
        "injuries_df = merged_df[['INJURIES_TOTAL', 'INJURIES_FATAL', 'INJURIES_INCAPACITATING', \n",
        "           'INJURIES_NON_INCAPACITATING', 'INJURIES_REPORTED_NOT_EVIDENT', 'INJURIES_NO_INDICATION', 'INJURIES_UNKNOWN']][merged_df['INJURIES_TOTAL'].isnull()]"
      ],
      "metadata": {
        "id": "VN9rhxy9aKCk"
      },
      "execution_count": null,
      "outputs": []
    },
    {
      "cell_type": "code",
      "source": [
        "injuries_df"
      ],
      "metadata": {
        "colab": {
          "base_uri": "https://localhost:8080/",
          "height": 488
        },
        "id": "OlgVBsxSbsPH",
        "outputId": "ae51b6c8-41df-4602-dd1a-ef656341c9fe"
      },
      "execution_count": null,
      "outputs": [
        {
          "output_type": "execute_result",
          "data": {
            "text/plain": [
              "         INJURIES_TOTAL  INJURIES_FATAL  INJURIES_INCAPACITATING  \\\n",
              "3207662             NaN             NaN                      NaN   \n",
              "3207663             NaN             NaN                      NaN   \n",
              "3207664             NaN             NaN                      NaN   \n",
              "3207667             NaN             NaN                      NaN   \n",
              "3207668             NaN             NaN                      NaN   \n",
              "...                 ...             ...                      ...   \n",
              "3207803             NaN             NaN                      NaN   \n",
              "3207804             NaN             NaN                      NaN   \n",
              "3207806             NaN             NaN                      NaN   \n",
              "3207807             NaN             NaN                      NaN   \n",
              "3207808             NaN             NaN                      NaN   \n",
              "\n",
              "         INJURIES_NON_INCAPACITATING  INJURIES_REPORTED_NOT_EVIDENT  \\\n",
              "3207662                          NaN                            NaN   \n",
              "3207663                          NaN                            NaN   \n",
              "3207664                          NaN                            NaN   \n",
              "3207667                          NaN                            NaN   \n",
              "3207668                          NaN                            NaN   \n",
              "...                              ...                            ...   \n",
              "3207803                          NaN                            NaN   \n",
              "3207804                          NaN                            NaN   \n",
              "3207806                          NaN                            NaN   \n",
              "3207807                          NaN                            NaN   \n",
              "3207808                          NaN                            NaN   \n",
              "\n",
              "         INJURIES_NO_INDICATION  INJURIES_UNKNOWN  \n",
              "3207662                     NaN               NaN  \n",
              "3207663                     NaN               NaN  \n",
              "3207664                     NaN               NaN  \n",
              "3207667                     NaN               NaN  \n",
              "3207668                     NaN               NaN  \n",
              "...                         ...               ...  \n",
              "3207803                     NaN               NaN  \n",
              "3207804                     NaN               NaN  \n",
              "3207806                     NaN               NaN  \n",
              "3207807                     NaN               NaN  \n",
              "3207808                     NaN               NaN  \n",
              "\n",
              "[110 rows x 7 columns]"
            ],
            "text/html": [
              "\n",
              "  <div id=\"df-212a4bf4-1ec3-41ea-a320-c9f8bf961615\">\n",
              "    <div class=\"colab-df-container\">\n",
              "      <div>\n",
              "<style scoped>\n",
              "    .dataframe tbody tr th:only-of-type {\n",
              "        vertical-align: middle;\n",
              "    }\n",
              "\n",
              "    .dataframe tbody tr th {\n",
              "        vertical-align: top;\n",
              "    }\n",
              "\n",
              "    .dataframe thead th {\n",
              "        text-align: right;\n",
              "    }\n",
              "</style>\n",
              "<table border=\"1\" class=\"dataframe\">\n",
              "  <thead>\n",
              "    <tr style=\"text-align: right;\">\n",
              "      <th></th>\n",
              "      <th>INJURIES_TOTAL</th>\n",
              "      <th>INJURIES_FATAL</th>\n",
              "      <th>INJURIES_INCAPACITATING</th>\n",
              "      <th>INJURIES_NON_INCAPACITATING</th>\n",
              "      <th>INJURIES_REPORTED_NOT_EVIDENT</th>\n",
              "      <th>INJURIES_NO_INDICATION</th>\n",
              "      <th>INJURIES_UNKNOWN</th>\n",
              "    </tr>\n",
              "  </thead>\n",
              "  <tbody>\n",
              "    <tr>\n",
              "      <th>3207662</th>\n",
              "      <td>NaN</td>\n",
              "      <td>NaN</td>\n",
              "      <td>NaN</td>\n",
              "      <td>NaN</td>\n",
              "      <td>NaN</td>\n",
              "      <td>NaN</td>\n",
              "      <td>NaN</td>\n",
              "    </tr>\n",
              "    <tr>\n",
              "      <th>3207663</th>\n",
              "      <td>NaN</td>\n",
              "      <td>NaN</td>\n",
              "      <td>NaN</td>\n",
              "      <td>NaN</td>\n",
              "      <td>NaN</td>\n",
              "      <td>NaN</td>\n",
              "      <td>NaN</td>\n",
              "    </tr>\n",
              "    <tr>\n",
              "      <th>3207664</th>\n",
              "      <td>NaN</td>\n",
              "      <td>NaN</td>\n",
              "      <td>NaN</td>\n",
              "      <td>NaN</td>\n",
              "      <td>NaN</td>\n",
              "      <td>NaN</td>\n",
              "      <td>NaN</td>\n",
              "    </tr>\n",
              "    <tr>\n",
              "      <th>3207667</th>\n",
              "      <td>NaN</td>\n",
              "      <td>NaN</td>\n",
              "      <td>NaN</td>\n",
              "      <td>NaN</td>\n",
              "      <td>NaN</td>\n",
              "      <td>NaN</td>\n",
              "      <td>NaN</td>\n",
              "    </tr>\n",
              "    <tr>\n",
              "      <th>3207668</th>\n",
              "      <td>NaN</td>\n",
              "      <td>NaN</td>\n",
              "      <td>NaN</td>\n",
              "      <td>NaN</td>\n",
              "      <td>NaN</td>\n",
              "      <td>NaN</td>\n",
              "      <td>NaN</td>\n",
              "    </tr>\n",
              "    <tr>\n",
              "      <th>...</th>\n",
              "      <td>...</td>\n",
              "      <td>...</td>\n",
              "      <td>...</td>\n",
              "      <td>...</td>\n",
              "      <td>...</td>\n",
              "      <td>...</td>\n",
              "      <td>...</td>\n",
              "    </tr>\n",
              "    <tr>\n",
              "      <th>3207803</th>\n",
              "      <td>NaN</td>\n",
              "      <td>NaN</td>\n",
              "      <td>NaN</td>\n",
              "      <td>NaN</td>\n",
              "      <td>NaN</td>\n",
              "      <td>NaN</td>\n",
              "      <td>NaN</td>\n",
              "    </tr>\n",
              "    <tr>\n",
              "      <th>3207804</th>\n",
              "      <td>NaN</td>\n",
              "      <td>NaN</td>\n",
              "      <td>NaN</td>\n",
              "      <td>NaN</td>\n",
              "      <td>NaN</td>\n",
              "      <td>NaN</td>\n",
              "      <td>NaN</td>\n",
              "    </tr>\n",
              "    <tr>\n",
              "      <th>3207806</th>\n",
              "      <td>NaN</td>\n",
              "      <td>NaN</td>\n",
              "      <td>NaN</td>\n",
              "      <td>NaN</td>\n",
              "      <td>NaN</td>\n",
              "      <td>NaN</td>\n",
              "      <td>NaN</td>\n",
              "    </tr>\n",
              "    <tr>\n",
              "      <th>3207807</th>\n",
              "      <td>NaN</td>\n",
              "      <td>NaN</td>\n",
              "      <td>NaN</td>\n",
              "      <td>NaN</td>\n",
              "      <td>NaN</td>\n",
              "      <td>NaN</td>\n",
              "      <td>NaN</td>\n",
              "    </tr>\n",
              "    <tr>\n",
              "      <th>3207808</th>\n",
              "      <td>NaN</td>\n",
              "      <td>NaN</td>\n",
              "      <td>NaN</td>\n",
              "      <td>NaN</td>\n",
              "      <td>NaN</td>\n",
              "      <td>NaN</td>\n",
              "      <td>NaN</td>\n",
              "    </tr>\n",
              "  </tbody>\n",
              "</table>\n",
              "<p>110 rows × 7 columns</p>\n",
              "</div>\n",
              "      <button class=\"colab-df-convert\" onclick=\"convertToInteractive('df-212a4bf4-1ec3-41ea-a320-c9f8bf961615')\"\n",
              "              title=\"Convert this dataframe to an interactive table.\"\n",
              "              style=\"display:none;\">\n",
              "        \n",
              "  <svg xmlns=\"http://www.w3.org/2000/svg\" height=\"24px\"viewBox=\"0 0 24 24\"\n",
              "       width=\"24px\">\n",
              "    <path d=\"M0 0h24v24H0V0z\" fill=\"none\"/>\n",
              "    <path d=\"M18.56 5.44l.94 2.06.94-2.06 2.06-.94-2.06-.94-.94-2.06-.94 2.06-2.06.94zm-11 1L8.5 8.5l.94-2.06 2.06-.94-2.06-.94L8.5 2.5l-.94 2.06-2.06.94zm10 10l.94 2.06.94-2.06 2.06-.94-2.06-.94-.94-2.06-.94 2.06-2.06.94z\"/><path d=\"M17.41 7.96l-1.37-1.37c-.4-.4-.92-.59-1.43-.59-.52 0-1.04.2-1.43.59L10.3 9.45l-7.72 7.72c-.78.78-.78 2.05 0 2.83L4 21.41c.39.39.9.59 1.41.59.51 0 1.02-.2 1.41-.59l7.78-7.78 2.81-2.81c.8-.78.8-2.07 0-2.86zM5.41 20L4 18.59l7.72-7.72 1.47 1.35L5.41 20z\"/>\n",
              "  </svg>\n",
              "      </button>\n",
              "      \n",
              "  <style>\n",
              "    .colab-df-container {\n",
              "      display:flex;\n",
              "      flex-wrap:wrap;\n",
              "      gap: 12px;\n",
              "    }\n",
              "\n",
              "    .colab-df-convert {\n",
              "      background-color: #E8F0FE;\n",
              "      border: none;\n",
              "      border-radius: 50%;\n",
              "      cursor: pointer;\n",
              "      display: none;\n",
              "      fill: #1967D2;\n",
              "      height: 32px;\n",
              "      padding: 0 0 0 0;\n",
              "      width: 32px;\n",
              "    }\n",
              "\n",
              "    .colab-df-convert:hover {\n",
              "      background-color: #E2EBFA;\n",
              "      box-shadow: 0px 1px 2px rgba(60, 64, 67, 0.3), 0px 1px 3px 1px rgba(60, 64, 67, 0.15);\n",
              "      fill: #174EA6;\n",
              "    }\n",
              "\n",
              "    [theme=dark] .colab-df-convert {\n",
              "      background-color: #3B4455;\n",
              "      fill: #D2E3FC;\n",
              "    }\n",
              "\n",
              "    [theme=dark] .colab-df-convert:hover {\n",
              "      background-color: #434B5C;\n",
              "      box-shadow: 0px 1px 3px 1px rgba(0, 0, 0, 0.15);\n",
              "      filter: drop-shadow(0px 1px 2px rgba(0, 0, 0, 0.3));\n",
              "      fill: #FFFFFF;\n",
              "    }\n",
              "  </style>\n",
              "\n",
              "      <script>\n",
              "        const buttonEl =\n",
              "          document.querySelector('#df-212a4bf4-1ec3-41ea-a320-c9f8bf961615 button.colab-df-convert');\n",
              "        buttonEl.style.display =\n",
              "          google.colab.kernel.accessAllowed ? 'block' : 'none';\n",
              "\n",
              "        async function convertToInteractive(key) {\n",
              "          const element = document.querySelector('#df-212a4bf4-1ec3-41ea-a320-c9f8bf961615');\n",
              "          const dataTable =\n",
              "            await google.colab.kernel.invokeFunction('convertToInteractive',\n",
              "                                                     [key], {});\n",
              "          if (!dataTable) return;\n",
              "\n",
              "          const docLinkHtml = 'Like what you see? Visit the ' +\n",
              "            '<a target=\"_blank\" href=https://colab.research.google.com/notebooks/data_table.ipynb>data table notebook</a>'\n",
              "            + ' to learn more about interactive tables.';\n",
              "          element.innerHTML = '';\n",
              "          dataTable['output_type'] = 'display_data';\n",
              "          await google.colab.output.renderOutput(dataTable, element);\n",
              "          const docLink = document.createElement('div');\n",
              "          docLink.innerHTML = docLinkHtml;\n",
              "          element.appendChild(docLink);\n",
              "        }\n",
              "      </script>\n",
              "    </div>\n",
              "  </div>\n",
              "  "
            ]
          },
          "metadata": {},
          "execution_count": 47
        }
      ]
    },
    {
      "cell_type": "code",
      "source": [
        "injuries_df.isnull().sum().sum() == injuries_df.shape[0] * injuries_df.shape[1]"
      ],
      "metadata": {
        "colab": {
          "base_uri": "https://localhost:8080/"
        },
        "id": "yQbClzkFZOlA",
        "outputId": "050af598-a2eb-4093-fc6b-2c3c1123978e"
      },
      "execution_count": null,
      "outputs": [
        {
          "output_type": "execute_result",
          "data": {
            "text/plain": [
              "True"
            ]
          },
          "metadata": {},
          "execution_count": 48
        }
      ]
    },
    {
      "cell_type": "markdown",
      "source": [
        "From the above dataframe, we see rows in which one column is missing has missing values for the rest of the columns. In fact, we can check that the entire dataframe is empty. Hence, we can confirm that there are 2674 rows which do not contain values in these 7 columns."
      ],
      "metadata": {
        "id": "odlloyaDb2di"
      }
    },
    {
      "cell_type": "markdown",
      "source": [
        "Because the aim of the problem statement is to predict injury level, these 6 columns are important. Hence, we will drop the 2674 rows that do not contain these 7 values. Now, we are left with 3,199,776 rows. "
      ],
      "metadata": {
        "id": "ohYmJG7NcIuh"
      }
    },
    {
      "cell_type": "code",
      "source": [
        "merged_df = merged_df[(merged_df[\"INJURIES_TOTAL\"].isna()== False)|(merged_df[\"INJURIES_FATAL\"].isna()==False)|(merged_df[\"INJURIES_INCAPACITATING\"].isna()==False)|(merged_df[\"INJURIES_NON_INCAPACITATING\"].isna()==False)|(merged_df[\"INJURIES_REPORTED_NOT_EVIDENT\"].isna()==False)|(merged_df[\"INJURIES_NO_INDICATION\"].isna()==False)|(merged_df[\"INJURIES_UNKNOWN\"].isna()==False)]"
      ],
      "metadata": {
        "id": "fcGjXFqAZOir"
      },
      "execution_count": null,
      "outputs": []
    },
    {
      "cell_type": "code",
      "source": [
        "merged_df.shape"
      ],
      "metadata": {
        "id": "ptlgohoMdJBN",
        "colab": {
          "base_uri": "https://localhost:8080/"
        },
        "outputId": "dd8f23d0-fe84-401a-e856-08a4e6954819"
      },
      "execution_count": null,
      "outputs": [
        {
          "output_type": "execute_result",
          "data": {
            "text/plain": [
              "(3199776, 27)"
            ]
          },
          "metadata": {},
          "execution_count": 56
        }
      ]
    },
    {
      "cell_type": "code",
      "source": [
        "merged_df.columns = [x.lower().strip() for x in list(merged_df.columns)]\n",
        "merged_df.head(2)"
      ],
      "metadata": {
        "colab": {
          "base_uri": "https://localhost:8080/",
          "height": 310
        },
        "id": "zfh5N5B-2IMm",
        "outputId": "b01caf2d-0ab0-4416-d5da-1d622a658856"
      },
      "execution_count": null,
      "outputs": [
        {
          "output_type": "execute_result",
          "data": {
            "text/plain": [
              "                                     crash_record_id          crash_date  \\\n",
              "0  79c7a2ce89f446262efd86df3d72d18b04ba487024b7c4... 2019-03-25 14:43:00   \n",
              "1  79c7a2ce89f446262efd86df3d72d18b04ba487024b7c4... 2019-03-25 14:43:00   \n",
              "\n",
              "       device_condition weather_condition lighting_condition  \\\n",
              "0  FUNCTIONING PROPERLY             CLEAR           DAYLIGHT   \n",
              "1  FUNCTIONING PROPERLY             CLEAR           DAYLIGHT   \n",
              "\n",
              "                         crash_type       damage  injuries_total  \\\n",
              "0  INJURY AND / OR TOW DUE TO CRASH  OVER $1,500             1.0   \n",
              "1  INJURY AND / OR TOW DUE TO CRASH  OVER $1,500             1.0   \n",
              "\n",
              "   injuries_fatal  injuries_incapacitating  ...   age  safety_equipment  \\\n",
              "0             0.0                      0.0  ...  27.0  SAFETY BELT USED   \n",
              "1             0.0                      0.0  ...  27.0  SAFETY BELT USED   \n",
              "\n",
              "   airbag_deployed    injury_classification vehicle_id  \\\n",
              "0   DID NOT DEPLOY  NO INDICATION OF INJURY   582401.0   \n",
              "1   DID NOT DEPLOY  NO INDICATION OF INJURY   582411.0   \n",
              "\n",
              "                         make  model                  vehicle_year  \\\n",
              "0                   CHEVROLET  CRUZE 1970-01-01 00:00:00.000002017   \n",
              "1  TOYOTA MOTOR COMPANY, LTD.  CAMRY 1970-01-01 00:00:00.000002010   \n",
              "\n",
              "  vehicle_type                        make_model  \n",
              "0    PASSENGER                   CHEVROLET CRUZE  \n",
              "1    PASSENGER  TOYOTA MOTOR COMPANY, LTD. CAMRY  \n",
              "\n",
              "[2 rows x 27 columns]"
            ],
            "text/html": [
              "\n",
              "  <div id=\"df-d960e4eb-f422-4b6e-969d-127e7023ab2f\">\n",
              "    <div class=\"colab-df-container\">\n",
              "      <div>\n",
              "<style scoped>\n",
              "    .dataframe tbody tr th:only-of-type {\n",
              "        vertical-align: middle;\n",
              "    }\n",
              "\n",
              "    .dataframe tbody tr th {\n",
              "        vertical-align: top;\n",
              "    }\n",
              "\n",
              "    .dataframe thead th {\n",
              "        text-align: right;\n",
              "    }\n",
              "</style>\n",
              "<table border=\"1\" class=\"dataframe\">\n",
              "  <thead>\n",
              "    <tr style=\"text-align: right;\">\n",
              "      <th></th>\n",
              "      <th>crash_record_id</th>\n",
              "      <th>crash_date</th>\n",
              "      <th>device_condition</th>\n",
              "      <th>weather_condition</th>\n",
              "      <th>lighting_condition</th>\n",
              "      <th>crash_type</th>\n",
              "      <th>damage</th>\n",
              "      <th>injuries_total</th>\n",
              "      <th>injuries_fatal</th>\n",
              "      <th>injuries_incapacitating</th>\n",
              "      <th>...</th>\n",
              "      <th>age</th>\n",
              "      <th>safety_equipment</th>\n",
              "      <th>airbag_deployed</th>\n",
              "      <th>injury_classification</th>\n",
              "      <th>vehicle_id</th>\n",
              "      <th>make</th>\n",
              "      <th>model</th>\n",
              "      <th>vehicle_year</th>\n",
              "      <th>vehicle_type</th>\n",
              "      <th>make_model</th>\n",
              "    </tr>\n",
              "  </thead>\n",
              "  <tbody>\n",
              "    <tr>\n",
              "      <th>0</th>\n",
              "      <td>79c7a2ce89f446262efd86df3d72d18b04ba487024b7c4...</td>\n",
              "      <td>2019-03-25 14:43:00</td>\n",
              "      <td>FUNCTIONING PROPERLY</td>\n",
              "      <td>CLEAR</td>\n",
              "      <td>DAYLIGHT</td>\n",
              "      <td>INJURY AND / OR TOW DUE TO CRASH</td>\n",
              "      <td>OVER $1,500</td>\n",
              "      <td>1.0</td>\n",
              "      <td>0.0</td>\n",
              "      <td>0.0</td>\n",
              "      <td>...</td>\n",
              "      <td>27.0</td>\n",
              "      <td>SAFETY BELT USED</td>\n",
              "      <td>DID NOT DEPLOY</td>\n",
              "      <td>NO INDICATION OF INJURY</td>\n",
              "      <td>582401.0</td>\n",
              "      <td>CHEVROLET</td>\n",
              "      <td>CRUZE</td>\n",
              "      <td>1970-01-01 00:00:00.000002017</td>\n",
              "      <td>PASSENGER</td>\n",
              "      <td>CHEVROLET CRUZE</td>\n",
              "    </tr>\n",
              "    <tr>\n",
              "      <th>1</th>\n",
              "      <td>79c7a2ce89f446262efd86df3d72d18b04ba487024b7c4...</td>\n",
              "      <td>2019-03-25 14:43:00</td>\n",
              "      <td>FUNCTIONING PROPERLY</td>\n",
              "      <td>CLEAR</td>\n",
              "      <td>DAYLIGHT</td>\n",
              "      <td>INJURY AND / OR TOW DUE TO CRASH</td>\n",
              "      <td>OVER $1,500</td>\n",
              "      <td>1.0</td>\n",
              "      <td>0.0</td>\n",
              "      <td>0.0</td>\n",
              "      <td>...</td>\n",
              "      <td>27.0</td>\n",
              "      <td>SAFETY BELT USED</td>\n",
              "      <td>DID NOT DEPLOY</td>\n",
              "      <td>NO INDICATION OF INJURY</td>\n",
              "      <td>582411.0</td>\n",
              "      <td>TOYOTA MOTOR COMPANY, LTD.</td>\n",
              "      <td>CAMRY</td>\n",
              "      <td>1970-01-01 00:00:00.000002010</td>\n",
              "      <td>PASSENGER</td>\n",
              "      <td>TOYOTA MOTOR COMPANY, LTD. CAMRY</td>\n",
              "    </tr>\n",
              "  </tbody>\n",
              "</table>\n",
              "<p>2 rows × 27 columns</p>\n",
              "</div>\n",
              "      <button class=\"colab-df-convert\" onclick=\"convertToInteractive('df-d960e4eb-f422-4b6e-969d-127e7023ab2f')\"\n",
              "              title=\"Convert this dataframe to an interactive table.\"\n",
              "              style=\"display:none;\">\n",
              "        \n",
              "  <svg xmlns=\"http://www.w3.org/2000/svg\" height=\"24px\"viewBox=\"0 0 24 24\"\n",
              "       width=\"24px\">\n",
              "    <path d=\"M0 0h24v24H0V0z\" fill=\"none\"/>\n",
              "    <path d=\"M18.56 5.44l.94 2.06.94-2.06 2.06-.94-2.06-.94-.94-2.06-.94 2.06-2.06.94zm-11 1L8.5 8.5l.94-2.06 2.06-.94-2.06-.94L8.5 2.5l-.94 2.06-2.06.94zm10 10l.94 2.06.94-2.06 2.06-.94-2.06-.94-.94-2.06-.94 2.06-2.06.94z\"/><path d=\"M17.41 7.96l-1.37-1.37c-.4-.4-.92-.59-1.43-.59-.52 0-1.04.2-1.43.59L10.3 9.45l-7.72 7.72c-.78.78-.78 2.05 0 2.83L4 21.41c.39.39.9.59 1.41.59.51 0 1.02-.2 1.41-.59l7.78-7.78 2.81-2.81c.8-.78.8-2.07 0-2.86zM5.41 20L4 18.59l7.72-7.72 1.47 1.35L5.41 20z\"/>\n",
              "  </svg>\n",
              "      </button>\n",
              "      \n",
              "  <style>\n",
              "    .colab-df-container {\n",
              "      display:flex;\n",
              "      flex-wrap:wrap;\n",
              "      gap: 12px;\n",
              "    }\n",
              "\n",
              "    .colab-df-convert {\n",
              "      background-color: #E8F0FE;\n",
              "      border: none;\n",
              "      border-radius: 50%;\n",
              "      cursor: pointer;\n",
              "      display: none;\n",
              "      fill: #1967D2;\n",
              "      height: 32px;\n",
              "      padding: 0 0 0 0;\n",
              "      width: 32px;\n",
              "    }\n",
              "\n",
              "    .colab-df-convert:hover {\n",
              "      background-color: #E2EBFA;\n",
              "      box-shadow: 0px 1px 2px rgba(60, 64, 67, 0.3), 0px 1px 3px 1px rgba(60, 64, 67, 0.15);\n",
              "      fill: #174EA6;\n",
              "    }\n",
              "\n",
              "    [theme=dark] .colab-df-convert {\n",
              "      background-color: #3B4455;\n",
              "      fill: #D2E3FC;\n",
              "    }\n",
              "\n",
              "    [theme=dark] .colab-df-convert:hover {\n",
              "      background-color: #434B5C;\n",
              "      box-shadow: 0px 1px 3px 1px rgba(0, 0, 0, 0.15);\n",
              "      filter: drop-shadow(0px 1px 2px rgba(0, 0, 0, 0.3));\n",
              "      fill: #FFFFFF;\n",
              "    }\n",
              "  </style>\n",
              "\n",
              "      <script>\n",
              "        const buttonEl =\n",
              "          document.querySelector('#df-d960e4eb-f422-4b6e-969d-127e7023ab2f button.colab-df-convert');\n",
              "        buttonEl.style.display =\n",
              "          google.colab.kernel.accessAllowed ? 'block' : 'none';\n",
              "\n",
              "        async function convertToInteractive(key) {\n",
              "          const element = document.querySelector('#df-d960e4eb-f422-4b6e-969d-127e7023ab2f');\n",
              "          const dataTable =\n",
              "            await google.colab.kernel.invokeFunction('convertToInteractive',\n",
              "                                                     [key], {});\n",
              "          if (!dataTable) return;\n",
              "\n",
              "          const docLinkHtml = 'Like what you see? Visit the ' +\n",
              "            '<a target=\"_blank\" href=https://colab.research.google.com/notebooks/data_table.ipynb>data table notebook</a>'\n",
              "            + ' to learn more about interactive tables.';\n",
              "          element.innerHTML = '';\n",
              "          dataTable['output_type'] = 'display_data';\n",
              "          await google.colab.output.renderOutput(dataTable, element);\n",
              "          const docLink = document.createElement('div');\n",
              "          docLink.innerHTML = docLinkHtml;\n",
              "          element.appendChild(docLink);\n",
              "        }\n",
              "      </script>\n",
              "    </div>\n",
              "  </div>\n",
              "  "
            ]
          },
          "metadata": {},
          "execution_count": 37
        }
      ]
    },
    {
      "cell_type": "code",
      "source": [
        "merged_df = merged_df[merged_df[\"STATE\"].isna()==False] #drop people whose states are unknown?\n",
        "# merged_df = merged_df[merged_df[\"STATE\"]!=\"IL\"]\n",
        "# merged_df = merged_df.drop([\"CITY\"])\n",
        "# merged_df = merged_df.drop([\"STATE\"])\n",
        "merged_df = merged_df[merged_df[\"WEATHER_CONDITION\"].isna()==False]\n",
        "merged_df = merged_df[(merged_df[\"INJURIES_TOTAL\"].isna()==False) || (merged_df[\"INJURIES_FATAL\"].isna()==False) \\\\\n",
        "                      || (merged_df[\"INJURIES_INCAPACITATING\"].isna()==False)]\n",
        "\n",
        "\n",
        "# merged_df.head(50)\n",
        "merged_df.tail(50)"
      ],
      "metadata": {
        "colab": {
          "base_uri": "https://localhost:8080/",
          "height": 134
        },
        "id": "SZRA_ac17XO_",
        "outputId": "7a3c072e-7a3c-4a63-cf7e-85937734ff6e"
      },
      "execution_count": null,
      "outputs": [
        {
          "output_type": "error",
          "ename": "SyntaxError",
          "evalue": "ignored",
          "traceback": [
            "\u001b[0;36m  File \u001b[0;32m\"<ipython-input-38-6e0d62109f44>\"\u001b[0;36m, line \u001b[0;32m6\u001b[0m\n\u001b[0;31m    merged_df = merged_df[(merged_df[\"INJURIES_TOTAL\"].isna()==False) || (merged_df[\"INJURIES_FATAL\"].isna()==False) \\\\\u001b[0m\n\u001b[0m                                                                       ^\u001b[0m\n\u001b[0;31mSyntaxError\u001b[0m\u001b[0;31m:\u001b[0m invalid syntax\n"
          ]
        }
      ]
    },
    {
      "cell_type": "markdown",
      "source": [
        "## Vizualizing the Data"
      ],
      "metadata": {
        "id": "BBdmaAmV7_4I"
      }
    },
    {
      "cell_type": "markdown",
      "source": [
        "Since the project is in the data exploration stage. We won't visualize the trends of all variables in our hypothesis, but selectively did two examples to demonstrate the direction of our analysis. The first example is the scatterplot between the driver's age and the number of total injuries in a crash. The second example is the (stacked) bar chart between the weather condition and injury classification to see whether there is a correlation between the severity of injuries and weather conditions."
      ],
      "metadata": {
        "id": "TX1VkCEM26WW"
      }
    },
    {
      "cell_type": "markdown",
      "source": [
        "### Scatterplot"
      ],
      "metadata": {
        "id": "49yJycIK3jgv"
      }
    },
    {
      "cell_type": "markdown",
      "source": [
        "The scatterplot shows the correlation between age and the number of total injuries. As the age increases, the number of total injuries decreases. The age variable might still have a number of outliers, as there are some values close to 0 on the x axis."
      ],
      "metadata": {
        "id": "8P4TDuXH9Ru4"
      }
    },
    {
      "cell_type": "code",
      "source": [
        "import matplotlib.pyplot as plt\n",
        "\n",
        "# Filter the data to include only drivers\n",
        "drivers = merged_df[merged_df['person_type'] == 'DRIVER']\n",
        "\n",
        "# Set the size of the random sample\n",
        "sample_size = 10000\n",
        "\n",
        "# Create a random sample of data points\n",
        "drivers = drivers.sample(n=sample_size, random_state=1)\n",
        "\n",
        "# Create a scatterplot of age and injuries_total\n",
        "plt.scatter(drivers['age'], drivers['injuries_total'], alpha=0.5)\n",
        "\n",
        "# Set axis labels\n",
        "plt.xlabel('Age')\n",
        "plt.ylabel('Injury Total')\n",
        "\n",
        "# Show the plot\n",
        "plt.show()"
      ],
      "metadata": {
        "colab": {
          "base_uri": "https://localhost:8080/",
          "height": 279
        },
        "id": "HRCw1UXw26Af",
        "outputId": "6f907f3d-1f3a-4a10-d920-14166d1b12f6"
      },
      "execution_count": null,
      "outputs": [
        {
          "output_type": "display_data",
          "data": {
            "text/plain": [
              "<Figure size 432x288 with 1 Axes>"
            ],
            "image/png": "[encoded data removed]"
          },
          "metadata": {
            "needs_background": "light"
          }
        }
      ]
    },
    {
      "cell_type": "markdown",
      "source": [
        "### Bar Chart\n",
        "\n",
        "We want to investigate how the weather condition affect the severity of the injuries in the crashes. Therefore, it would be useful to look at the severity or classification of injury in each weather condition. In this chart, the x axis represents the weather conditions, and the y axis shows the number of different level of injuries."
      ],
      "metadata": {
        "id": "VS85BtZB_lut"
      }
    },
    {
      "cell_type": "code",
      "source": [
        "import matplotlib.pyplot as plt\n",
        "\n",
        "# Group the data by weather condition and injury severity\n",
        "grouped_df = merged_df.groupby(['weather_condition', 'injury_classification']).size().unstack()\n",
        "\n",
        "# Create the bar chart\n",
        "ax = grouped_df.plot(kind='bar')\n",
        "\n",
        "# Add axis labels and a title\n",
        "plt.xlabel('Weather Condition')\n",
        "plt.ylabel('Number of Crashes')\n",
        "plt.title('Relationship Between Weather and Injury Severity in Crashes')\n",
        "\n",
        "# Move the legend outside the chart\n",
        "ax.legend(loc='center left', bbox_to_anchor=(1, 0.5))\n",
        "\n",
        "# Show the plot\n",
        "plt.show()"
      ],
      "metadata": {
        "colab": {
          "base_uri": "https://localhost:8080/",
          "height": 433
        },
        "id": "O06UJ3TxCkVG",
        "outputId": "5c173999-2dd5-4d29-ff92-ece44fc802cf"
      },
      "execution_count": null,
      "outputs": [
        {
          "output_type": "display_data",
          "data": {
            "text/plain": [
              "<Figure size 432x288 with 1 Axes>"
            ],
            "image/png": "[encoded data removed]"
          },
          "metadata": {
            "needs_background": "light"
          }
        }
      ]
    },
    {
      "cell_type": "markdown",
      "source": [
        "### Stacked Bar Chart\n",
        "\n",
        "From the previous bar chart, we can see that the clear weather conditions have the highest number of crashes and relatively higher number of injuries. It might not be very useful to compare the absolute values of different type of injuries because clear weather conditions happen the most often. Moreover, it is not the most effective way to demonstrate the relationship between weather and injury severity. By normalizing the level of injuries relative to the number of crashes, the stacked bar chart allows for better comparison between different weather conditions."
      ],
      "metadata": {
        "id": "GDz67_zwDSxX"
      }
    },
    {
      "cell_type": "code",
      "source": [
        "# Calculate the total number of crashes for each weather condition\n",
        "total_df = grouped_df.sum(axis=1)\n",
        "\n",
        "# Calculate the proportion of crashes with each level of injury severity for each weather condition\n",
        "prop_df = grouped_df.divide(total_df, axis=0)\n",
        "\n",
        "# Create the stacked bar chart\n",
        "prop_df.plot(kind='bar', stacked=True)\n",
        "\n",
        "# Add axis labels and a title\n",
        "plt.xlabel('Weather Condition')\n",
        "plt.ylabel('Proportion of Crashes')\n",
        "plt.title('Relationship Between Weather and Injury Severity in Crashes')\n",
        "\n",
        "# Move the legend to the upper left\n",
        "plt.legend(bbox_to_anchor=(1.05, 1), loc='upper left')\n",
        "\n",
        "# Show the plot\n",
        "plt.show()"
      ],
      "metadata": {
        "colab": {
          "base_uri": "https://localhost:8080/",
          "height": 422
        },
        "id": "0MDrl1Jf8D2K",
        "outputId": "f7e17adc-7e80-4551-fcdf-7e13bd41c40d"
      },
      "execution_count": null,
      "outputs": [
        {
          "output_type": "display_data",
          "data": {
            "text/plain": [
              "<Figure size 432x288 with 1 Axes>"
            ],
            "image/png": "[encoded data removed]"
          },
          "metadata": {
            "needs_background": "light"
          }
        }
      ]
    },
    {
      "cell_type": "markdown",
      "source": [
        "## Verifying\n",
        "As the last step, let's verify that our dataset looks workable now and that all the changes had their intended effects. "
      ],
      "metadata": {
        "id": "XTGaWauE69t5"
      }
    },
    {
      "cell_type": "code",
      "source": [
        "#First, let's make sure that everything looks like we want by taking random sample and investigating it manually\n",
        "merged_df.sample(50)"
      ],
      "metadata": {
        "id": "PcBvINTBqw7s",
        "colab": {
          "base_uri": "https://localhost:8080/",
          "height": 1000
        },
        "outputId": "5a6f8cb0-e235-4d4c-841d-67f7c38f760e"
      },
      "execution_count": null,
      "outputs": [
        {
          "output_type": "execute_result",
          "data": {
            "text/plain": [
              "                                           crash_record_id  \\\n",
              "348657   8dd2b2c668f371d2c0f1f640bfbc214a3c122c2c36d1f7...   \n",
              "340357   4a00c21366e81be649854d40933909f57cef426a3a9459...   \n",
              "2811938  f2109f9c7fcb2f275d0c4efecdf326187fa4f837afbf30...   \n",
              "1818546  98a9b657ae75de91c3e01338513cac34eb20f80d0ad385...   \n",
              "2875033  f79e855d00c11ac0566818620e29070b244c1824707df9...   \n",
              "2473922  d383ad8bdbc7ee7531c8bda3b8e7f738cb0ab6fbe183bc...   \n",
              "1038165  3acdd8b476a802161af9d70678bcb757902d3a9ccf6d0c...   \n",
              "91096    7e0149ae2ea7109e4fd685320dbbb3347f7522c492f09b...   \n",
              "3103069  8936452b523e0ab796215620d494d6506e492ef6abe538...   \n",
              "222497   8573e77f10e36b51daf8ee22f1d601f60bf1b993052144...   \n",
              "1892999  a0f7528231bfca4923adf278784a47c947c24234b84641...   \n",
              "2758243  ee0ab0c0f4c18192315acd6e6950aa7b416286370e947b...   \n",
              "468536   09f1199e1f90595e24b8883065586c1289880f3cc6c314...   \n",
              "402702   00117cf4b71ef94a87a1219972a9b65616ba7d2277994c...   \n",
              "1375512  5974c77930561ddf05c7c13e77fa8feffd9be2a04393f9...   \n",
              "345468   8d48978595ac769336af6b03f201a0de06ced4c18cf0e7...   \n",
              "514499   0bd93e28129338929ecec510d1b9924859b81a8644c451...   \n",
              "1967389  a798017cb37d9a569f418a6a32e51a771abb9aad6f9982...   \n",
              "2360076  c9710b40c018869fbba161b2e55f45f59ee92d5f7a2e30...   \n",
              "1709740  729a0e9c14d54a206f835266d00f32e49a0e900993d135...   \n",
              "2321164  c59213cfc6beaa7a84e489a3f40007c8b24545a1b84a4c...   \n",
              "3852     7a7b10287201e4b93b2bc3b16a740c45c3fc47b2db5653...   \n",
              "2532559  d93963785ca63d2e3d866d02fee5a10e3054d4b87bf842...   \n",
              "730238   1f054be7d9cc26339470c25555d463f0dbec9e1dfe53ea...   \n",
              "647412   17be2e9f09ea4c6ae0dfb014b32da4ec3fe4a4671a905e...   \n",
              "1577058  6834a69763fba143b172b06cabdedddb27eecdabff4986...   \n",
              "2832266  f33ab35b0a33597fcedefc9d9eef2481c7e20558ea7a42...   \n",
              "280788   8c1289142280b65b3eb2075dc7c3368fdb026efa1597fe...   \n",
              "637529   160d91f8325d45549f59e41d6a784741dd52d5d7bcf955...   \n",
              "3110583  bf8680b6fb7b4fb3523d98c14fa76ebe74c3cfe9135ba8...   \n",
              "1217001  49b99389fccb198d76c1a8187a07f03d16c5be9e7f4e02...   \n",
              "1086440  3f4408455b4958581b2d069ad8e4084430794a39d7f43c...   \n",
              "1811106  998a284791f53e260e70a770295866d8300bf3fb0892a7...   \n",
              "2815297  efbe4dbbdda51460c5c0b3a293d28c2e174832b34279db...   \n",
              "3000235  d61cc8b58f476218eec00bae03eeb72facd516a0718c1e...   \n",
              "585750   11dcd8a3d2f2a340528e6415ba0ac4fce18d752dd0cf80...   \n",
              "3139555  cc6f297eb5748f5a5eb6549e0182fdc308ac3f8bb0d7fe...   \n",
              "2037392  abd7cc73262f122e3032a812fb28b1f4325357f738befb...   \n",
              "346916   8dd0ac9abe8d63a5f1e70e5760c00f481ee7c8c50b9651...   \n",
              "2331105  c72a8eab954a3104a1a052e68d9e9aaa9c42654b45ee83...   \n",
              "2349310  c8c7fc7a3e10b8004cd7034b6093b6ad6d7b08541997a2...   \n",
              "1843840  9cf61249899809f609b187d43de542ce0fb9155548504e...   \n",
              "26101    2451f8229c480e63cd775ccf17c70d993c2e3e40e75ef7...   \n",
              "2033391  ac32c973770040935ff5828f0e77b9d4e2f10d18fc6d0e...   \n",
              "574855   1347ce495081e41211eb418532b2f229f752a73823b563...   \n",
              "517465   0a524b4c05f1fef09e04b8d07c3bad996203a3257f4620...   \n",
              "3198118  a26884481808cec75ccc483bd4ed826a1f57cefc2aaf89...   \n",
              "1105782  429f0c812e2a963d2c46dce00b0f3082698c0e17f3a049...   \n",
              "2244819  bda13c623ea765bfdf329ebac4fa280db5759ff09f810d...   \n",
              "2475215  d1dab5c85cc1b968582d54d93e0b2b3509cb06d8be8cfa...   \n",
              "\n",
              "                 crash_date      device_condition weather_condition  \\\n",
              "348657  2018-04-29 15:04:00           NO CONTROLS             CLEAR   \n",
              "340357  2019-08-26 10:05:00           NO CONTROLS              RAIN   \n",
              "2811938 2021-06-04 22:30:00  FUNCTIONING PROPERLY             CLEAR   \n",
              "1818546 2020-03-04 21:16:00  FUNCTIONING PROPERLY             CLEAR   \n",
              "2875033 2020-11-25 07:00:00           NO CONTROLS              RAIN   \n",
              "2473922 2019-03-29 22:53:00           NO CONTROLS              RAIN   \n",
              "1038165 2018-05-09 18:30:00  FUNCTIONING PROPERLY             CLEAR   \n",
              "91096   2019-06-28 15:20:00           NO CONTROLS             CLEAR   \n",
              "3103069 2020-05-26 21:30:00           NO CONTROLS             CLEAR   \n",
              "222497  2019-01-15 08:05:00  FUNCTIONING PROPERLY             CLEAR   \n",
              "1892999 2021-09-26 14:30:00           NO CONTROLS             CLEAR   \n",
              "2758243 2019-06-12 15:50:00  FUNCTIONING PROPERLY              RAIN   \n",
              "468536  2018-07-12 14:49:00           NO CONTROLS             CLEAR   \n",
              "402702  2021-05-12 10:30:00  FUNCTIONING PROPERLY             CLEAR   \n",
              "1375512 2021-07-25 04:13:00  FUNCTIONING PROPERLY             CLEAR   \n",
              "345468  2018-07-27 16:50:00  FUNCTIONING PROPERLY             CLEAR   \n",
              "514499  2016-11-29 08:15:00  FUNCTIONING PROPERLY             CLEAR   \n",
              "1967389 2018-12-29 01:30:00           NO CONTROLS             CLEAR   \n",
              "2360076 2017-09-07 23:06:00  FUNCTIONING PROPERLY             CLEAR   \n",
              "1709740 2021-04-19 19:28:00  FUNCTIONING PROPERLY             CLEAR   \n",
              "2321164 2021-09-22 16:53:00  FUNCTIONING PROPERLY             CLEAR   \n",
              "3852    2018-06-26 12:30:00           NO CONTROLS             CLEAR   \n",
              "2532559 2017-05-24 09:15:00           NO CONTROLS              RAIN   \n",
              "730238  2018-07-08 14:19:00           NO CONTROLS             CLEAR   \n",
              "647412  2021-03-06 00:31:00           NO CONTROLS             CLEAR   \n",
              "1577058 2016-09-06 15:32:00           NO CONTROLS             CLEAR   \n",
              "2832266 2018-08-11 14:18:00           NO CONTROLS             CLEAR   \n",
              "280788  2020-11-03 13:55:00  FUNCTIONING PROPERLY             CLEAR   \n",
              "637529  2018-08-01 15:54:00  FUNCTIONING PROPERLY              RAIN   \n",
              "3110583 2023-01-13 07:55:00           NO CONTROLS   CLOUDY/OVERCAST   \n",
              "1217001 2021-08-19 22:09:00       NOT FUNCTIONING             CLEAR   \n",
              "1086440 2019-04-12 17:00:00           NO CONTROLS             CLEAR   \n",
              "1811106 2020-06-04 01:45:00  FUNCTIONING PROPERLY             CLEAR   \n",
              "2815297 2022-03-28 11:50:00           NO CONTROLS             CLEAR   \n",
              "3000235 2022-12-09 21:15:00  FUNCTIONING PROPERLY              RAIN   \n",
              "585750  2018-04-21 10:13:00           NO CONTROLS             CLEAR   \n",
              "3139555 2019-06-17 10:00:00  FUNCTIONING PROPERLY             CLEAR   \n",
              "2037392 2022-06-12 00:30:00           NO CONTROLS             CLEAR   \n",
              "346916  2018-03-21 17:20:00           NO CONTROLS             CLEAR   \n",
              "2331105 2020-10-26 00:45:00           NO CONTROLS              RAIN   \n",
              "2349310 2020-06-19 16:00:00           NO CONTROLS             CLEAR   \n",
              "1843840 2017-11-25 14:30:00           NO CONTROLS             CLEAR   \n",
              "26101   2022-07-19 19:43:00                  None             CLEAR   \n",
              "2033391 2019-11-28 15:20:00  FUNCTIONING PROPERLY             CLEAR   \n",
              "574855  2018-11-21 18:35:00                  None             CLEAR   \n",
              "517465  2019-11-15 18:00:00  FUNCTIONING PROPERLY             CLEAR   \n",
              "3198118 2022-11-23 14:06:00  FUNCTIONING PROPERLY             CLEAR   \n",
              "1105782 2015-09-27 21:00:00  FUNCTIONING PROPERLY             CLEAR   \n",
              "2244819 2022-01-16 09:25:00           NO CONTROLS             CLEAR   \n",
              "2475215 2017-06-02 16:00:00           NO CONTROLS             CLEAR   \n",
              "\n",
              "             lighting_condition                        crash_type  \\\n",
              "348657                 DAYLIGHT  INJURY AND / OR TOW DUE TO CRASH   \n",
              "340357                 DAYLIGHT            NO INJURY / DRIVE AWAY   \n",
              "2811938  DARKNESS, LIGHTED ROAD            NO INJURY / DRIVE AWAY   \n",
              "1818546  DARKNESS, LIGHTED ROAD            NO INJURY / DRIVE AWAY   \n",
              "2875033                DAYLIGHT  INJURY AND / OR TOW DUE TO CRASH   \n",
              "2473922  DARKNESS, LIGHTED ROAD            NO INJURY / DRIVE AWAY   \n",
              "1038165                DAYLIGHT            NO INJURY / DRIVE AWAY   \n",
              "91096                  DAYLIGHT            NO INJURY / DRIVE AWAY   \n",
              "3103069                DARKNESS  INJURY AND / OR TOW DUE TO CRASH   \n",
              "222497                 DAYLIGHT            NO INJURY / DRIVE AWAY   \n",
              "1892999                DAYLIGHT            NO INJURY / DRIVE AWAY   \n",
              "2758243                DAYLIGHT            NO INJURY / DRIVE AWAY   \n",
              "468536                 DAYLIGHT            NO INJURY / DRIVE AWAY   \n",
              "402702                 DAYLIGHT            NO INJURY / DRIVE AWAY   \n",
              "1375512  DARKNESS, LIGHTED ROAD            NO INJURY / DRIVE AWAY   \n",
              "345468                 DAYLIGHT  INJURY AND / OR TOW DUE TO CRASH   \n",
              "514499                 DAYLIGHT            NO INJURY / DRIVE AWAY   \n",
              "1967389  DARKNESS, LIGHTED ROAD  INJURY AND / OR TOW DUE TO CRASH   \n",
              "2360076  DARKNESS, LIGHTED ROAD  INJURY AND / OR TOW DUE TO CRASH   \n",
              "1709740                DARKNESS            NO INJURY / DRIVE AWAY   \n",
              "2321164                    DUSK            NO INJURY / DRIVE AWAY   \n",
              "3852                   DAYLIGHT            NO INJURY / DRIVE AWAY   \n",
              "2532559                DAYLIGHT            NO INJURY / DRIVE AWAY   \n",
              "730238                 DAYLIGHT            NO INJURY / DRIVE AWAY   \n",
              "647412   DARKNESS, LIGHTED ROAD            NO INJURY / DRIVE AWAY   \n",
              "1577058                DAYLIGHT            NO INJURY / DRIVE AWAY   \n",
              "2832266                DAYLIGHT            NO INJURY / DRIVE AWAY   \n",
              "280788                 DAYLIGHT            NO INJURY / DRIVE AWAY   \n",
              "637529                 DAYLIGHT  INJURY AND / OR TOW DUE TO CRASH   \n",
              "3110583                DAYLIGHT            NO INJURY / DRIVE AWAY   \n",
              "1217001  DARKNESS, LIGHTED ROAD  INJURY AND / OR TOW DUE TO CRASH   \n",
              "1086440                DAYLIGHT            NO INJURY / DRIVE AWAY   \n",
              "1811106                DAYLIGHT            NO INJURY / DRIVE AWAY   \n",
              "2815297                DAYLIGHT  INJURY AND / OR TOW DUE TO CRASH   \n",
              "3000235  DARKNESS, LIGHTED ROAD  INJURY AND / OR TOW DUE TO CRASH   \n",
              "585750                 DAYLIGHT            NO INJURY / DRIVE AWAY   \n",
              "3139555                DAYLIGHT  INJURY AND / OR TOW DUE TO CRASH   \n",
              "2037392  DARKNESS, LIGHTED ROAD            NO INJURY / DRIVE AWAY   \n",
              "346916                 DAYLIGHT            NO INJURY / DRIVE AWAY   \n",
              "2331105                DARKNESS  INJURY AND / OR TOW DUE TO CRASH   \n",
              "2349310                DAYLIGHT            NO INJURY / DRIVE AWAY   \n",
              "1843840                DAYLIGHT            NO INJURY / DRIVE AWAY   \n",
              "26101                  DAYLIGHT  INJURY AND / OR TOW DUE TO CRASH   \n",
              "2033391                DAYLIGHT            NO INJURY / DRIVE AWAY   \n",
              "574855   DARKNESS, LIGHTED ROAD  INJURY AND / OR TOW DUE TO CRASH   \n",
              "517465   DARKNESS, LIGHTED ROAD            NO INJURY / DRIVE AWAY   \n",
              "3198118                DAYLIGHT  INJURY AND / OR TOW DUE TO CRASH   \n",
              "1105782  DARKNESS, LIGHTED ROAD            NO INJURY / DRIVE AWAY   \n",
              "2244819                DAYLIGHT  INJURY AND / OR TOW DUE TO CRASH   \n",
              "2475215                DAYLIGHT  INJURY AND / OR TOW DUE TO CRASH   \n",
              "\n",
              "                damage  injuries_total  injuries_fatal  \\\n",
              "348657     OVER $1,500             0.0             0.0   \n",
              "340357    $500 OR LESS             0.0             0.0   \n",
              "2811938  $501 - $1,500             0.0             0.0   \n",
              "1818546   $500 OR LESS             0.0             0.0   \n",
              "2875033    OVER $1,500             5.0             0.0   \n",
              "2473922    OVER $1,500             0.0             0.0   \n",
              "1038165    OVER $1,500             0.0             0.0   \n",
              "91096      OVER $1,500             0.0             0.0   \n",
              "3103069    OVER $1,500             0.0             0.0   \n",
              "222497    $500 OR LESS             0.0             0.0   \n",
              "1892999    OVER $1,500             0.0             0.0   \n",
              "2758243    OVER $1,500             0.0             0.0   \n",
              "468536    $500 OR LESS             0.0             0.0   \n",
              "402702   $501 - $1,500             0.0             0.0   \n",
              "1375512  $501 - $1,500             0.0             0.0   \n",
              "345468     OVER $1,500             1.0             0.0   \n",
              "514499    $500 OR LESS             0.0             0.0   \n",
              "1967389    OVER $1,500             1.0             0.0   \n",
              "2360076    OVER $1,500             1.0             0.0   \n",
              "1709740    OVER $1,500             0.0             0.0   \n",
              "2321164  $501 - $1,500             0.0             0.0   \n",
              "3852       OVER $1,500             0.0             0.0   \n",
              "2532559  $501 - $1,500             0.0             0.0   \n",
              "730238    $500 OR LESS             0.0             0.0   \n",
              "647412   $501 - $1,500             0.0             0.0   \n",
              "1577058  $501 - $1,500             0.0             0.0   \n",
              "2832266    OVER $1,500             0.0             0.0   \n",
              "280788   $501 - $1,500             0.0             0.0   \n",
              "637529   $501 - $1,500             1.0             0.0   \n",
              "3110583  $501 - $1,500             0.0             0.0   \n",
              "1217001    OVER $1,500             3.0             0.0   \n",
              "1086440  $501 - $1,500             0.0             0.0   \n",
              "1811106  $501 - $1,500             0.0             0.0   \n",
              "2815297    OVER $1,500             0.0             0.0   \n",
              "3000235   $500 OR LESS             1.0             0.0   \n",
              "585750     OVER $1,500             0.0             0.0   \n",
              "3139555    OVER $1,500             2.0             0.0   \n",
              "2037392    OVER $1,500             0.0             0.0   \n",
              "346916     OVER $1,500             0.0             0.0   \n",
              "2331105    OVER $1,500             0.0             0.0   \n",
              "2349310    OVER $1,500             0.0             0.0   \n",
              "1843840  $501 - $1,500             0.0             0.0   \n",
              "26101      OVER $1,500             0.0             0.0   \n",
              "2033391  $501 - $1,500             0.0             0.0   \n",
              "574855     OVER $1,500             0.0             0.0   \n",
              "517465   $501 - $1,500             0.0             0.0   \n",
              "3198118    OVER $1,500             0.0             0.0   \n",
              "1105782    OVER $1,500             0.0             0.0   \n",
              "2244819    OVER $1,500             1.0             0.0   \n",
              "2475215    OVER $1,500             1.0             0.0   \n",
              "\n",
              "         injuries_incapacitating  ...   age      safety_equipment  \\\n",
              "348657                       0.0  ...  28.0                  None   \n",
              "340357                       0.0  ...  51.0      SAFETY BELT USED   \n",
              "2811938                      0.0  ...   NaN                  None   \n",
              "1818546                      0.0  ...   NaN      SAFETY BELT USED   \n",
              "2875033                      0.0  ...  27.0      SAFETY BELT USED   \n",
              "2473922                      0.0  ...  57.0      SAFETY BELT USED   \n",
              "1038165                      0.0  ...  55.0      SAFETY BELT USED   \n",
              "91096                        0.0  ...  48.0      SAFETY BELT USED   \n",
              "3103069                      0.0  ...   5.0      SAFETY BELT USED   \n",
              "222497                       0.0  ...  40.0      SAFETY BELT USED   \n",
              "1892999                      0.0  ...  19.0                  None   \n",
              "2758243                      0.0  ...   NaN                  None   \n",
              "468536                       0.0  ...  19.0                  None   \n",
              "402702                       0.0  ...   NaN      SAFETY BELT USED   \n",
              "1375512                      0.0  ...  25.0                  None   \n",
              "345468                       1.0  ...  43.0          NONE PRESENT   \n",
              "514499                       0.0  ...  24.0      SAFETY BELT USED   \n",
              "1967389                      0.0  ...   NaN                  None   \n",
              "2360076                      0.0  ...   NaN                  None   \n",
              "1709740                      0.0  ...   NaN                  None   \n",
              "2321164                      0.0  ...  45.0      SAFETY BELT USED   \n",
              "3852                         0.0  ...  27.0      SAFETY BELT USED   \n",
              "2532559                      0.0  ...  47.0      SAFETY BELT USED   \n",
              "730238                       0.0  ...   NaN  SAFETY BELT NOT USED   \n",
              "647412                       0.0  ...   NaN      SAFETY BELT USED   \n",
              "1577058                      0.0  ...  17.0      SAFETY BELT USED   \n",
              "2832266                      0.0  ...  27.0                  None   \n",
              "280788                       0.0  ...  32.0      SAFETY BELT USED   \n",
              "637529                       0.0  ...  33.0      SAFETY BELT USED   \n",
              "3110583                      0.0  ...   NaN                  None   \n",
              "1217001                      0.0  ...  42.0                   NaN   \n",
              "1086440                      0.0  ...   NaN                  None   \n",
              "1811106                      0.0  ...   NaN                  None   \n",
              "2815297                      0.0  ...  39.0      SAFETY BELT USED   \n",
              "3000235                      0.0  ...  18.0                   NaN   \n",
              "585750                       0.0  ...  51.0                  None   \n",
              "3139555                      0.0  ...   NaN                  None   \n",
              "2037392                      0.0  ...  27.0      SAFETY BELT USED   \n",
              "346916                       0.0  ...  31.0                  None   \n",
              "2331105                      0.0  ...  25.0      SAFETY BELT USED   \n",
              "2349310                      0.0  ...   NaN                  None   \n",
              "1843840                      0.0  ...  32.0      SAFETY BELT USED   \n",
              "26101                        0.0  ...  43.0                  None   \n",
              "2033391                      0.0  ...  34.0      SAFETY BELT USED   \n",
              "574855                       0.0  ...  29.0                  None   \n",
              "517465                       0.0  ...  59.0      SAFETY BELT USED   \n",
              "3198118                      0.0  ...  65.0                  None   \n",
              "1105782                      0.0  ...  43.0                  None   \n",
              "2244819                      0.0  ...  56.0      SAFETY BELT USED   \n",
              "2475215                      0.0  ...  29.0                  None   \n",
              "\n",
              "         airbag_deployed     injury_classification vehicle_id  \\\n",
              "348657    DID NOT DEPLOY   NO INDICATION OF INJURY   360761.0   \n",
              "340357              None   NO INDICATION OF INJURY   688939.0   \n",
              "2811938   DID NOT DEPLOY   NO INDICATION OF INJURY  1053251.0   \n",
              "1818546   DID NOT DEPLOY   NO INDICATION OF INJURY   811899.0   \n",
              "2875033             None  NONINCAPACITATING INJURY   947231.0   \n",
              "2473922   DID NOT DEPLOY   NO INDICATION OF INJURY   585325.0   \n",
              "1038165   DID NOT DEPLOY   NO INDICATION OF INJURY   368166.0   \n",
              "91096     DID NOT DEPLOY   NO INDICATION OF INJURY   648348.0   \n",
              "3103069             None   NO INDICATION OF INJURY   880167.0   \n",
              "222497    DID NOT DEPLOY   NO INDICATION OF INJURY   537922.0   \n",
              "1892999             None   NO INDICATION OF INJURY  1131465.0   \n",
              "2758243             None   NO INDICATION OF INJURY   636677.0   \n",
              "468536    DID NOT DEPLOY   NO INDICATION OF INJURY   413904.0   \n",
              "402702    DID NOT DEPLOY   NO INDICATION OF INJURY  1039984.0   \n",
              "1375512   DID NOT DEPLOY   NO INDICATION OF INJURY  1088099.0   \n",
              "345468               NaN     INCAPACITATING INJURY   424352.0   \n",
              "514499    DID NOT DEPLOY   NO INDICATION OF INJURY    99549.0   \n",
              "1967389              NaN   NO INDICATION OF INJURY        NaN   \n",
              "2360076   DID NOT DEPLOY   NO INDICATION OF INJURY   209702.0   \n",
              "1709740             None   NO INDICATION OF INJURY  1023730.0   \n",
              "2321164             None   NO INDICATION OF INJURY  1128754.0   \n",
              "3852      DID NOT DEPLOY   NO INDICATION OF INJURY   402294.0   \n",
              "2532559   DID NOT DEPLOY   NO INDICATION OF INJURY   160831.0   \n",
              "730238              None   NO INDICATION OF INJURY   411065.0   \n",
              "647412    DID NOT DEPLOY   NO INDICATION OF INJURY   999590.0   \n",
              "1577058             None   NO INDICATION OF INJURY    71501.0   \n",
              "2832266   DID NOT DEPLOY   NO INDICATION OF INJURY   434314.0   \n",
              "280788              None   NO INDICATION OF INJURY   936708.0   \n",
              "637529    DID NOT DEPLOY   NO INDICATION OF INJURY   427396.0   \n",
              "3110583   DID NOT DEPLOY   NO INDICATION OF INJURY  1423991.0   \n",
              "1217001              NaN  NONINCAPACITATING INJURY  1105428.0   \n",
              "1086440             None   NO INDICATION OF INJURY   594724.0   \n",
              "1811106             None   NO INDICATION OF INJURY   848169.0   \n",
              "2815297   DID NOT DEPLOY   NO INDICATION OF INJURY  1241044.0   \n",
              "3000235              NaN  NONINCAPACITATING INJURY        NaN   \n",
              "585750    DID NOT DEPLOY   NO INDICATION OF INJURY   355442.0   \n",
              "3139555             None  NONINCAPACITATING INJURY   640204.0   \n",
              "2037392   DID NOT DEPLOY   NO INDICATION OF INJURY  1294484.0   \n",
              "346916    DID NOT DEPLOY   NO INDICATION OF INJURY   335690.0   \n",
              "2331105  DEPLOYED, FRONT   NO INDICATION OF INJURY   931846.0   \n",
              "2349310             None   NO INDICATION OF INJURY   855684.0   \n",
              "1843840   DID NOT DEPLOY   NO INDICATION OF INJURY   261213.0   \n",
              "26101     DID NOT DEPLOY   NO INDICATION OF INJURY  1313177.0   \n",
              "2033391   DID NOT DEPLOY   NO INDICATION OF INJURY   751923.0   \n",
              "574855    DID NOT DEPLOY   NO INDICATION OF INJURY   503343.0   \n",
              "517465    DID NOT DEPLOY   NO INDICATION OF INJURY   743948.0   \n",
              "3198118             None   NO INDICATION OF INJURY  1395406.0   \n",
              "1105782   DID NOT DEPLOY   NO INDICATION OF INJURY     3568.0   \n",
              "2244819  DEPLOYED, FRONT   NO INDICATION OF INJURY  1199841.0   \n",
              "2475215   DID NOT DEPLOY   NO INDICATION OF INJURY   164084.0   \n",
              "\n",
              "                                            make  \\\n",
              "348657                                 CHEVROLET   \n",
              "340357                                     VOLVO   \n",
              "2811938                                     FORD   \n",
              "1818546                                CHEVROLET   \n",
              "2875033                                   TOYOTA   \n",
              "2473922                                 CADILLAC   \n",
              "1038165                                 CADILLAC   \n",
              "91096                                       FORD   \n",
              "3103069                                     JEEP   \n",
              "222497   PREVOST CAR, BUS, SAINTE CLAIRE, QUEBEC   \n",
              "1892999                                CHEVROLET   \n",
              "2758243               TOYOTA MOTOR COMPANY, LTD.   \n",
              "468536                TOYOTA MOTOR COMPANY, LTD.   \n",
              "402702                                    NISSAN   \n",
              "1375512                               MITSUBISHI   \n",
              "345468                                     LEXUS   \n",
              "514499                                      None   \n",
              "1967389                                      NaN   \n",
              "2360076                                     JEEP   \n",
              "1709740                                    BUICK   \n",
              "2321164                                     FORD   \n",
              "3852                                  VOLKSWAGEN   \n",
              "2532559                                 CHRYSLER   \n",
              "730238                             MERCEDES-BENZ   \n",
              "647412                                      FORD   \n",
              "1577058                                    LEXUS   \n",
              "2832266                                CHEVROLET   \n",
              "280788                  FREIGHTLINER CORPORATION   \n",
              "637529                                      JEEP   \n",
              "3110583                                    HONDA   \n",
              "1217001                                  HYUNDAI   \n",
              "1086440                                     FORD   \n",
              "1811106                               VOLKSWAGEN   \n",
              "2815297         GENERAL MOTORS CORPORATION (GMC)   \n",
              "3000235                                      NaN   \n",
              "585750                TOYOTA MOTOR COMPANY, LTD.   \n",
              "3139555                                CHEVROLET   \n",
              "2037392                                CHEVROLET   \n",
              "346916                TOYOTA MOTOR COMPANY, LTD.   \n",
              "2331105                                   NISSAN   \n",
              "2349310         GENERAL MOTORS CORPORATION (GMC)   \n",
              "1843840                                     FORD   \n",
              "26101                                        KIA   \n",
              "2033391                                    DODGE   \n",
              "574855                                     DODGE   \n",
              "517465                                     HONDA   \n",
              "3198118                                   TOYOTA   \n",
              "1105782                                     None   \n",
              "2244819                                CHEVROLET   \n",
              "2475215                               VOLKSWAGEN   \n",
              "\n",
              "                                                     model  \\\n",
              "348657                                               ASTRO   \n",
              "340357                                                XC90   \n",
              "2811938                                             FUSION   \n",
              "1818546                                  MALIBU (CHEVELLE)   \n",
              "2875033                                              PRIUS   \n",
              "2473922                                               None   \n",
              "1038165                                               None   \n",
              "91096                                               TAURUS   \n",
              "3103069                                            COMPASS   \n",
              "222497   PREVOST CAR, (\"PREVOST BUS;\" SAINTE CLAIRE, QU...   \n",
              "1892999                                            EQUINOX   \n",
              "2758243                                               None   \n",
              "468536                                             COROLLA   \n",
              "402702                                              SENTRA   \n",
              "1375512                                          OUTLANDER   \n",
              "345468                                              RX400H   \n",
              "514499                                                None   \n",
              "1967389                                                NaN   \n",
              "2360076                                            PATRIOT   \n",
              "1709740                                               None   \n",
              "2321164                                               F450   \n",
              "3852                                                TIGUAN   \n",
              "2532559                                                200   \n",
              "730238                                                S500   \n",
              "647412                                      CROWN VICTORIA   \n",
              "1577058                                              RX350   \n",
              "2832266                                          CHEVROLET   \n",
              "280788                                  FREIGHTLINER CORP.   \n",
              "637529                                            CHEROKEE   \n",
              "3110583                                               CR-V   \n",
              "1217001                                             TUCSON   \n",
              "1086440                                              Focus   \n",
              "1811106                                               None   \n",
              "2815297                                              YUKON   \n",
              "3000235                                                NaN   \n",
              "585750                                             COROLLA   \n",
              "3139555                                       Trail Blazer   \n",
              "2037392                                              CRUZE   \n",
              "346916                                               CAMRY   \n",
              "2331105                                             ALTIMA   \n",
              "2349310                                               None   \n",
              "1843840                                              Focus   \n",
              "26101                                          OPTIMA / K5   \n",
              "2033391                                            CHARGER   \n",
              "574855                                                DART   \n",
              "517465                                                None   \n",
              "3198118                                             SIENNA   \n",
              "1105782                                               None   \n",
              "2244819                                             IMPALA   \n",
              "2475215                                               None   \n",
              "\n",
              "                         vehicle_year                 vehicle_type  \\\n",
              "348657  1970-01-01 00:00:00.000001999                 VAN/MINI-VAN   \n",
              "340357  1970-01-01 00:00:00.000002012                    PASSENGER   \n",
              "2811938 1970-01-01 00:00:00.000002019                    PASSENGER   \n",
              "1818546 1970-01-01 00:00:00.000002016                    PASSENGER   \n",
              "2875033 1970-01-01 00:00:00.000002010                    PASSENGER   \n",
              "2473922 1970-01-01 00:00:00.000002007                    PASSENGER   \n",
              "1038165 1970-01-01 00:00:00.000002013                    PASSENGER   \n",
              "91096   1970-01-01 00:00:00.000002017                    PASSENGER   \n",
              "3103069 1970-01-01 00:00:00.000002017                    PASSENGER   \n",
              "222497  1970-01-01 00:00:00.000002016            BUS OVER 15 PASS.   \n",
              "1892999 1970-01-01 00:00:00.000002017                    PASSENGER   \n",
              "2758243 1970-01-01 00:00:00.000002019                    PASSENGER   \n",
              "468536  1970-01-01 00:00:00.000002016                    PASSENGER   \n",
              "402702  1970-01-01 00:00:00.000002019                    PASSENGER   \n",
              "1375512 1970-01-01 00:00:00.000002019                    PASSENGER   \n",
              "345468  1970-01-01 00:00:00.000002006                    PASSENGER   \n",
              "514499                            NaT                   UNKNOWN/NA   \n",
              "1967389                           NaT                          NaN   \n",
              "2360076 1970-01-01 00:00:00.000002008                   UNKNOWN/NA   \n",
              "1709740                           NaT                    PASSENGER   \n",
              "2321164                           NaT                 VAN/MINI-VAN   \n",
              "3852    1970-01-01 00:00:00.000002009                    PASSENGER   \n",
              "2532559 1970-01-01 00:00:00.000002015                    PASSENGER   \n",
              "730238  1970-01-01 00:00:00.000002016                    PASSENGER   \n",
              "647412  1970-01-01 00:00:00.000002011                    PASSENGER   \n",
              "1577058 1970-01-01 00:00:00.000002011                    PASSENGER   \n",
              "2832266 1970-01-01 00:00:00.000002013  SPORT UTILITY VEHICLE (SUV)   \n",
              "280788  1970-01-01 00:00:00.000002014      TRACTOR W/ SEMI-TRAILER   \n",
              "637529  1970-01-01 00:00:00.000002015                    PASSENGER   \n",
              "3110583 1970-01-01 00:00:00.000002017  SPORT UTILITY VEHICLE (SUV)   \n",
              "1217001 1970-01-01 00:00:00.000002017  SPORT UTILITY VEHICLE (SUV)   \n",
              "1086440 1970-01-01 00:00:00.000002012                    PASSENGER   \n",
              "1811106                           NaT                    PASSENGER   \n",
              "2815297 1970-01-01 00:00:00.000002007  SPORT UTILITY VEHICLE (SUV)   \n",
              "3000235                           NaT                          NaN   \n",
              "585750  1970-01-01 00:00:00.000002016                    PASSENGER   \n",
              "3139555                           NaT  SPORT UTILITY VEHICLE (SUV)   \n",
              "2037392 1970-01-01 00:00:00.000002017                    PASSENGER   \n",
              "346916  1970-01-01 00:00:00.000002010                    PASSENGER   \n",
              "2331105 1970-01-01 00:00:00.000002003                    PASSENGER   \n",
              "2349310 1970-01-01 00:00:00.000002016                    PASSENGER   \n",
              "1843840 1970-01-01 00:00:00.000002014                    PASSENGER   \n",
              "26101   1970-01-01 00:00:00.000002011                    PASSENGER   \n",
              "2033391 1970-01-01 00:00:00.000002014                    PASSENGER   \n",
              "574855  1970-01-01 00:00:00.000002013                    PASSENGER   \n",
              "517465  1970-01-01 00:00:00.000002017                    PASSENGER   \n",
              "3198118 1970-01-01 00:00:00.000002006                 VAN/MINI-VAN   \n",
              "1105782                           NaT                   UNKNOWN/NA   \n",
              "2244819 1970-01-01 00:00:00.000002009                    PASSENGER   \n",
              "2475215 1970-01-01 00:00:00.000002003                    PASSENGER   \n",
              "\n",
              "                                                make_model  \n",
              "348657                                     CHEVROLET ASTRO  \n",
              "340357                                          VOLVO XC90  \n",
              "2811938                                        FORD FUSION  \n",
              "1818546                        CHEVROLET MALIBU (CHEVELLE)  \n",
              "2875033                                       TOYOTA PRIUS  \n",
              "2473922                                                NaN  \n",
              "1038165                                                NaN  \n",
              "91096                                          FORD TAURUS  \n",
              "3103069                                       JEEP COMPASS  \n",
              "222497   PREVOST CAR, BUS, SAINTE CLAIRE, QUEBEC PREVOS...  \n",
              "1892999                                  CHEVROLET EQUINOX  \n",
              "2758243                                                NaN  \n",
              "468536                  TOYOTA MOTOR COMPANY, LTD. COROLLA  \n",
              "402702                                       NISSAN SENTRA  \n",
              "1375512                               MITSUBISHI OUTLANDER  \n",
              "345468                                        LEXUS RX400H  \n",
              "514499                                                 NaN  \n",
              "1967389                                                NaN  \n",
              "2360076                                       JEEP PATRIOT  \n",
              "1709740                                                NaN  \n",
              "2321164                                          FORD F450  \n",
              "3852                                     VOLKSWAGEN TIGUAN  \n",
              "2532559                                       CHRYSLER 200  \n",
              "730238                                  MERCEDES-BENZ S500  \n",
              "647412                                 FORD CROWN VICTORIA  \n",
              "1577058                                        LEXUS RX350  \n",
              "2832266                                CHEVROLET CHEVROLET  \n",
              "280788         FREIGHTLINER CORPORATION FREIGHTLINER CORP.  \n",
              "637529                                       JEEP CHEROKEE  \n",
              "3110583                                         HONDA CR-V  \n",
              "1217001                                     HYUNDAI TUCSON  \n",
              "1086440                                         FORD Focus  \n",
              "1811106                                                NaN  \n",
              "2815297             GENERAL MOTORS CORPORATION (GMC) YUKON  \n",
              "3000235                                                NaN  \n",
              "585750                  TOYOTA MOTOR COMPANY, LTD. COROLLA  \n",
              "3139555                             CHEVROLET Trail Blazer  \n",
              "2037392                                    CHEVROLET CRUZE  \n",
              "346916                    TOYOTA MOTOR COMPANY, LTD. CAMRY  \n",
              "2331105                                      NISSAN ALTIMA  \n",
              "2349310                                                NaN  \n",
              "1843840                                         FORD Focus  \n",
              "26101                                      KIA OPTIMA / K5  \n",
              "2033391                                      DODGE CHARGER  \n",
              "574855                                          DODGE DART  \n",
              "517465                                                 NaN  \n",
              "3198118                                      TOYOTA SIENNA  \n",
              "1105782                                                NaN  \n",
              "2244819                                   CHEVROLET IMPALA  \n",
              "2475215                                                NaN  \n",
              "\n",
              "[50 rows x 27 columns]"
            ],
            "text/html": [
              "\n",
              "  <div id=\"df-b25cb784-03d3-4fb6-b961-d6df3cc76e02\">\n",
              "    <div class=\"colab-df-container\">\n",
              "      <div>\n",
              "<style scoped>\n",
              "    .dataframe tbody tr th:only-of-type {\n",
              "        vertical-align: middle;\n",
              "    }\n",
              "\n",
              "    .dataframe tbody tr th {\n",
              "        vertical-align: top;\n",
              "    }\n",
              "\n",
              "    .dataframe thead th {\n",
              "        text-align: right;\n",
              "    }\n",
              "</style>\n",
              "<table border=\"1\" class=\"dataframe\">\n",
              "  <thead>\n",
              "    <tr style=\"text-align: right;\">\n",
              "      <th></th>\n",
              "      <th>crash_record_id</th>\n",
              "      <th>crash_date</th>\n",
              "      <th>device_condition</th>\n",
              "      <th>weather_condition</th>\n",
              "      <th>lighting_condition</th>\n",
              "      <th>crash_type</th>\n",
              "      <th>damage</th>\n",
              "      <th>injuries_total</th>\n",
              "      <th>injuries_fatal</th>\n",
              "      <th>injuries_incapacitating</th>\n",
              "      <th>...</th>\n",
              "      <th>age</th>\n",
              "      <th>safety_equipment</th>\n",
              "      <th>airbag_deployed</th>\n",
              "      <th>injury_classification</th>\n",
              "      <th>vehicle_id</th>\n",
              "      <th>make</th>\n",
              "      <th>model</th>\n",
              "      <th>vehicle_year</th>\n",
              "      <th>vehicle_type</th>\n",
              "      <th>make_model</th>\n",
              "    </tr>\n",
              "  </thead>\n",
              "  <tbody>\n",
              "    <tr>\n",
              "      <th>348657</th>\n",
              "      <td>8dd2b2c668f371d2c0f1f640bfbc214a3c122c2c36d1f7...</td>\n",
              "      <td>2018-04-29 15:04:00</td>\n",
              "      <td>NO CONTROLS</td>\n",
              "      <td>CLEAR</td>\n",
              "      <td>DAYLIGHT</td>\n",
              "      <td>INJURY AND / OR TOW DUE TO CRASH</td>\n",
              "      <td>OVER $1,500</td>\n",
              "      <td>0.0</td>\n",
              "      <td>0.0</td>\n",
              "      <td>0.0</td>\n",
              "      <td>...</td>\n",
              "      <td>28.0</td>\n",
              "      <td>None</td>\n",
              "      <td>DID NOT DEPLOY</td>\n",
              "      <td>NO INDICATION OF INJURY</td>\n",
              "      <td>360761.0</td>\n",
              "      <td>CHEVROLET</td>\n",
              "      <td>ASTRO</td>\n",
              "      <td>1970-01-01 00:00:00.000001999</td>\n",
              "      <td>VAN/MINI-VAN</td>\n",
              "      <td>CHEVROLET ASTRO</td>\n",
              "    </tr>\n",
              "    <tr>\n",
              "      <th>340357</th>\n",
              "      <td>4a00c21366e81be649854d40933909f57cef426a3a9459...</td>\n",
              "      <td>2019-08-26 10:05:00</td>\n",
              "      <td>NO CONTROLS</td>\n",
              "      <td>RAIN</td>\n",
              "      <td>DAYLIGHT</td>\n",
              "      <td>NO INJURY / DRIVE AWAY</td>\n",
              "      <td>$500 OR LESS</td>\n",
              "      <td>0.0</td>\n",
              "      <td>0.0</td>\n",
              "      <td>0.0</td>\n",
              "      <td>...</td>\n",
              "      <td>51.0</td>\n",
              "      <td>SAFETY BELT USED</td>\n",
              "      <td>None</td>\n",
              "      <td>NO INDICATION OF INJURY</td>\n",
              "      <td>688939.0</td>\n",
              "      <td>VOLVO</td>\n",
              "      <td>XC90</td>\n",
              "      <td>1970-01-01 00:00:00.000002012</td>\n",
              "      <td>PASSENGER</td>\n",
              "      <td>VOLVO XC90</td>\n",
              "    </tr>\n",
              "    <tr>\n",
              "      <th>2811938</th>\n",
              "      <td>f2109f9c7fcb2f275d0c4efecdf326187fa4f837afbf30...</td>\n",
              "      <td>2021-06-04 22:30:00</td>\n",
              "      <td>FUNCTIONING PROPERLY</td>\n",
              "      <td>CLEAR</td>\n",
              "      <td>DARKNESS, LIGHTED ROAD</td>\n",
              "      <td>NO INJURY / DRIVE AWAY</td>\n",
              "      <td>$501 - $1,500</td>\n",
              "      <td>0.0</td>\n",
              "      <td>0.0</td>\n",
              "      <td>0.0</td>\n",
              "      <td>...</td>\n",
              "      <td>NaN</td>\n",
              "      <td>None</td>\n",
              "      <td>DID NOT DEPLOY</td>\n",
              "      <td>NO INDICATION OF INJURY</td>\n",
              "      <td>1053251.0</td>\n",
              "      <td>FORD</td>\n",
              "      <td>FUSION</td>\n",
              "      <td>1970-01-01 00:00:00.000002019</td>\n",
              "      <td>PASSENGER</td>\n",
              "      <td>FORD FUSION</td>\n",
              "    </tr>\n",
              "    <tr>\n",
              "      <th>1818546</th>\n",
              "      <td>98a9b657ae75de91c3e01338513cac34eb20f80d0ad385...</td>\n",
              "      <td>2020-03-04 21:16:00</td>\n",
              "      <td>FUNCTIONING PROPERLY</td>\n",
              "      <td>CLEAR</td>\n",
              "      <td>DARKNESS, LIGHTED ROAD</td>\n",
              "      <td>NO INJURY / DRIVE AWAY</td>\n",
              "      <td>$500 OR LESS</td>\n",
              "      <td>0.0</td>\n",
              "      <td>0.0</td>\n",
              "      <td>0.0</td>\n",
              "      <td>...</td>\n",
              "      <td>NaN</td>\n",
              "      <td>SAFETY BELT USED</td>\n",
              "      <td>DID NOT DEPLOY</td>\n",
              "      <td>NO INDICATION OF INJURY</td>\n",
              "      <td>811899.0</td>\n",
              "      <td>CHEVROLET</td>\n",
              "      <td>MALIBU (CHEVELLE)</td>\n",
              "      <td>1970-01-01 00:00:00.000002016</td>\n",
              "      <td>PASSENGER</td>\n",
              "      <td>CHEVROLET MALIBU (CHEVELLE)</td>\n",
              "    </tr>\n",
              "    <tr>\n",
              "      <th>2875033</th>\n",
              "      <td>f79e855d00c11ac0566818620e29070b244c1824707df9...</td>\n",
              "      <td>2020-11-25 07:00:00</td>\n",
              "      <td>NO CONTROLS</td>\n",
              "      <td>RAIN</td>\n",
              "      <td>DAYLIGHT</td>\n",
              "      <td>INJURY AND / OR TOW DUE TO CRASH</td>\n",
              "      <td>OVER $1,500</td>\n",
              "      <td>5.0</td>\n",
              "      <td>0.0</td>\n",
              "      <td>0.0</td>\n",
              "      <td>...</td>\n",
              "      <td>27.0</td>\n",
              "      <td>SAFETY BELT USED</td>\n",
              "      <td>None</td>\n",
              "      <td>NONINCAPACITATING INJURY</td>\n",
              "      <td>947231.0</td>\n",
              "      <td>TOYOTA</td>\n",
              "      <td>PRIUS</td>\n",
              "      <td>1970-01-01 00:00:00.000002010</td>\n",
              "      <td>PASSENGER</td>\n",
              "      <td>TOYOTA PRIUS</td>\n",
              "    </tr>\n",
              "    <tr>\n",
              "      <th>2473922</th>\n",
              "      <td>d383ad8bdbc7ee7531c8bda3b8e7f738cb0ab6fbe183bc...</td>\n",
              "      <td>2019-03-29 22:53:00</td>\n",
              "      <td>NO CONTROLS</td>\n",
              "      <td>RAIN</td>\n",
              "      <td>DARKNESS, LIGHTED ROAD</td>\n",
              "      <td>NO INJURY / DRIVE AWAY</td>\n",
              "      <td>OVER $1,500</td>\n",
              "      <td>0.0</td>\n",
              "      <td>0.0</td>\n",
              "      <td>0.0</td>\n",
              "      <td>...</td>\n",
              "      <td>57.0</td>\n",
              "      <td>SAFETY BELT USED</td>\n",
              "      <td>DID NOT DEPLOY</td>\n",
              "      <td>NO INDICATION OF INJURY</td>\n",
              "      <td>585325.0</td>\n",
              "      <td>CADILLAC</td>\n",
              "      <td>None</td>\n",
              "      <td>1970-01-01 00:00:00.000002007</td>\n",
              "      <td>PASSENGER</td>\n",
              "      <td>NaN</td>\n",
              "    </tr>\n",
              "    <tr>\n",
              "      <th>1038165</th>\n",
              "      <td>3acdd8b476a802161af9d70678bcb757902d3a9ccf6d0c...</td>\n",
              "      <td>2018-05-09 18:30:00</td>\n",
              "      <td>FUNCTIONING PROPERLY</td>\n",
              "      <td>CLEAR</td>\n",
              "      <td>DAYLIGHT</td>\n",
              "      <td>NO INJURY / DRIVE AWAY</td>\n",
              "      <td>OVER $1,500</td>\n",
              "      <td>0.0</td>\n",
              "      <td>0.0</td>\n",
              "      <td>0.0</td>\n",
              "      <td>...</td>\n",
              "      <td>55.0</td>\n",
              "      <td>SAFETY BELT USED</td>\n",
              "      <td>DID NOT DEPLOY</td>\n",
              "      <td>NO INDICATION OF INJURY</td>\n",
              "      <td>368166.0</td>\n",
              "      <td>CADILLAC</td>\n",
              "      <td>None</td>\n",
              "      <td>1970-01-01 00:00:00.000002013</td>\n",
              "      <td>PASSENGER</td>\n",
              "      <td>NaN</td>\n",
              "    </tr>\n",
              "    <tr>\n",
              "      <th>91096</th>\n",
              "      <td>7e0149ae2ea7109e4fd685320dbbb3347f7522c492f09b...</td>\n",
              "      <td>2019-06-28 15:20:00</td>\n",
              "      <td>NO CONTROLS</td>\n",
              "      <td>CLEAR</td>\n",
              "      <td>DAYLIGHT</td>\n",
              "      <td>NO INJURY / DRIVE AWAY</td>\n",
              "      <td>OVER $1,500</td>\n",
              "      <td>0.0</td>\n",
              "      <td>0.0</td>\n",
              "      <td>0.0</td>\n",
              "      <td>...</td>\n",
              "      <td>48.0</td>\n",
              "      <td>SAFETY BELT USED</td>\n",
              "      <td>DID NOT DEPLOY</td>\n",
              "      <td>NO INDICATION OF INJURY</td>\n",
              "      <td>648348.0</td>\n",
              "      <td>FORD</td>\n",
              "      <td>TAURUS</td>\n",
              "      <td>1970-01-01 00:00:00.000002017</td>\n",
              "      <td>PASSENGER</td>\n",
              "      <td>FORD TAURUS</td>\n",
              "    </tr>\n",
              "    <tr>\n",
              "      <th>3103069</th>\n",
              "      <td>8936452b523e0ab796215620d494d6506e492ef6abe538...</td>\n",
              "      <td>2020-05-26 21:30:00</td>\n",
              "      <td>NO CONTROLS</td>\n",
              "      <td>CLEAR</td>\n",
              "      <td>DARKNESS</td>\n",
              "      <td>INJURY AND / OR TOW DUE TO CRASH</td>\n",
              "      <td>OVER $1,500</td>\n",
              "      <td>0.0</td>\n",
              "      <td>0.0</td>\n",
              "      <td>0.0</td>\n",
              "      <td>...</td>\n",
              "      <td>5.0</td>\n",
              "      <td>SAFETY BELT USED</td>\n",
              "      <td>None</td>\n",
              "      <td>NO INDICATION OF INJURY</td>\n",
              "      <td>880167.0</td>\n",
              "      <td>JEEP</td>\n",
              "      <td>COMPASS</td>\n",
              "      <td>1970-01-01 00:00:00.000002017</td>\n",
              "      <td>PASSENGER</td>\n",
              "      <td>JEEP COMPASS</td>\n",
              "    </tr>\n",
              "    <tr>\n",
              "      <th>222497</th>\n",
              "      <td>8573e77f10e36b51daf8ee22f1d601f60bf1b993052144...</td>\n",
              "      <td>2019-01-15 08:05:00</td>\n",
              "      <td>FUNCTIONING PROPERLY</td>\n",
              "      <td>CLEAR</td>\n",
              "      <td>DAYLIGHT</td>\n",
              "      <td>NO INJURY / DRIVE AWAY</td>\n",
              "      <td>$500 OR LESS</td>\n",
              "      <td>0.0</td>\n",
              "      <td>0.0</td>\n",
              "      <td>0.0</td>\n",
              "      <td>...</td>\n",
              "      <td>40.0</td>\n",
              "      <td>SAFETY BELT USED</td>\n",
              "      <td>DID NOT DEPLOY</td>\n",
              "      <td>NO INDICATION OF INJURY</td>\n",
              "      <td>537922.0</td>\n",
              "      <td>PREVOST CAR, BUS, SAINTE CLAIRE, QUEBEC</td>\n",
              "      <td>PREVOST CAR, (\"PREVOST BUS;\" SAINTE CLAIRE, QU...</td>\n",
              "      <td>1970-01-01 00:00:00.000002016</td>\n",
              "      <td>BUS OVER 15 PASS.</td>\n",
              "      <td>PREVOST CAR, BUS, SAINTE CLAIRE, QUEBEC PREVOS...</td>\n",
              "    </tr>\n",
              "    <tr>\n",
              "      <th>1892999</th>\n",
              "      <td>a0f7528231bfca4923adf278784a47c947c24234b84641...</td>\n",
              "      <td>2021-09-26 14:30:00</td>\n",
              "      <td>NO CONTROLS</td>\n",
              "      <td>CLEAR</td>\n",
              "      <td>DAYLIGHT</td>\n",
              "      <td>NO INJURY / DRIVE AWAY</td>\n",
              "      <td>OVER $1,500</td>\n",
              "      <td>0.0</td>\n",
              "      <td>0.0</td>\n",
              "      <td>0.0</td>\n",
              "      <td>...</td>\n",
              "      <td>19.0</td>\n",
              "      <td>None</td>\n",
              "      <td>None</td>\n",
              "      <td>NO INDICATION OF INJURY</td>\n",
              "      <td>1131465.0</td>\n",
              "      <td>CHEVROLET</td>\n",
              "      <td>EQUINOX</td>\n",
              "      <td>1970-01-01 00:00:00.000002017</td>\n",
              "      <td>PASSENGER</td>\n",
              "      <td>CHEVROLET EQUINOX</td>\n",
              "    </tr>\n",
              "    <tr>\n",
              "      <th>2758243</th>\n",
              "      <td>ee0ab0c0f4c18192315acd6e6950aa7b416286370e947b...</td>\n",
              "      <td>2019-06-12 15:50:00</td>\n",
              "      <td>FUNCTIONING PROPERLY</td>\n",
              "      <td>RAIN</td>\n",
              "      <td>DAYLIGHT</td>\n",
              "      <td>NO INJURY / DRIVE AWAY</td>\n",
              "      <td>OVER $1,500</td>\n",
              "      <td>0.0</td>\n",
              "      <td>0.0</td>\n",
              "      <td>0.0</td>\n",
              "      <td>...</td>\n",
              "      <td>NaN</td>\n",
              "      <td>None</td>\n",
              "      <td>None</td>\n",
              "      <td>NO INDICATION OF INJURY</td>\n",
              "      <td>636677.0</td>\n",
              "      <td>TOYOTA MOTOR COMPANY, LTD.</td>\n",
              "      <td>None</td>\n",
              "      <td>1970-01-01 00:00:00.000002019</td>\n",
              "      <td>PASSENGER</td>\n",
              "      <td>NaN</td>\n",
              "    </tr>\n",
              "    <tr>\n",
              "      <th>468536</th>\n",
              "      <td>09f1199e1f90595e24b8883065586c1289880f3cc6c314...</td>\n",
              "      <td>2018-07-12 14:49:00</td>\n",
              "      <td>NO CONTROLS</td>\n",
              "      <td>CLEAR</td>\n",
              "      <td>DAYLIGHT</td>\n",
              "      <td>NO INJURY / DRIVE AWAY</td>\n",
              "      <td>$500 OR LESS</td>\n",
              "      <td>0.0</td>\n",
              "      <td>0.0</td>\n",
              "      <td>0.0</td>\n",
              "      <td>...</td>\n",
              "      <td>19.0</td>\n",
              "      <td>None</td>\n",
              "      <td>DID NOT DEPLOY</td>\n",
              "      <td>NO INDICATION OF INJURY</td>\n",
              "      <td>413904.0</td>\n",
              "      <td>TOYOTA MOTOR COMPANY, LTD.</td>\n",
              "      <td>COROLLA</td>\n",
              "      <td>1970-01-01 00:00:00.000002016</td>\n",
              "      <td>PASSENGER</td>\n",
              "      <td>TOYOTA MOTOR COMPANY, LTD. COROLLA</td>\n",
              "    </tr>\n",
              "    <tr>\n",
              "      <th>402702</th>\n",
              "      <td>00117cf4b71ef94a87a1219972a9b65616ba7d2277994c...</td>\n",
              "      <td>2021-05-12 10:30:00</td>\n",
              "      <td>FUNCTIONING PROPERLY</td>\n",
              "      <td>CLEAR</td>\n",
              "      <td>DAYLIGHT</td>\n",
              "      <td>NO INJURY / DRIVE AWAY</td>\n",
              "      <td>$501 - $1,500</td>\n",
              "      <td>0.0</td>\n",
              "      <td>0.0</td>\n",
              "      <td>0.0</td>\n",
              "      <td>...</td>\n",
              "      <td>NaN</td>\n",
              "      <td>SAFETY BELT USED</td>\n",
              "      <td>DID NOT DEPLOY</td>\n",
              "      <td>NO INDICATION OF INJURY</td>\n",
              "      <td>1039984.0</td>\n",
              "      <td>NISSAN</td>\n",
              "      <td>SENTRA</td>\n",
              "      <td>1970-01-01 00:00:00.000002019</td>\n",
              "      <td>PASSENGER</td>\n",
              "      <td>NISSAN SENTRA</td>\n",
              "    </tr>\n",
              "    <tr>\n",
              "      <th>1375512</th>\n",
              "      <td>5974c77930561ddf05c7c13e77fa8feffd9be2a04393f9...</td>\n",
              "      <td>2021-07-25 04:13:00</td>\n",
              "      <td>FUNCTIONING PROPERLY</td>\n",
              "      <td>CLEAR</td>\n",
              "      <td>DARKNESS, LIGHTED ROAD</td>\n",
              "      <td>NO INJURY / DRIVE AWAY</td>\n",
              "      <td>$501 - $1,500</td>\n",
              "      <td>0.0</td>\n",
              "      <td>0.0</td>\n",
              "      <td>0.0</td>\n",
              "      <td>...</td>\n",
              "      <td>25.0</td>\n",
              "      <td>None</td>\n",
              "      <td>DID NOT DEPLOY</td>\n",
              "      <td>NO INDICATION OF INJURY</td>\n",
              "      <td>1088099.0</td>\n",
              "      <td>MITSUBISHI</td>\n",
              "      <td>OUTLANDER</td>\n",
              "      <td>1970-01-01 00:00:00.000002019</td>\n",
              "      <td>PASSENGER</td>\n",
              "      <td>MITSUBISHI OUTLANDER</td>\n",
              "    </tr>\n",
              "    <tr>\n",
              "      <th>345468</th>\n",
              "      <td>8d48978595ac769336af6b03f201a0de06ced4c18cf0e7...</td>\n",
              "      <td>2018-07-27 16:50:00</td>\n",
              "      <td>FUNCTIONING PROPERLY</td>\n",
              "      <td>CLEAR</td>\n",
              "      <td>DAYLIGHT</td>\n",
              "      <td>INJURY AND / OR TOW DUE TO CRASH</td>\n",
              "      <td>OVER $1,500</td>\n",
              "      <td>1.0</td>\n",
              "      <td>0.0</td>\n",
              "      <td>1.0</td>\n",
              "      <td>...</td>\n",
              "      <td>43.0</td>\n",
              "      <td>NONE PRESENT</td>\n",
              "      <td>NaN</td>\n",
              "      <td>INCAPACITATING INJURY</td>\n",
              "      <td>424352.0</td>\n",
              "      <td>LEXUS</td>\n",
              "      <td>RX400H</td>\n",
              "      <td>1970-01-01 00:00:00.000002006</td>\n",
              "      <td>PASSENGER</td>\n",
              "      <td>LEXUS RX400H</td>\n",
              "    </tr>\n",
              "    <tr>\n",
              "      <th>514499</th>\n",
              "      <td>0bd93e28129338929ecec510d1b9924859b81a8644c451...</td>\n",
              "      <td>2016-11-29 08:15:00</td>\n",
              "      <td>FUNCTIONING PROPERLY</td>\n",
              "      <td>CLEAR</td>\n",
              "      <td>DAYLIGHT</td>\n",
              "      <td>NO INJURY / DRIVE AWAY</td>\n",
              "      <td>$500 OR LESS</td>\n",
              "      <td>0.0</td>\n",
              "      <td>0.0</td>\n",
              "      <td>0.0</td>\n",
              "      <td>...</td>\n",
              "      <td>24.0</td>\n",
              "      <td>SAFETY BELT USED</td>\n",
              "      <td>DID NOT DEPLOY</td>\n",
              "      <td>NO INDICATION OF INJURY</td>\n",
              "      <td>99549.0</td>\n",
              "      <td>None</td>\n",
              "      <td>None</td>\n",
              "      <td>NaT</td>\n",
              "      <td>UNKNOWN/NA</td>\n",
              "      <td>NaN</td>\n",
              "    </tr>\n",
              "    <tr>\n",
              "      <th>1967389</th>\n",
              "      <td>a798017cb37d9a569f418a6a32e51a771abb9aad6f9982...</td>\n",
              "      <td>2018-12-29 01:30:00</td>\n",
              "      <td>NO CONTROLS</td>\n",
              "      <td>CLEAR</td>\n",
              "      <td>DARKNESS, LIGHTED ROAD</td>\n",
              "      <td>INJURY AND / OR TOW DUE TO CRASH</td>\n",
              "      <td>OVER $1,500</td>\n",
              "      <td>1.0</td>\n",
              "      <td>0.0</td>\n",
              "      <td>0.0</td>\n",
              "      <td>...</td>\n",
              "      <td>NaN</td>\n",
              "      <td>None</td>\n",
              "      <td>NaN</td>\n",
              "      <td>NO INDICATION OF INJURY</td>\n",
              "      <td>NaN</td>\n",
              "      <td>NaN</td>\n",
              "      <td>NaN</td>\n",
              "      <td>NaT</td>\n",
              "      <td>NaN</td>\n",
              "      <td>NaN</td>\n",
              "    </tr>\n",
              "    <tr>\n",
              "      <th>2360076</th>\n",
              "      <td>c9710b40c018869fbba161b2e55f45f59ee92d5f7a2e30...</td>\n",
              "      <td>2017-09-07 23:06:00</td>\n",
              "      <td>FUNCTIONING PROPERLY</td>\n",
              "      <td>CLEAR</td>\n",
              "      <td>DARKNESS, LIGHTED ROAD</td>\n",
              "      <td>INJURY AND / OR TOW DUE TO CRASH</td>\n",
              "      <td>OVER $1,500</td>\n",
              "      <td>1.0</td>\n",
              "      <td>0.0</td>\n",
              "      <td>0.0</td>\n",
              "      <td>...</td>\n",
              "      <td>NaN</td>\n",
              "      <td>None</td>\n",
              "      <td>DID NOT DEPLOY</td>\n",
              "      <td>NO INDICATION OF INJURY</td>\n",
              "      <td>209702.0</td>\n",
              "      <td>JEEP</td>\n",
              "      <td>PATRIOT</td>\n",
              "      <td>1970-01-01 00:00:00.000002008</td>\n",
              "      <td>UNKNOWN/NA</td>\n",
              "      <td>JEEP PATRIOT</td>\n",
              "    </tr>\n",
              "    <tr>\n",
              "      <th>1709740</th>\n",
              "      <td>729a0e9c14d54a206f835266d00f32e49a0e900993d135...</td>\n",
              "      <td>2021-04-19 19:28:00</td>\n",
              "      <td>FUNCTIONING PROPERLY</td>\n",
              "      <td>CLEAR</td>\n",
              "      <td>DARKNESS</td>\n",
              "      <td>NO INJURY / DRIVE AWAY</td>\n",
              "      <td>OVER $1,500</td>\n",
              "      <td>0.0</td>\n",
              "      <td>0.0</td>\n",
              "      <td>0.0</td>\n",
              "      <td>...</td>\n",
              "      <td>NaN</td>\n",
              "      <td>None</td>\n",
              "      <td>None</td>\n",
              "      <td>NO INDICATION OF INJURY</td>\n",
              "      <td>1023730.0</td>\n",
              "      <td>BUICK</td>\n",
              "      <td>None</td>\n",
              "      <td>NaT</td>\n",
              "      <td>PASSENGER</td>\n",
              "      <td>NaN</td>\n",
              "    </tr>\n",
              "    <tr>\n",
              "      <th>2321164</th>\n",
              "      <td>c59213cfc6beaa7a84e489a3f40007c8b24545a1b84a4c...</td>\n",
              "      <td>2021-09-22 16:53:00</td>\n",
              "      <td>FUNCTIONING PROPERLY</td>\n",
              "      <td>CLEAR</td>\n",
              "      <td>DUSK</td>\n",
              "      <td>NO INJURY / DRIVE AWAY</td>\n",
              "      <td>$501 - $1,500</td>\n",
              "      <td>0.0</td>\n",
              "      <td>0.0</td>\n",
              "      <td>0.0</td>\n",
              "      <td>...</td>\n",
              "      <td>45.0</td>\n",
              "      <td>SAFETY BELT USED</td>\n",
              "      <td>None</td>\n",
              "      <td>NO INDICATION OF INJURY</td>\n",
              "      <td>1128754.0</td>\n",
              "      <td>FORD</td>\n",
              "      <td>F450</td>\n",
              "      <td>NaT</td>\n",
              "      <td>VAN/MINI-VAN</td>\n",
              "      <td>FORD F450</td>\n",
              "    </tr>\n",
              "    <tr>\n",
              "      <th>3852</th>\n",
              "      <td>7a7b10287201e4b93b2bc3b16a740c45c3fc47b2db5653...</td>\n",
              "      <td>2018-06-26 12:30:00</td>\n",
              "      <td>NO CONTROLS</td>\n",
              "      <td>CLEAR</td>\n",
              "      <td>DAYLIGHT</td>\n",
              "      <td>NO INJURY / DRIVE AWAY</td>\n",
              "      <td>OVER $1,500</td>\n",
              "      <td>0.0</td>\n",
              "      <td>0.0</td>\n",
              "      <td>0.0</td>\n",
              "      <td>...</td>\n",
              "      <td>27.0</td>\n",
              "      <td>SAFETY BELT USED</td>\n",
              "      <td>DID NOT DEPLOY</td>\n",
              "      <td>NO INDICATION OF INJURY</td>\n",
              "      <td>402294.0</td>\n",
              "      <td>VOLKSWAGEN</td>\n",
              "      <td>TIGUAN</td>\n",
              "      <td>1970-01-01 00:00:00.000002009</td>\n",
              "      <td>PASSENGER</td>\n",
              "      <td>VOLKSWAGEN TIGUAN</td>\n",
              "    </tr>\n",
              "    <tr>\n",
              "      <th>2532559</th>\n",
              "      <td>d93963785ca63d2e3d866d02fee5a10e3054d4b87bf842...</td>\n",
              "      <td>2017-05-24 09:15:00</td>\n",
              "      <td>NO CONTROLS</td>\n",
              "      <td>RAIN</td>\n",
              "      <td>DAYLIGHT</td>\n",
              "      <td>NO INJURY / DRIVE AWAY</td>\n",
              "      <td>$501 - $1,500</td>\n",
              "      <td>0.0</td>\n",
              "      <td>0.0</td>\n",
              "      <td>0.0</td>\n",
              "      <td>...</td>\n",
              "      <td>47.0</td>\n",
              "      <td>SAFETY BELT USED</td>\n",
              "      <td>DID NOT DEPLOY</td>\n",
              "      <td>NO INDICATION OF INJURY</td>\n",
              "      <td>160831.0</td>\n",
              "      <td>CHRYSLER</td>\n",
              "      <td>200</td>\n",
              "      <td>1970-01-01 00:00:00.000002015</td>\n",
              "      <td>PASSENGER</td>\n",
              "      <td>CHRYSLER 200</td>\n",
              "    </tr>\n",
              "    <tr>\n",
              "      <th>730238</th>\n",
              "      <td>1f054be7d9cc26339470c25555d463f0dbec9e1dfe53ea...</td>\n",
              "      <td>2018-07-08 14:19:00</td>\n",
              "      <td>NO CONTROLS</td>\n",
              "      <td>CLEAR</td>\n",
              "      <td>DAYLIGHT</td>\n",
              "      <td>NO INJURY / DRIVE AWAY</td>\n",
              "      <td>$500 OR LESS</td>\n",
              "      <td>0.0</td>\n",
              "      <td>0.0</td>\n",
              "      <td>0.0</td>\n",
              "      <td>...</td>\n",
              "      <td>NaN</td>\n",
              "      <td>SAFETY BELT NOT USED</td>\n",
              "      <td>None</td>\n",
              "      <td>NO INDICATION OF INJURY</td>\n",
              "      <td>411065.0</td>\n",
              "      <td>MERCEDES-BENZ</td>\n",
              "      <td>S500</td>\n",
              "      <td>1970-01-01 00:00:00.000002016</td>\n",
              "      <td>PASSENGER</td>\n",
              "      <td>MERCEDES-BENZ S500</td>\n",
              "    </tr>\n",
              "    <tr>\n",
              "      <th>647412</th>\n",
              "      <td>17be2e9f09ea4c6ae0dfb014b32da4ec3fe4a4671a905e...</td>\n",
              "      <td>2021-03-06 00:31:00</td>\n",
              "      <td>NO CONTROLS</td>\n",
              "      <td>CLEAR</td>\n",
              "      <td>DARKNESS, LIGHTED ROAD</td>\n",
              "      <td>NO INJURY / DRIVE AWAY</td>\n",
              "      <td>$501 - $1,500</td>\n",
              "      <td>0.0</td>\n",
              "      <td>0.0</td>\n",
              "      <td>0.0</td>\n",
              "      <td>...</td>\n",
              "      <td>NaN</td>\n",
              "      <td>SAFETY BELT USED</td>\n",
              "      <td>DID NOT DEPLOY</td>\n",
              "      <td>NO INDICATION OF INJURY</td>\n",
              "      <td>999590.0</td>\n",
              "      <td>FORD</td>\n",
              "      <td>CROWN VICTORIA</td>\n",
              "      <td>1970-01-01 00:00:00.000002011</td>\n",
              "      <td>PASSENGER</td>\n",
              "      <td>FORD CROWN VICTORIA</td>\n",
              "    </tr>\n",
              "    <tr>\n",
              "      <th>1577058</th>\n",
              "      <td>6834a69763fba143b172b06cabdedddb27eecdabff4986...</td>\n",
              "      <td>2016-09-06 15:32:00</td>\n",
              "      <td>NO CONTROLS</td>\n",
              "      <td>CLEAR</td>\n",
              "      <td>DAYLIGHT</td>\n",
              "      <td>NO INJURY / DRIVE AWAY</td>\n",
              "      <td>$501 - $1,500</td>\n",
              "      <td>0.0</td>\n",
              "      <td>0.0</td>\n",
              "      <td>0.0</td>\n",
              "      <td>...</td>\n",
              "      <td>17.0</td>\n",
              "      <td>SAFETY BELT USED</td>\n",
              "      <td>None</td>\n",
              "      <td>NO INDICATION OF INJURY</td>\n",
              "      <td>71501.0</td>\n",
              "      <td>LEXUS</td>\n",
              "      <td>RX350</td>\n",
              "      <td>1970-01-01 00:00:00.000002011</td>\n",
              "      <td>PASSENGER</td>\n",
              "      <td>LEXUS RX350</td>\n",
              "    </tr>\n",
              "    <tr>\n",
              "      <th>2832266</th>\n",
              "      <td>f33ab35b0a33597fcedefc9d9eef2481c7e20558ea7a42...</td>\n",
              "      <td>2018-08-11 14:18:00</td>\n",
              "      <td>NO CONTROLS</td>\n",
              "      <td>CLEAR</td>\n",
              "      <td>DAYLIGHT</td>\n",
              "      <td>NO INJURY / DRIVE AWAY</td>\n",
              "      <td>OVER $1,500</td>\n",
              "      <td>0.0</td>\n",
              "      <td>0.0</td>\n",
              "      <td>0.0</td>\n",
              "      <td>...</td>\n",
              "      <td>27.0</td>\n",
              "      <td>None</td>\n",
              "      <td>DID NOT DEPLOY</td>\n",
              "      <td>NO INDICATION OF INJURY</td>\n",
              "      <td>434314.0</td>\n",
              "      <td>CHEVROLET</td>\n",
              "      <td>CHEVROLET</td>\n",
              "      <td>1970-01-01 00:00:00.000002013</td>\n",
              "      <td>SPORT UTILITY VEHICLE (SUV)</td>\n",
              "      <td>CHEVROLET CHEVROLET</td>\n",
              "    </tr>\n",
              "    <tr>\n",
              "      <th>280788</th>\n",
              "      <td>8c1289142280b65b3eb2075dc7c3368fdb026efa1597fe...</td>\n",
              "      <td>2020-11-03 13:55:00</td>\n",
              "      <td>FUNCTIONING PROPERLY</td>\n",
              "      <td>CLEAR</td>\n",
              "      <td>DAYLIGHT</td>\n",
              "      <td>NO INJURY / DRIVE AWAY</td>\n",
              "      <td>$501 - $1,500</td>\n",
              "      <td>0.0</td>\n",
              "      <td>0.0</td>\n",
              "      <td>0.0</td>\n",
              "      <td>...</td>\n",
              "      <td>32.0</td>\n",
              "      <td>SAFETY BELT USED</td>\n",
              "      <td>None</td>\n",
              "      <td>NO INDICATION OF INJURY</td>\n",
              "      <td>936708.0</td>\n",
              "      <td>FREIGHTLINER CORPORATION</td>\n",
              "      <td>FREIGHTLINER CORP.</td>\n",
              "      <td>1970-01-01 00:00:00.000002014</td>\n",
              "      <td>TRACTOR W/ SEMI-TRAILER</td>\n",
              "      <td>FREIGHTLINER CORPORATION FREIGHTLINER CORP.</td>\n",
              "    </tr>\n",
              "    <tr>\n",
              "      <th>637529</th>\n",
              "      <td>160d91f8325d45549f59e41d6a784741dd52d5d7bcf955...</td>\n",
              "      <td>2018-08-01 15:54:00</td>\n",
              "      <td>FUNCTIONING PROPERLY</td>\n",
              "      <td>RAIN</td>\n",
              "      <td>DAYLIGHT</td>\n",
              "      <td>INJURY AND / OR TOW DUE TO CRASH</td>\n",
              "      <td>$501 - $1,500</td>\n",
              "      <td>1.0</td>\n",
              "      <td>0.0</td>\n",
              "      <td>0.0</td>\n",
              "      <td>...</td>\n",
              "      <td>33.0</td>\n",
              "      <td>SAFETY BELT USED</td>\n",
              "      <td>DID NOT DEPLOY</td>\n",
              "      <td>NO INDICATION OF INJURY</td>\n",
              "      <td>427396.0</td>\n",
              "      <td>JEEP</td>\n",
              "      <td>CHEROKEE</td>\n",
              "      <td>1970-01-01 00:00:00.000002015</td>\n",
              "      <td>PASSENGER</td>\n",
              "      <td>JEEP CHEROKEE</td>\n",
              "    </tr>\n",
              "    <tr>\n",
              "      <th>3110583</th>\n",
              "      <td>bf8680b6fb7b4fb3523d98c14fa76ebe74c3cfe9135ba8...</td>\n",
              "      <td>2023-01-13 07:55:00</td>\n",
              "      <td>NO CONTROLS</td>\n",
              "      <td>CLOUDY/OVERCAST</td>\n",
              "      <td>DAYLIGHT</td>\n",
              "      <td>NO INJURY / DRIVE AWAY</td>\n",
              "      <td>$501 - $1,500</td>\n",
              "      <td>0.0</td>\n",
              "      <td>0.0</td>\n",
              "      <td>0.0</td>\n",
              "      <td>...</td>\n",
              "      <td>NaN</td>\n",
              "      <td>None</td>\n",
              "      <td>DID NOT DEPLOY</td>\n",
              "      <td>NO INDICATION OF INJURY</td>\n",
              "      <td>1423991.0</td>\n",
              "      <td>HONDA</td>\n",
              "      <td>CR-V</td>\n",
              "      <td>1970-01-01 00:00:00.000002017</td>\n",
              "      <td>SPORT UTILITY VEHICLE (SUV)</td>\n",
              "      <td>HONDA CR-V</td>\n",
              "    </tr>\n",
              "    <tr>\n",
              "      <th>1217001</th>\n",
              "      <td>49b99389fccb198d76c1a8187a07f03d16c5be9e7f4e02...</td>\n",
              "      <td>2021-08-19 22:09:00</td>\n",
              "      <td>NOT FUNCTIONING</td>\n",
              "      <td>CLEAR</td>\n",
              "      <td>DARKNESS, LIGHTED ROAD</td>\n",
              "      <td>INJURY AND / OR TOW DUE TO CRASH</td>\n",
              "      <td>OVER $1,500</td>\n",
              "      <td>3.0</td>\n",
              "      <td>0.0</td>\n",
              "      <td>0.0</td>\n",
              "      <td>...</td>\n",
              "      <td>42.0</td>\n",
              "      <td>NaN</td>\n",
              "      <td>NaN</td>\n",
              "      <td>NONINCAPACITATING INJURY</td>\n",
              "      <td>1105428.0</td>\n",
              "      <td>HYUNDAI</td>\n",
              "      <td>TUCSON</td>\n",
              "      <td>1970-01-01 00:00:00.000002017</td>\n",
              "      <td>SPORT UTILITY VEHICLE (SUV)</td>\n",
              "      <td>HYUNDAI TUCSON</td>\n",
              "    </tr>\n",
              "    <tr>\n",
              "      <th>1086440</th>\n",
              "      <td>3f4408455b4958581b2d069ad8e4084430794a39d7f43c...</td>\n",
              "      <td>2019-04-12 17:00:00</td>\n",
              "      <td>NO CONTROLS</td>\n",
              "      <td>CLEAR</td>\n",
              "      <td>DAYLIGHT</td>\n",
              "      <td>NO INJURY / DRIVE AWAY</td>\n",
              "      <td>$501 - $1,500</td>\n",
              "      <td>0.0</td>\n",
              "      <td>0.0</td>\n",
              "      <td>0.0</td>\n",
              "      <td>...</td>\n",
              "      <td>NaN</td>\n",
              "      <td>None</td>\n",
              "      <td>None</td>\n",
              "      <td>NO INDICATION OF INJURY</td>\n",
              "      <td>594724.0</td>\n",
              "      <td>FORD</td>\n",
              "      <td>Focus</td>\n",
              "      <td>1970-01-01 00:00:00.000002012</td>\n",
              "      <td>PASSENGER</td>\n",
              "      <td>FORD Focus</td>\n",
              "    </tr>\n",
              "    <tr>\n",
              "      <th>1811106</th>\n",
              "      <td>998a284791f53e260e70a770295866d8300bf3fb0892a7...</td>\n",
              "      <td>2020-06-04 01:45:00</td>\n",
              "      <td>FUNCTIONING PROPERLY</td>\n",
              "      <td>CLEAR</td>\n",
              "      <td>DAYLIGHT</td>\n",
              "      <td>NO INJURY / DRIVE AWAY</td>\n",
              "      <td>$501 - $1,500</td>\n",
              "      <td>0.0</td>\n",
              "      <td>0.0</td>\n",
              "      <td>0.0</td>\n",
              "      <td>...</td>\n",
              "      <td>NaN</td>\n",
              "      <td>None</td>\n",
              "      <td>None</td>\n",
              "      <td>NO INDICATION OF INJURY</td>\n",
              "      <td>848169.0</td>\n",
              "      <td>VOLKSWAGEN</td>\n",
              "      <td>None</td>\n",
              "      <td>NaT</td>\n",
              "      <td>PASSENGER</td>\n",
              "      <td>NaN</td>\n",
              "    </tr>\n",
              "    <tr>\n",
              "      <th>2815297</th>\n",
              "      <td>efbe4dbbdda51460c5c0b3a293d28c2e174832b34279db...</td>\n",
              "      <td>2022-03-28 11:50:00</td>\n",
              "      <td>NO CONTROLS</td>\n",
              "      <td>CLEAR</td>\n",
              "      <td>DAYLIGHT</td>\n",
              "      <td>INJURY AND / OR TOW DUE TO CRASH</td>\n",
              "      <td>OVER $1,500</td>\n",
              "      <td>0.0</td>\n",
              "      <td>0.0</td>\n",
              "      <td>0.0</td>\n",
              "      <td>...</td>\n",
              "      <td>39.0</td>\n",
              "      <td>SAFETY BELT USED</td>\n",
              "      <td>DID NOT DEPLOY</td>\n",
              "      <td>NO INDICATION OF INJURY</td>\n",
              "      <td>1241044.0</td>\n",
              "      <td>GENERAL MOTORS CORPORATION (GMC)</td>\n",
              "      <td>YUKON</td>\n",
              "      <td>1970-01-01 00:00:00.000002007</td>\n",
              "      <td>SPORT UTILITY VEHICLE (SUV)</td>\n",
              "      <td>GENERAL MOTORS CORPORATION (GMC) YUKON</td>\n",
              "    </tr>\n",
              "    <tr>\n",
              "      <th>3000235</th>\n",
              "      <td>d61cc8b58f476218eec00bae03eeb72facd516a0718c1e...</td>\n",
              "      <td>2022-12-09 21:15:00</td>\n",
              "      <td>FUNCTIONING PROPERLY</td>\n",
              "      <td>RAIN</td>\n",
              "      <td>DARKNESS, LIGHTED ROAD</td>\n",
              "      <td>INJURY AND / OR TOW DUE TO CRASH</td>\n",
              "      <td>$500 OR LESS</td>\n",
              "      <td>1.0</td>\n",
              "      <td>0.0</td>\n",
              "      <td>0.0</td>\n",
              "      <td>...</td>\n",
              "      <td>18.0</td>\n",
              "      <td>NaN</td>\n",
              "      <td>NaN</td>\n",
              "      <td>NONINCAPACITATING INJURY</td>\n",
              "      <td>NaN</td>\n",
              "      <td>NaN</td>\n",
              "      <td>NaN</td>\n",
              "      <td>NaT</td>\n",
              "      <td>NaN</td>\n",
              "      <td>NaN</td>\n",
              "    </tr>\n",
              "    <tr>\n",
              "      <th>585750</th>\n",
              "      <td>11dcd8a3d2f2a340528e6415ba0ac4fce18d752dd0cf80...</td>\n",
              "      <td>2018-04-21 10:13:00</td>\n",
              "      <td>NO CONTROLS</td>\n",
              "      <td>CLEAR</td>\n",
              "      <td>DAYLIGHT</td>\n",
              "      <td>NO INJURY / DRIVE AWAY</td>\n",
              "      <td>OVER $1,500</td>\n",
              "      <td>0.0</td>\n",
              "      <td>0.0</td>\n",
              "      <td>0.0</td>\n",
              "      <td>...</td>\n",
              "      <td>51.0</td>\n",
              "      <td>None</td>\n",
              "      <td>DID NOT DEPLOY</td>\n",
              "      <td>NO INDICATION OF INJURY</td>\n",
              "      <td>355442.0</td>\n",
              "      <td>TOYOTA MOTOR COMPANY, LTD.</td>\n",
              "      <td>COROLLA</td>\n",
              "      <td>1970-01-01 00:00:00.000002016</td>\n",
              "      <td>PASSENGER</td>\n",
              "      <td>TOYOTA MOTOR COMPANY, LTD. COROLLA</td>\n",
              "    </tr>\n",
              "    <tr>\n",
              "      <th>3139555</th>\n",
              "      <td>cc6f297eb5748f5a5eb6549e0182fdc308ac3f8bb0d7fe...</td>\n",
              "      <td>2019-06-17 10:00:00</td>\n",
              "      <td>FUNCTIONING PROPERLY</td>\n",
              "      <td>CLEAR</td>\n",
              "      <td>DAYLIGHT</td>\n",
              "      <td>INJURY AND / OR TOW DUE TO CRASH</td>\n",
              "      <td>OVER $1,500</td>\n",
              "      <td>2.0</td>\n",
              "      <td>0.0</td>\n",
              "      <td>0.0</td>\n",
              "      <td>...</td>\n",
              "      <td>NaN</td>\n",
              "      <td>None</td>\n",
              "      <td>None</td>\n",
              "      <td>NONINCAPACITATING INJURY</td>\n",
              "      <td>640204.0</td>\n",
              "      <td>CHEVROLET</td>\n",
              "      <td>Trail Blazer</td>\n",
              "      <td>NaT</td>\n",
              "      <td>SPORT UTILITY VEHICLE (SUV)</td>\n",
              "      <td>CHEVROLET Trail Blazer</td>\n",
              "    </tr>\n",
              "    <tr>\n",
              "      <th>2037392</th>\n",
              "      <td>abd7cc73262f122e3032a812fb28b1f4325357f738befb...</td>\n",
              "      <td>2022-06-12 00:30:00</td>\n",
              "      <td>NO CONTROLS</td>\n",
              "      <td>CLEAR</td>\n",
              "      <td>DARKNESS, LIGHTED ROAD</td>\n",
              "      <td>NO INJURY / DRIVE AWAY</td>\n",
              "      <td>OVER $1,500</td>\n",
              "      <td>0.0</td>\n",
              "      <td>0.0</td>\n",
              "      <td>0.0</td>\n",
              "      <td>...</td>\n",
              "      <td>27.0</td>\n",
              "      <td>SAFETY BELT USED</td>\n",
              "      <td>DID NOT DEPLOY</td>\n",
              "      <td>NO INDICATION OF INJURY</td>\n",
              "      <td>1294484.0</td>\n",
              "      <td>CHEVROLET</td>\n",
              "      <td>CRUZE</td>\n",
              "      <td>1970-01-01 00:00:00.000002017</td>\n",
              "      <td>PASSENGER</td>\n",
              "      <td>CHEVROLET CRUZE</td>\n",
              "    </tr>\n",
              "    <tr>\n",
              "      <th>346916</th>\n",
              "      <td>8dd0ac9abe8d63a5f1e70e5760c00f481ee7c8c50b9651...</td>\n",
              "      <td>2018-03-21 17:20:00</td>\n",
              "      <td>NO CONTROLS</td>\n",
              "      <td>CLEAR</td>\n",
              "      <td>DAYLIGHT</td>\n",
              "      <td>NO INJURY / DRIVE AWAY</td>\n",
              "      <td>OVER $1,500</td>\n",
              "      <td>0.0</td>\n",
              "      <td>0.0</td>\n",
              "      <td>0.0</td>\n",
              "      <td>...</td>\n",
              "      <td>31.0</td>\n",
              "      <td>None</td>\n",
              "      <td>DID NOT DEPLOY</td>\n",
              "      <td>NO INDICATION OF INJURY</td>\n",
              "      <td>335690.0</td>\n",
              "      <td>TOYOTA MOTOR COMPANY, LTD.</td>\n",
              "      <td>CAMRY</td>\n",
              "      <td>1970-01-01 00:00:00.000002010</td>\n",
              "      <td>PASSENGER</td>\n",
              "      <td>TOYOTA MOTOR COMPANY, LTD. CAMRY</td>\n",
              "    </tr>\n",
              "    <tr>\n",
              "      <th>2331105</th>\n",
              "      <td>c72a8eab954a3104a1a052e68d9e9aaa9c42654b45ee83...</td>\n",
              "      <td>2020-10-26 00:45:00</td>\n",
              "      <td>NO CONTROLS</td>\n",
              "      <td>RAIN</td>\n",
              "      <td>DARKNESS</td>\n",
              "      <td>INJURY AND / OR TOW DUE TO CRASH</td>\n",
              "      <td>OVER $1,500</td>\n",
              "      <td>0.0</td>\n",
              "      <td>0.0</td>\n",
              "      <td>0.0</td>\n",
              "      <td>...</td>\n",
              "      <td>25.0</td>\n",
              "      <td>SAFETY BELT USED</td>\n",
              "      <td>DEPLOYED, FRONT</td>\n",
              "      <td>NO INDICATION OF INJURY</td>\n",
              "      <td>931846.0</td>\n",
              "      <td>NISSAN</td>\n",
              "      <td>ALTIMA</td>\n",
              "      <td>1970-01-01 00:00:00.000002003</td>\n",
              "      <td>PASSENGER</td>\n",
              "      <td>NISSAN ALTIMA</td>\n",
              "    </tr>\n",
              "    <tr>\n",
              "      <th>2349310</th>\n",
              "      <td>c8c7fc7a3e10b8004cd7034b6093b6ad6d7b08541997a2...</td>\n",
              "      <td>2020-06-19 16:00:00</td>\n",
              "      <td>NO CONTROLS</td>\n",
              "      <td>CLEAR</td>\n",
              "      <td>DAYLIGHT</td>\n",
              "      <td>NO INJURY / DRIVE AWAY</td>\n",
              "      <td>OVER $1,500</td>\n",
              "      <td>0.0</td>\n",
              "      <td>0.0</td>\n",
              "      <td>0.0</td>\n",
              "      <td>...</td>\n",
              "      <td>NaN</td>\n",
              "      <td>None</td>\n",
              "      <td>None</td>\n",
              "      <td>NO INDICATION OF INJURY</td>\n",
              "      <td>855684.0</td>\n",
              "      <td>GENERAL MOTORS CORPORATION (GMC)</td>\n",
              "      <td>None</td>\n",
              "      <td>1970-01-01 00:00:00.000002016</td>\n",
              "      <td>PASSENGER</td>\n",
              "      <td>NaN</td>\n",
              "    </tr>\n",
              "    <tr>\n",
              "      <th>1843840</th>\n",
              "      <td>9cf61249899809f609b187d43de542ce0fb9155548504e...</td>\n",
              "      <td>2017-11-25 14:30:00</td>\n",
              "      <td>NO CONTROLS</td>\n",
              "      <td>CLEAR</td>\n",
              "      <td>DAYLIGHT</td>\n",
              "      <td>NO INJURY / DRIVE AWAY</td>\n",
              "      <td>$501 - $1,500</td>\n",
              "      <td>0.0</td>\n",
              "      <td>0.0</td>\n",
              "      <td>0.0</td>\n",
              "      <td>...</td>\n",
              "      <td>32.0</td>\n",
              "      <td>SAFETY BELT USED</td>\n",
              "      <td>DID NOT DEPLOY</td>\n",
              "      <td>NO INDICATION OF INJURY</td>\n",
              "      <td>261213.0</td>\n",
              "      <td>FORD</td>\n",
              "      <td>Focus</td>\n",
              "      <td>1970-01-01 00:00:00.000002014</td>\n",
              "      <td>PASSENGER</td>\n",
              "      <td>FORD Focus</td>\n",
              "    </tr>\n",
              "    <tr>\n",
              "      <th>26101</th>\n",
              "      <td>2451f8229c480e63cd775ccf17c70d993c2e3e40e75ef7...</td>\n",
              "      <td>2022-07-19 19:43:00</td>\n",
              "      <td>None</td>\n",
              "      <td>CLEAR</td>\n",
              "      <td>DAYLIGHT</td>\n",
              "      <td>INJURY AND / OR TOW DUE TO CRASH</td>\n",
              "      <td>OVER $1,500</td>\n",
              "      <td>0.0</td>\n",
              "      <td>0.0</td>\n",
              "      <td>0.0</td>\n",
              "      <td>...</td>\n",
              "      <td>43.0</td>\n",
              "      <td>None</td>\n",
              "      <td>DID NOT DEPLOY</td>\n",
              "      <td>NO INDICATION OF INJURY</td>\n",
              "      <td>1313177.0</td>\n",
              "      <td>KIA</td>\n",
              "      <td>OPTIMA / K5</td>\n",
              "      <td>1970-01-01 00:00:00.000002011</td>\n",
              "      <td>PASSENGER</td>\n",
              "      <td>KIA OPTIMA / K5</td>\n",
              "    </tr>\n",
              "    <tr>\n",
              "      <th>2033391</th>\n",
              "      <td>ac32c973770040935ff5828f0e77b9d4e2f10d18fc6d0e...</td>\n",
              "      <td>2019-11-28 15:20:00</td>\n",
              "      <td>FUNCTIONING PROPERLY</td>\n",
              "      <td>CLEAR</td>\n",
              "      <td>DAYLIGHT</td>\n",
              "      <td>NO INJURY / DRIVE AWAY</td>\n",
              "      <td>$501 - $1,500</td>\n",
              "      <td>0.0</td>\n",
              "      <td>0.0</td>\n",
              "      <td>0.0</td>\n",
              "      <td>...</td>\n",
              "      <td>34.0</td>\n",
              "      <td>SAFETY BELT USED</td>\n",
              "      <td>DID NOT DEPLOY</td>\n",
              "      <td>NO INDICATION OF INJURY</td>\n",
              "      <td>751923.0</td>\n",
              "      <td>DODGE</td>\n",
              "      <td>CHARGER</td>\n",
              "      <td>1970-01-01 00:00:00.000002014</td>\n",
              "      <td>PASSENGER</td>\n",
              "      <td>DODGE CHARGER</td>\n",
              "    </tr>\n",
              "    <tr>\n",
              "      <th>574855</th>\n",
              "      <td>1347ce495081e41211eb418532b2f229f752a73823b563...</td>\n",
              "      <td>2018-11-21 18:35:00</td>\n",
              "      <td>None</td>\n",
              "      <td>CLEAR</td>\n",
              "      <td>DARKNESS, LIGHTED ROAD</td>\n",
              "      <td>INJURY AND / OR TOW DUE TO CRASH</td>\n",
              "      <td>OVER $1,500</td>\n",
              "      <td>0.0</td>\n",
              "      <td>0.0</td>\n",
              "      <td>0.0</td>\n",
              "      <td>...</td>\n",
              "      <td>29.0</td>\n",
              "      <td>None</td>\n",
              "      <td>DID NOT DEPLOY</td>\n",
              "      <td>NO INDICATION OF INJURY</td>\n",
              "      <td>503343.0</td>\n",
              "      <td>DODGE</td>\n",
              "      <td>DART</td>\n",
              "      <td>1970-01-01 00:00:00.000002013</td>\n",
              "      <td>PASSENGER</td>\n",
              "      <td>DODGE DART</td>\n",
              "    </tr>\n",
              "    <tr>\n",
              "      <th>517465</th>\n",
              "      <td>0a524b4c05f1fef09e04b8d07c3bad996203a3257f4620...</td>\n",
              "      <td>2019-11-15 18:00:00</td>\n",
              "      <td>FUNCTIONING PROPERLY</td>\n",
              "      <td>CLEAR</td>\n",
              "      <td>DARKNESS, LIGHTED ROAD</td>\n",
              "      <td>NO INJURY / DRIVE AWAY</td>\n",
              "      <td>$501 - $1,500</td>\n",
              "      <td>0.0</td>\n",
              "      <td>0.0</td>\n",
              "      <td>0.0</td>\n",
              "      <td>...</td>\n",
              "      <td>59.0</td>\n",
              "      <td>SAFETY BELT USED</td>\n",
              "      <td>DID NOT DEPLOY</td>\n",
              "      <td>NO INDICATION OF INJURY</td>\n",
              "      <td>743948.0</td>\n",
              "      <td>HONDA</td>\n",
              "      <td>None</td>\n",
              "      <td>1970-01-01 00:00:00.000002017</td>\n",
              "      <td>PASSENGER</td>\n",
              "      <td>NaN</td>\n",
              "    </tr>\n",
              "    <tr>\n",
              "      <th>3198118</th>\n",
              "      <td>a26884481808cec75ccc483bd4ed826a1f57cefc2aaf89...</td>\n",
              "      <td>2022-11-23 14:06:00</td>\n",
              "      <td>FUNCTIONING PROPERLY</td>\n",
              "      <td>CLEAR</td>\n",
              "      <td>DAYLIGHT</td>\n",
              "      <td>INJURY AND / OR TOW DUE TO CRASH</td>\n",
              "      <td>OVER $1,500</td>\n",
              "      <td>0.0</td>\n",
              "      <td>0.0</td>\n",
              "      <td>0.0</td>\n",
              "      <td>...</td>\n",
              "      <td>65.0</td>\n",
              "      <td>None</td>\n",
              "      <td>None</td>\n",
              "      <td>NO INDICATION OF INJURY</td>\n",
              "      <td>1395406.0</td>\n",
              "      <td>TOYOTA</td>\n",
              "      <td>SIENNA</td>\n",
              "      <td>1970-01-01 00:00:00.000002006</td>\n",
              "      <td>VAN/MINI-VAN</td>\n",
              "      <td>TOYOTA SIENNA</td>\n",
              "    </tr>\n",
              "    <tr>\n",
              "      <th>1105782</th>\n",
              "      <td>429f0c812e2a963d2c46dce00b0f3082698c0e17f3a049...</td>\n",
              "      <td>2015-09-27 21:00:00</td>\n",
              "      <td>FUNCTIONING PROPERLY</td>\n",
              "      <td>CLEAR</td>\n",
              "      <td>DARKNESS, LIGHTED ROAD</td>\n",
              "      <td>NO INJURY / DRIVE AWAY</td>\n",
              "      <td>OVER $1,500</td>\n",
              "      <td>0.0</td>\n",
              "      <td>0.0</td>\n",
              "      <td>0.0</td>\n",
              "      <td>...</td>\n",
              "      <td>43.0</td>\n",
              "      <td>None</td>\n",
              "      <td>DID NOT DEPLOY</td>\n",
              "      <td>NO INDICATION OF INJURY</td>\n",
              "      <td>3568.0</td>\n",
              "      <td>None</td>\n",
              "      <td>None</td>\n",
              "      <td>NaT</td>\n",
              "      <td>UNKNOWN/NA</td>\n",
              "      <td>NaN</td>\n",
              "    </tr>\n",
              "    <tr>\n",
              "      <th>2244819</th>\n",
              "      <td>bda13c623ea765bfdf329ebac4fa280db5759ff09f810d...</td>\n",
              "      <td>2022-01-16 09:25:00</td>\n",
              "      <td>NO CONTROLS</td>\n",
              "      <td>CLEAR</td>\n",
              "      <td>DAYLIGHT</td>\n",
              "      <td>INJURY AND / OR TOW DUE TO CRASH</td>\n",
              "      <td>OVER $1,500</td>\n",
              "      <td>1.0</td>\n",
              "      <td>0.0</td>\n",
              "      <td>0.0</td>\n",
              "      <td>...</td>\n",
              "      <td>56.0</td>\n",
              "      <td>SAFETY BELT USED</td>\n",
              "      <td>DEPLOYED, FRONT</td>\n",
              "      <td>NO INDICATION OF INJURY</td>\n",
              "      <td>1199841.0</td>\n",
              "      <td>CHEVROLET</td>\n",
              "      <td>IMPALA</td>\n",
              "      <td>1970-01-01 00:00:00.000002009</td>\n",
              "      <td>PASSENGER</td>\n",
              "      <td>CHEVROLET IMPALA</td>\n",
              "    </tr>\n",
              "    <tr>\n",
              "      <th>2475215</th>\n",
              "      <td>d1dab5c85cc1b968582d54d93e0b2b3509cb06d8be8cfa...</td>\n",
              "      <td>2017-06-02 16:00:00</td>\n",
              "      <td>NO CONTROLS</td>\n",
              "      <td>CLEAR</td>\n",
              "      <td>DAYLIGHT</td>\n",
              "      <td>INJURY AND / OR TOW DUE TO CRASH</td>\n",
              "      <td>OVER $1,500</td>\n",
              "      <td>1.0</td>\n",
              "      <td>0.0</td>\n",
              "      <td>0.0</td>\n",
              "      <td>...</td>\n",
              "      <td>29.0</td>\n",
              "      <td>None</td>\n",
              "      <td>DID NOT DEPLOY</td>\n",
              "      <td>NO INDICATION OF INJURY</td>\n",
              "      <td>164084.0</td>\n",
              "      <td>VOLKSWAGEN</td>\n",
              "      <td>None</td>\n",
              "      <td>1970-01-01 00:00:00.000002003</td>\n",
              "      <td>PASSENGER</td>\n",
              "      <td>NaN</td>\n",
              "    </tr>\n",
              "  </tbody>\n",
              "</table>\n",
              "<p>50 rows × 27 columns</p>\n",
              "</div>\n",
              "      <button class=\"colab-df-convert\" onclick=\"convertToInteractive('df-b25cb784-03d3-4fb6-b961-d6df3cc76e02')\"\n",
              "              title=\"Convert this dataframe to an interactive table.\"\n",
              "              style=\"display:none;\">\n",
              "        \n",
              "  <svg xmlns=\"http://www.w3.org/2000/svg\" height=\"24px\"viewBox=\"0 0 24 24\"\n",
              "       width=\"24px\">\n",
              "    <path d=\"M0 0h24v24H0V0z\" fill=\"none\"/>\n",
              "    <path d=\"M18.56 5.44l.94 2.06.94-2.06 2.06-.94-2.06-.94-.94-2.06-.94 2.06-2.06.94zm-11 1L8.5 8.5l.94-2.06 2.06-.94-2.06-.94L8.5 2.5l-.94 2.06-2.06.94zm10 10l.94 2.06.94-2.06 2.06-.94-2.06-.94-.94-2.06-.94 2.06-2.06.94z\"/><path d=\"M17.41 7.96l-1.37-1.37c-.4-.4-.92-.59-1.43-.59-.52 0-1.04.2-1.43.59L10.3 9.45l-7.72 7.72c-.78.78-.78 2.05 0 2.83L4 21.41c.39.39.9.59 1.41.59.51 0 1.02-.2 1.41-.59l7.78-7.78 2.81-2.81c.8-.78.8-2.07 0-2.86zM5.41 20L4 18.59l7.72-7.72 1.47 1.35L5.41 20z\"/>\n",
              "  </svg>\n",
              "      </button>\n",
              "      \n",
              "  <style>\n",
              "    .colab-df-container {\n",
              "      display:flex;\n",
              "      flex-wrap:wrap;\n",
              "      gap: 12px;\n",
              "    }\n",
              "\n",
              "    .colab-df-convert {\n",
              "      background-color: #E8F0FE;\n",
              "      border: none;\n",
              "      border-radius: 50%;\n",
              "      cursor: pointer;\n",
              "      display: none;\n",
              "      fill: #1967D2;\n",
              "      height: 32px;\n",
              "      padding: 0 0 0 0;\n",
              "      width: 32px;\n",
              "    }\n",
              "\n",
              "    .colab-df-convert:hover {\n",
              "      background-color: #E2EBFA;\n",
              "      box-shadow: 0px 1px 2px rgba(60, 64, 67, 0.3), 0px 1px 3px 1px rgba(60, 64, 67, 0.15);\n",
              "      fill: #174EA6;\n",
              "    }\n",
              "\n",
              "    [theme=dark] .colab-df-convert {\n",
              "      background-color: #3B4455;\n",
              "      fill: #D2E3FC;\n",
              "    }\n",
              "\n",
              "    [theme=dark] .colab-df-convert:hover {\n",
              "      background-color: #434B5C;\n",
              "      box-shadow: 0px 1px 3px 1px rgba(0, 0, 0, 0.15);\n",
              "      filter: drop-shadow(0px 1px 2px rgba(0, 0, 0, 0.3));\n",
              "      fill: #FFFFFF;\n",
              "    }\n",
              "  </style>\n",
              "\n",
              "      <script>\n",
              "        const buttonEl =\n",
              "          document.querySelector('#df-b25cb784-03d3-4fb6-b961-d6df3cc76e02 button.colab-df-convert');\n",
              "        buttonEl.style.display =\n",
              "          google.colab.kernel.accessAllowed ? 'block' : 'none';\n",
              "\n",
              "        async function convertToInteractive(key) {\n",
              "          const element = document.querySelector('#df-b25cb784-03d3-4fb6-b961-d6df3cc76e02');\n",
              "          const dataTable =\n",
              "            await google.colab.kernel.invokeFunction('convertToInteractive',\n",
              "                                                     [key], {});\n",
              "          if (!dataTable) return;\n",
              "\n",
              "          const docLinkHtml = 'Like what you see? Visit the ' +\n",
              "            '<a target=\"_blank\" href=https://colab.research.google.com/notebooks/data_table.ipynb>data table notebook</a>'\n",
              "            + ' to learn more about interactive tables.';\n",
              "          element.innerHTML = '';\n",
              "          dataTable['output_type'] = 'display_data';\n",
              "          await google.colab.output.renderOutput(dataTable, element);\n",
              "          const docLink = document.createElement('div');\n",
              "          docLink.innerHTML = docLinkHtml;\n",
              "          element.appendChild(docLink);\n",
              "        }\n",
              "      </script>\n",
              "    </div>\n",
              "  </div>\n",
              "  "
            ]
          },
          "metadata": {},
          "execution_count": 42
        }
      ]
    },
    {
      "cell_type": "code",
      "source": [
        "#Let's see how many rows and columns we have as a final result\n",
        "merged_df.shape"
      ],
      "metadata": {
        "colab": {
          "base_uri": "https://localhost:8080/"
        },
        "id": "GZEn1OO_19rJ",
        "outputId": "d9586134-587f-4db8-a1f3-02fedc0d4329"
      },
      "execution_count": null,
      "outputs": [
        {
          "output_type": "execute_result",
          "data": {
            "text/plain": [
              "(3199776, 27)"
            ]
          },
          "metadata": {},
          "execution_count": 82
        }
      ]
    },
    {
      "cell_type": "markdown",
      "source": [
        "## Writing the Data\n",
        "After the manupulations, we want to save it for use in the future. We want to store the final dataset to a csv(comma seperated values) file.\n"
      ],
      "metadata": {
        "id": "cUBxonyj8F9H"
      }
    },
    {
      "cell_type": "code",
      "source": [
        "# Define the output directory and file name\n",
        "output_directory = \"/ADS_Milestone1/\"\n",
        "filename = 'final.csv'\n",
        "\n",
        "# Create the directory if it does not exist\n",
        "if not os.path.exists(output_directory):\n",
        "    os.makedirs(output_directory)\n",
        "\n",
        "# Save the DataFrame as a CSV file\n",
        "merged_df.to_csv(\"/content/drive/MyDrive/ADS_Milestone1/final.csv\", index=False)"
      ],
      "metadata": {
        "id": "tkSkSvTQqpot"
      },
      "execution_count": null,
      "outputs": []
    }
  ]
}